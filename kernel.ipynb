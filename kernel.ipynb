{
  "cells": [
    {
      "metadata": {
        "_uuid": "8f2839f25d086af736a60e9eeb907d3b93b6e0e5",
        "_cell_guid": "b1076dfc-b9ad-4769-8c92-a6c4dae69d19",
        "trusted": true
      },
      "cell_type": "code",
      "source": "# This Python 3 environment comes with many helpful analytics libraries installed\n# It is defined by the kaggle/python docker image: https://github.com/kaggle/docker-python\n# For example, here's several helpful packages to load in \n\nimport numpy as np # linear algebra\nimport pandas as pd # data processing, CSV file I/O (e.g. pd.read_csv)\nimport sklearn\nimport seaborn as sns\nimport matplotlib.pyplot as plt\n# Input data files are available in the \"../input/\" directory.\n# For example, running this (by clicking run or pressing Shift+Enter) will list the files in the input directory\n\nimport os\nprint(os.listdir(\"../input\"))\n\n# Any results you write to the current directory are saved as output.",
      "execution_count": 76,
      "outputs": [
        {
          "output_type": "stream",
          "text": "['sample_submission.csv', 'test.csv', 'GCP-Coupons-Instructions.rtf', 'train.csv']\n",
          "name": "stdout"
        }
      ]
    },
    {
      "metadata": {
        "_cell_guid": "79c7e3d0-c299-4dcb-8224-4455121ee9b0",
        "_uuid": "d629ff2d2480ee46fbb7e2d37f6b5fab8052498a",
        "trusted": true
      },
      "cell_type": "code",
      "source": "train = pd.read_csv(\"../input/train.csv\", nrows = 1000000)\ntest = pd.read_csv(\"../input/test.csv\")",
      "execution_count": 77,
      "outputs": []
    },
    {
      "metadata": {
        "trusted": true,
        "_uuid": "9f40086d1dc509f75c15902456662cac45afb7ed"
      },
      "cell_type": "code",
      "source": "train.shape",
      "execution_count": 78,
      "outputs": [
        {
          "output_type": "execute_result",
          "execution_count": 78,
          "data": {
            "text/plain": "(1000000, 8)"
          },
          "metadata": {}
        }
      ]
    },
    {
      "metadata": {
        "trusted": true,
        "_uuid": "1ab2d7f4783ebc36d736f377d2bca2c6ffec492b"
      },
      "cell_type": "code",
      "source": "test.shape",
      "execution_count": 79,
      "outputs": [
        {
          "output_type": "execute_result",
          "execution_count": 79,
          "data": {
            "text/plain": "(9914, 7)"
          },
          "metadata": {}
        }
      ]
    },
    {
      "metadata": {
        "trusted": true,
        "_uuid": "3d322f88c05606a0433111bb3bc7b98b23ed45bd"
      },
      "cell_type": "code",
      "source": "train.head(20)",
      "execution_count": 80,
      "outputs": [
        {
          "output_type": "execute_result",
          "execution_count": 80,
          "data": {
            "text/plain": "                              key       ...         passenger_count\n0     2009-06-15 17:26:21.0000001       ...                       1\n1     2010-01-05 16:52:16.0000002       ...                       1\n2    2011-08-18 00:35:00.00000049       ...                       2\n3     2012-04-21 04:30:42.0000001       ...                       1\n4   2010-03-09 07:51:00.000000135       ...                       1\n5     2011-01-06 09:50:45.0000002       ...                       1\n6     2012-11-20 20:35:00.0000001       ...                       1\n7    2012-01-04 17:22:00.00000081       ...                       1\n8   2012-12-03 13:10:00.000000125       ...                       1\n9    2009-09-02 01:11:00.00000083       ...                       2\n10    2012-04-08 07:30:50.0000002       ...                       1\n11   2012-12-24 11:24:00.00000098       ...                       3\n12    2009-11-06 01:04:03.0000002       ...                       2\n13  2013-07-02 19:54:00.000000232       ...                       1\n14    2011-04-05 17:11:05.0000001       ...                       2\n15  2013-11-23 12:57:00.000000190       ...                       1\n16   2014-02-19 07:22:00.00000074       ...                       1\n17  2009-07-22 16:08:00.000000163       ...                       1\n18   2010-07-07 14:52:00.00000044       ...                       1\n19    2014-12-06 20:36:22.0000008       ...                       1\n\n[20 rows x 8 columns]",
            "text/html": "<div>\n<style scoped>\n    .dataframe tbody tr th:only-of-type {\n        vertical-align: middle;\n    }\n\n    .dataframe tbody tr th {\n        vertical-align: top;\n    }\n\n    .dataframe thead th {\n        text-align: right;\n    }\n</style>\n<table border=\"1\" class=\"dataframe\">\n  <thead>\n    <tr style=\"text-align: right;\">\n      <th></th>\n      <th>key</th>\n      <th>fare_amount</th>\n      <th>pickup_datetime</th>\n      <th>pickup_longitude</th>\n      <th>pickup_latitude</th>\n      <th>dropoff_longitude</th>\n      <th>dropoff_latitude</th>\n      <th>passenger_count</th>\n    </tr>\n  </thead>\n  <tbody>\n    <tr>\n      <th>0</th>\n      <td>2009-06-15 17:26:21.0000001</td>\n      <td>4.5</td>\n      <td>2009-06-15 17:26:21 UTC</td>\n      <td>-73.844311</td>\n      <td>40.721319</td>\n      <td>-73.841610</td>\n      <td>40.712278</td>\n      <td>1</td>\n    </tr>\n    <tr>\n      <th>1</th>\n      <td>2010-01-05 16:52:16.0000002</td>\n      <td>16.9</td>\n      <td>2010-01-05 16:52:16 UTC</td>\n      <td>-74.016048</td>\n      <td>40.711303</td>\n      <td>-73.979268</td>\n      <td>40.782004</td>\n      <td>1</td>\n    </tr>\n    <tr>\n      <th>2</th>\n      <td>2011-08-18 00:35:00.00000049</td>\n      <td>5.7</td>\n      <td>2011-08-18 00:35:00 UTC</td>\n      <td>-73.982738</td>\n      <td>40.761270</td>\n      <td>-73.991242</td>\n      <td>40.750562</td>\n      <td>2</td>\n    </tr>\n    <tr>\n      <th>3</th>\n      <td>2012-04-21 04:30:42.0000001</td>\n      <td>7.7</td>\n      <td>2012-04-21 04:30:42 UTC</td>\n      <td>-73.987130</td>\n      <td>40.733143</td>\n      <td>-73.991567</td>\n      <td>40.758092</td>\n      <td>1</td>\n    </tr>\n    <tr>\n      <th>4</th>\n      <td>2010-03-09 07:51:00.000000135</td>\n      <td>5.3</td>\n      <td>2010-03-09 07:51:00 UTC</td>\n      <td>-73.968095</td>\n      <td>40.768008</td>\n      <td>-73.956655</td>\n      <td>40.783762</td>\n      <td>1</td>\n    </tr>\n    <tr>\n      <th>5</th>\n      <td>2011-01-06 09:50:45.0000002</td>\n      <td>12.1</td>\n      <td>2011-01-06 09:50:45 UTC</td>\n      <td>-74.000964</td>\n      <td>40.731630</td>\n      <td>-73.972892</td>\n      <td>40.758233</td>\n      <td>1</td>\n    </tr>\n    <tr>\n      <th>6</th>\n      <td>2012-11-20 20:35:00.0000001</td>\n      <td>7.5</td>\n      <td>2012-11-20 20:35:00 UTC</td>\n      <td>-73.980002</td>\n      <td>40.751662</td>\n      <td>-73.973802</td>\n      <td>40.764842</td>\n      <td>1</td>\n    </tr>\n    <tr>\n      <th>7</th>\n      <td>2012-01-04 17:22:00.00000081</td>\n      <td>16.5</td>\n      <td>2012-01-04 17:22:00 UTC</td>\n      <td>-73.951300</td>\n      <td>40.774138</td>\n      <td>-73.990095</td>\n      <td>40.751048</td>\n      <td>1</td>\n    </tr>\n    <tr>\n      <th>8</th>\n      <td>2012-12-03 13:10:00.000000125</td>\n      <td>9.0</td>\n      <td>2012-12-03 13:10:00 UTC</td>\n      <td>-74.006462</td>\n      <td>40.726713</td>\n      <td>-73.993078</td>\n      <td>40.731628</td>\n      <td>1</td>\n    </tr>\n    <tr>\n      <th>9</th>\n      <td>2009-09-02 01:11:00.00000083</td>\n      <td>8.9</td>\n      <td>2009-09-02 01:11:00 UTC</td>\n      <td>-73.980658</td>\n      <td>40.733873</td>\n      <td>-73.991540</td>\n      <td>40.758138</td>\n      <td>2</td>\n    </tr>\n    <tr>\n      <th>10</th>\n      <td>2012-04-08 07:30:50.0000002</td>\n      <td>5.3</td>\n      <td>2012-04-08 07:30:50 UTC</td>\n      <td>-73.996335</td>\n      <td>40.737142</td>\n      <td>-73.980721</td>\n      <td>40.733559</td>\n      <td>1</td>\n    </tr>\n    <tr>\n      <th>11</th>\n      <td>2012-12-24 11:24:00.00000098</td>\n      <td>5.5</td>\n      <td>2012-12-24 11:24:00 UTC</td>\n      <td>0.000000</td>\n      <td>0.000000</td>\n      <td>0.000000</td>\n      <td>0.000000</td>\n      <td>3</td>\n    </tr>\n    <tr>\n      <th>12</th>\n      <td>2009-11-06 01:04:03.0000002</td>\n      <td>4.1</td>\n      <td>2009-11-06 01:04:03 UTC</td>\n      <td>-73.991601</td>\n      <td>40.744712</td>\n      <td>-73.983081</td>\n      <td>40.744682</td>\n      <td>2</td>\n    </tr>\n    <tr>\n      <th>13</th>\n      <td>2013-07-02 19:54:00.000000232</td>\n      <td>7.0</td>\n      <td>2013-07-02 19:54:00 UTC</td>\n      <td>-74.005360</td>\n      <td>40.728867</td>\n      <td>-74.008913</td>\n      <td>40.710907</td>\n      <td>1</td>\n    </tr>\n    <tr>\n      <th>14</th>\n      <td>2011-04-05 17:11:05.0000001</td>\n      <td>7.7</td>\n      <td>2011-04-05 17:11:05 UTC</td>\n      <td>-74.001821</td>\n      <td>40.737547</td>\n      <td>-73.998060</td>\n      <td>40.722788</td>\n      <td>2</td>\n    </tr>\n    <tr>\n      <th>15</th>\n      <td>2013-11-23 12:57:00.000000190</td>\n      <td>5.0</td>\n      <td>2013-11-23 12:57:00 UTC</td>\n      <td>0.000000</td>\n      <td>0.000000</td>\n      <td>0.000000</td>\n      <td>0.000000</td>\n      <td>1</td>\n    </tr>\n    <tr>\n      <th>16</th>\n      <td>2014-02-19 07:22:00.00000074</td>\n      <td>12.5</td>\n      <td>2014-02-19 07:22:00 UTC</td>\n      <td>-73.986430</td>\n      <td>40.760465</td>\n      <td>-73.988990</td>\n      <td>40.737075</td>\n      <td>1</td>\n    </tr>\n    <tr>\n      <th>17</th>\n      <td>2009-07-22 16:08:00.000000163</td>\n      <td>5.3</td>\n      <td>2009-07-22 16:08:00 UTC</td>\n      <td>-73.981060</td>\n      <td>40.737690</td>\n      <td>-73.994177</td>\n      <td>40.728412</td>\n      <td>1</td>\n    </tr>\n    <tr>\n      <th>18</th>\n      <td>2010-07-07 14:52:00.00000044</td>\n      <td>5.3</td>\n      <td>2010-07-07 14:52:00 UTC</td>\n      <td>-73.969505</td>\n      <td>40.784843</td>\n      <td>-73.958732</td>\n      <td>40.783357</td>\n      <td>1</td>\n    </tr>\n    <tr>\n      <th>19</th>\n      <td>2014-12-06 20:36:22.0000008</td>\n      <td>4.0</td>\n      <td>2014-12-06 20:36:22 UTC</td>\n      <td>-73.979815</td>\n      <td>40.751902</td>\n      <td>-73.979446</td>\n      <td>40.755481</td>\n      <td>1</td>\n    </tr>\n  </tbody>\n</table>\n</div>"
          },
          "metadata": {}
        }
      ]
    },
    {
      "metadata": {
        "trusted": true,
        "_uuid": "666bd4bf8849fcaf8523b1f5b3d182736e1ebef1"
      },
      "cell_type": "code",
      "source": "train.describe()",
      "execution_count": 81,
      "outputs": [
        {
          "output_type": "execute_result",
          "execution_count": 81,
          "data": {
            "text/plain": "          fare_amount       ...         passenger_count\ncount  1000000.000000       ...          1000000.000000\nmean        11.348079       ...                1.684924\nstd          9.822090       ...                1.323911\nmin        -44.900000       ...                0.000000\n25%          6.000000       ...                1.000000\n50%          8.500000       ...                1.000000\n75%         12.500000       ...                2.000000\nmax        500.000000       ...              208.000000\n\n[8 rows x 6 columns]",
            "text/html": "<div>\n<style scoped>\n    .dataframe tbody tr th:only-of-type {\n        vertical-align: middle;\n    }\n\n    .dataframe tbody tr th {\n        vertical-align: top;\n    }\n\n    .dataframe thead th {\n        text-align: right;\n    }\n</style>\n<table border=\"1\" class=\"dataframe\">\n  <thead>\n    <tr style=\"text-align: right;\">\n      <th></th>\n      <th>fare_amount</th>\n      <th>pickup_longitude</th>\n      <th>pickup_latitude</th>\n      <th>dropoff_longitude</th>\n      <th>dropoff_latitude</th>\n      <th>passenger_count</th>\n    </tr>\n  </thead>\n  <tbody>\n    <tr>\n      <th>count</th>\n      <td>1000000.000000</td>\n      <td>1000000.000000</td>\n      <td>1000000.000000</td>\n      <td>999990.000000</td>\n      <td>999990.000000</td>\n      <td>1000000.000000</td>\n    </tr>\n    <tr>\n      <th>mean</th>\n      <td>11.348079</td>\n      <td>-72.526640</td>\n      <td>39.929008</td>\n      <td>-72.527860</td>\n      <td>39.919954</td>\n      <td>1.684924</td>\n    </tr>\n    <tr>\n      <th>std</th>\n      <td>9.822090</td>\n      <td>12.057937</td>\n      <td>7.626154</td>\n      <td>11.324494</td>\n      <td>8.201418</td>\n      <td>1.323911</td>\n    </tr>\n    <tr>\n      <th>min</th>\n      <td>-44.900000</td>\n      <td>-3377.680935</td>\n      <td>-3116.285383</td>\n      <td>-3383.296608</td>\n      <td>-3114.338567</td>\n      <td>0.000000</td>\n    </tr>\n    <tr>\n      <th>25%</th>\n      <td>6.000000</td>\n      <td>-73.992060</td>\n      <td>40.734965</td>\n      <td>-73.991385</td>\n      <td>40.734046</td>\n      <td>1.000000</td>\n    </tr>\n    <tr>\n      <th>50%</th>\n      <td>8.500000</td>\n      <td>-73.981792</td>\n      <td>40.752695</td>\n      <td>-73.980135</td>\n      <td>40.753166</td>\n      <td>1.000000</td>\n    </tr>\n    <tr>\n      <th>75%</th>\n      <td>12.500000</td>\n      <td>-73.967094</td>\n      <td>40.767154</td>\n      <td>-73.963654</td>\n      <td>40.768129</td>\n      <td>2.000000</td>\n    </tr>\n    <tr>\n      <th>max</th>\n      <td>500.000000</td>\n      <td>2522.271325</td>\n      <td>2621.628430</td>\n      <td>45.581619</td>\n      <td>1651.553433</td>\n      <td>208.000000</td>\n    </tr>\n  </tbody>\n</table>\n</div>"
          },
          "metadata": {}
        }
      ]
    },
    {
      "metadata": {
        "trusted": true,
        "_uuid": "4cd7f90c9780526c1fee7aefd4ef2bb3f251583a"
      },
      "cell_type": "code",
      "source": "train.isnull().sum().sort_values(ascending = False)",
      "execution_count": 82,
      "outputs": [
        {
          "output_type": "execute_result",
          "execution_count": 82,
          "data": {
            "text/plain": "dropoff_latitude     10\ndropoff_longitude    10\npassenger_count       0\npickup_latitude       0\npickup_longitude      0\npickup_datetime       0\nfare_amount           0\nkey                   0\ndtype: int64"
          },
          "metadata": {}
        }
      ]
    },
    {
      "metadata": {
        "trusted": true,
        "_uuid": "bbcf88841548b011bcbaa2a2de79ef1a30377336"
      },
      "cell_type": "code",
      "source": "test.isnull().sum().sort_values(ascending = False)",
      "execution_count": 83,
      "outputs": [
        {
          "output_type": "execute_result",
          "execution_count": 83,
          "data": {
            "text/plain": "passenger_count      0\ndropoff_latitude     0\ndropoff_longitude    0\npickup_latitude      0\npickup_longitude     0\npickup_datetime      0\nkey                  0\ndtype: int64"
          },
          "metadata": {}
        }
      ]
    },
    {
      "metadata": {
        "trusted": true,
        "_uuid": "c0272f7b9a6928594de461c4486b375ac04748ee"
      },
      "cell_type": "code",
      "source": "train = train.drop(train[train.isnull().any(1)].index)",
      "execution_count": 84,
      "outputs": []
    },
    {
      "metadata": {
        "trusted": true,
        "_uuid": "98fb1a055c6f0f1b868aa3e2f3780387598a5d91"
      },
      "cell_type": "code",
      "source": "train.shape",
      "execution_count": 85,
      "outputs": [
        {
          "output_type": "execute_result",
          "execution_count": 85,
          "data": {
            "text/plain": "(999990, 8)"
          },
          "metadata": {}
        }
      ]
    },
    {
      "metadata": {
        "trusted": true,
        "_uuid": "6ea36a4d7c4a80aa00480612d16f234c03c3a5c4"
      },
      "cell_type": "code",
      "source": "train.describe()",
      "execution_count": 86,
      "outputs": [
        {
          "output_type": "execute_result",
          "execution_count": 86,
          "data": {
            "text/plain": "         fare_amount       ...         passenger_count\ncount  999990.000000       ...           999990.000000\nmean       11.347953       ...                1.684941\nstd         9.821790       ...                1.323907\nmin       -44.900000       ...                0.000000\n25%         6.000000       ...                1.000000\n50%         8.500000       ...                1.000000\n75%        12.500000       ...                2.000000\nmax       500.000000       ...              208.000000\n\n[8 rows x 6 columns]",
            "text/html": "<div>\n<style scoped>\n    .dataframe tbody tr th:only-of-type {\n        vertical-align: middle;\n    }\n\n    .dataframe tbody tr th {\n        vertical-align: top;\n    }\n\n    .dataframe thead th {\n        text-align: right;\n    }\n</style>\n<table border=\"1\" class=\"dataframe\">\n  <thead>\n    <tr style=\"text-align: right;\">\n      <th></th>\n      <th>fare_amount</th>\n      <th>pickup_longitude</th>\n      <th>pickup_latitude</th>\n      <th>dropoff_longitude</th>\n      <th>dropoff_latitude</th>\n      <th>passenger_count</th>\n    </tr>\n  </thead>\n  <tbody>\n    <tr>\n      <th>count</th>\n      <td>999990.000000</td>\n      <td>999990.000000</td>\n      <td>999990.000000</td>\n      <td>999990.000000</td>\n      <td>999990.000000</td>\n      <td>999990.000000</td>\n    </tr>\n    <tr>\n      <th>mean</th>\n      <td>11.347953</td>\n      <td>-72.526699</td>\n      <td>39.929040</td>\n      <td>-72.527860</td>\n      <td>39.919954</td>\n      <td>1.684941</td>\n    </tr>\n    <tr>\n      <th>std</th>\n      <td>9.821790</td>\n      <td>12.057778</td>\n      <td>7.626087</td>\n      <td>11.324494</td>\n      <td>8.201418</td>\n      <td>1.323907</td>\n    </tr>\n    <tr>\n      <th>min</th>\n      <td>-44.900000</td>\n      <td>-3377.680935</td>\n      <td>-3116.285383</td>\n      <td>-3383.296608</td>\n      <td>-3114.338567</td>\n      <td>0.000000</td>\n    </tr>\n    <tr>\n      <th>25%</th>\n      <td>6.000000</td>\n      <td>-73.992060</td>\n      <td>40.734965</td>\n      <td>-73.991385</td>\n      <td>40.734046</td>\n      <td>1.000000</td>\n    </tr>\n    <tr>\n      <th>50%</th>\n      <td>8.500000</td>\n      <td>-73.981792</td>\n      <td>40.752695</td>\n      <td>-73.980135</td>\n      <td>40.753166</td>\n      <td>1.000000</td>\n    </tr>\n    <tr>\n      <th>75%</th>\n      <td>12.500000</td>\n      <td>-73.967094</td>\n      <td>40.767154</td>\n      <td>-73.963654</td>\n      <td>40.768129</td>\n      <td>2.000000</td>\n    </tr>\n    <tr>\n      <th>max</th>\n      <td>500.000000</td>\n      <td>2522.271325</td>\n      <td>2621.628430</td>\n      <td>45.581619</td>\n      <td>1651.553433</td>\n      <td>208.000000</td>\n    </tr>\n  </tbody>\n</table>\n</div>"
          },
          "metadata": {}
        }
      ]
    },
    {
      "metadata": {
        "trusted": true,
        "_uuid": "086bc388963cd602d7757cac158befa2681a4e5f"
      },
      "cell_type": "code",
      "source": "from collections import Counter",
      "execution_count": 87,
      "outputs": []
    },
    {
      "metadata": {
        "trusted": true,
        "_uuid": "f6960e392a6127a48d1f8dbcba000045b36b1bee"
      },
      "cell_type": "code",
      "source": "Counter(train['fare_amount']<0)",
      "execution_count": 88,
      "outputs": [
        {
          "output_type": "execute_result",
          "execution_count": 88,
          "data": {
            "text/plain": "Counter({False: 999952, True: 38})"
          },
          "metadata": {}
        }
      ]
    },
    {
      "metadata": {
        "trusted": true,
        "_uuid": "5898fdb02233cb38d4b234806695c68872bbc7a5"
      },
      "cell_type": "code",
      "source": "train = train.drop(train[train['fare_amount']<0].index, axis = 0)",
      "execution_count": 89,
      "outputs": []
    },
    {
      "metadata": {
        "trusted": true,
        "_uuid": "360e59246333a1e2f97ab26e2e2af191d1d20795"
      },
      "cell_type": "code",
      "source": "train['fare_amount'].describe()",
      "execution_count": 90,
      "outputs": [
        {
          "output_type": "execute_result",
          "execution_count": 90,
          "data": {
            "text/plain": "count    999952.000000\nmean         11.348616\nstd           9.821249\nmin           0.000000\n25%           6.000000\n50%           8.500000\n75%          12.500000\nmax         500.000000\nName: fare_amount, dtype: float64"
          },
          "metadata": {}
        }
      ]
    },
    {
      "metadata": {
        "trusted": true,
        "_uuid": "38b36a922bcf48a53e0c834f13a4d23181f6a3ba"
      },
      "cell_type": "code",
      "source": "train['fare_amount'].sort_values( ascending = False)",
      "execution_count": 91,
      "outputs": [
        {
          "output_type": "execute_result",
          "execution_count": 91,
          "data": {
            "text/plain": "101885    500.00\n247671    495.00\n287638    450.00\n233874    450.00\n329010    450.00\n361793    400.00\n451974    400.00\n951810    347.54\n578919    287.08\n130460    281.05\n309769    263.25\n719764    262.04\n142550    255.00\n888472    250.25\n351584    250.00\n217225    245.41\n786490    243.00\n149769    240.00\n168218    235.00\n202499    225.00\n612128    220.00\n806692    220.00\n196990    217.00\n784935    215.00\n416989    215.00\n225249    215.00\n285659    214.33\n110337    212.00\n215662    211.44\n979151    210.00\n           ...  \n671873      0.01\n895361      0.00\n762802      0.00\n331597      0.00\n266485      0.00\n520715      0.00\n670254      0.00\n489767      0.00\n938020      0.00\n27891       0.00\n897211      0.00\n788466      0.00\n957590      0.00\n930680      0.00\n386734      0.00\n47302       0.00\n760662      0.00\n942215      0.00\n431819      0.00\n949564      0.00\n436658      0.00\n175352      0.00\n10002       0.00\n561786      0.00\n681342      0.00\n689250      0.00\n211455      0.00\n211499      0.00\n105051      0.00\n495273      0.00\nName: fare_amount, Length: 999952, dtype: float64"
          },
          "metadata": {}
        }
      ]
    },
    {
      "metadata": {
        "trusted": true,
        "_uuid": "d787293a1d61266d9bd6efdd29c4df2712c5c7b3"
      },
      "cell_type": "code",
      "source": "train['passenger_count'].describe()",
      "execution_count": 92,
      "outputs": [
        {
          "output_type": "execute_result",
          "execution_count": 92,
          "data": {
            "text/plain": "count    999952.000000\nmean          1.684942\nstd           1.323908\nmin           0.000000\n25%           1.000000\n50%           1.000000\n75%           2.000000\nmax         208.000000\nName: passenger_count, dtype: float64"
          },
          "metadata": {}
        }
      ]
    },
    {
      "metadata": {
        "trusted": true,
        "_uuid": "96d45be4ca30ce16ba1b9143da89c3119b6a63ed"
      },
      "cell_type": "code",
      "source": "train[train['passenger_count'] > 6]",
      "execution_count": 93,
      "outputs": [
        {
          "output_type": "execute_result",
          "execution_count": 93,
          "data": {
            "text/plain": "                                  key       ...         passenger_count\n929022  2009-07-30 11:54:00.000000193       ...                     208\n\n[1 rows x 8 columns]",
            "text/html": "<div>\n<style scoped>\n    .dataframe tbody tr th:only-of-type {\n        vertical-align: middle;\n    }\n\n    .dataframe tbody tr th {\n        vertical-align: top;\n    }\n\n    .dataframe thead th {\n        text-align: right;\n    }\n</style>\n<table border=\"1\" class=\"dataframe\">\n  <thead>\n    <tr style=\"text-align: right;\">\n      <th></th>\n      <th>key</th>\n      <th>fare_amount</th>\n      <th>pickup_datetime</th>\n      <th>pickup_longitude</th>\n      <th>pickup_latitude</th>\n      <th>dropoff_longitude</th>\n      <th>dropoff_latitude</th>\n      <th>passenger_count</th>\n    </tr>\n  </thead>\n  <tbody>\n    <tr>\n      <th>929022</th>\n      <td>2009-07-30 11:54:00.000000193</td>\n      <td>3.3</td>\n      <td>2009-07-30 11:54:00 UTC</td>\n      <td>0.0</td>\n      <td>0.0</td>\n      <td>0.0</td>\n      <td>0.0</td>\n      <td>208</td>\n    </tr>\n  </tbody>\n</table>\n</div>"
          },
          "metadata": {}
        }
      ]
    },
    {
      "metadata": {
        "trusted": true,
        "_uuid": "e9a620ae94a0b09b4f0186ae82ab58ecd81287cc"
      },
      "cell_type": "code",
      "source": "train = train.drop(train[train['passenger_count'] == 208].index, axis = 0)",
      "execution_count": 94,
      "outputs": []
    },
    {
      "metadata": {
        "trusted": true,
        "_uuid": "ad543c1bbb59b9afa668fc57e3f0ac938fd163ce"
      },
      "cell_type": "code",
      "source": "train['passenger_count'].describe()",
      "execution_count": 95,
      "outputs": [
        {
          "output_type": "execute_result",
          "execution_count": 95,
          "data": {
            "text/plain": "count    999951.000000\nmean          1.684736\nstd           1.307733\nmin           0.000000\n25%           1.000000\n50%           1.000000\n75%           2.000000\nmax           6.000000\nName: passenger_count, dtype: float64"
          },
          "metadata": {}
        }
      ]
    },
    {
      "metadata": {
        "trusted": true,
        "_uuid": "381a8b078a69fd6fba199888dd1d91884647d2e9"
      },
      "cell_type": "code",
      "source": "train[train['pickup_latitude'] < -90]",
      "execution_count": 96,
      "outputs": [
        {
          "output_type": "execute_result",
          "execution_count": 96,
          "data": {
            "text/plain": "                                  key       ...         passenger_count\n150559  2012-08-03 07:43:00.000000176       ...                       1\n436233  2012-03-11 01:56:00.000000100       ...                       1\n543001  2011-10-28 13:53:00.000000178       ...                       1\n\n[3 rows x 8 columns]",
            "text/html": "<div>\n<style scoped>\n    .dataframe tbody tr th:only-of-type {\n        vertical-align: middle;\n    }\n\n    .dataframe tbody tr th {\n        vertical-align: top;\n    }\n\n    .dataframe thead th {\n        text-align: right;\n    }\n</style>\n<table border=\"1\" class=\"dataframe\">\n  <thead>\n    <tr style=\"text-align: right;\">\n      <th></th>\n      <th>key</th>\n      <th>fare_amount</th>\n      <th>pickup_datetime</th>\n      <th>pickup_longitude</th>\n      <th>pickup_latitude</th>\n      <th>dropoff_longitude</th>\n      <th>dropoff_latitude</th>\n      <th>passenger_count</th>\n    </tr>\n  </thead>\n  <tbody>\n    <tr>\n      <th>150559</th>\n      <td>2012-08-03 07:43:00.000000176</td>\n      <td>25.3</td>\n      <td>2012-08-03 07:43:00 UTC</td>\n      <td>0.000000</td>\n      <td>-3116.285383</td>\n      <td>-73.953600</td>\n      <td>40.787998</td>\n      <td>1</td>\n    </tr>\n    <tr>\n      <th>436233</th>\n      <td>2012-03-11 01:56:00.000000100</td>\n      <td>4.1</td>\n      <td>2012-03-11 01:56:00 UTC</td>\n      <td>-2986.242495</td>\n      <td>-880.627428</td>\n      <td>-3383.296608</td>\n      <td>-2559.748913</td>\n      <td>1</td>\n    </tr>\n    <tr>\n      <th>543001</th>\n      <td>2011-10-28 13:53:00.000000178</td>\n      <td>5.3</td>\n      <td>2011-10-28 13:53:00 UTC</td>\n      <td>-3377.680935</td>\n      <td>-113.019497</td>\n      <td>-554.918693</td>\n      <td>314.794180</td>\n      <td>1</td>\n    </tr>\n  </tbody>\n</table>\n</div>"
          },
          "metadata": {}
        }
      ]
    },
    {
      "metadata": {
        "trusted": true,
        "_uuid": "c48af06e8a65b38c6d36506f05eb50e49c452b63"
      },
      "cell_type": "code",
      "source": "train[train['pickup_latitude'] > 90]",
      "execution_count": 97,
      "outputs": [
        {
          "output_type": "execute_result",
          "execution_count": 97,
          "data": {
            "text/plain": "                                  key       ...         passenger_count\n5686     2011-07-30 11:15:00.00000082       ...                       1\n174356   2011-11-21 21:36:00.00000081       ...                       1\n272439   2011-04-23 02:55:00.00000012       ...                       1\n464025    2012-03-05 20:58:00.0000009       ...                       1\n505229    2012-03-05 21:08:00.0000006       ...                       1\n505583  2012-03-16 08:13:00.000000272       ...                       1\n688685  2012-03-22 21:40:00.000000188       ...                       1\n708059   2012-05-24 22:44:00.00000088       ...                       1\n970268   2012-04-12 07:31:00.00000027       ...                       1\n\n[9 rows x 8 columns]",
            "text/html": "<div>\n<style scoped>\n    .dataframe tbody tr th:only-of-type {\n        vertical-align: middle;\n    }\n\n    .dataframe tbody tr th {\n        vertical-align: top;\n    }\n\n    .dataframe thead th {\n        text-align: right;\n    }\n</style>\n<table border=\"1\" class=\"dataframe\">\n  <thead>\n    <tr style=\"text-align: right;\">\n      <th></th>\n      <th>key</th>\n      <th>fare_amount</th>\n      <th>pickup_datetime</th>\n      <th>pickup_longitude</th>\n      <th>pickup_latitude</th>\n      <th>dropoff_longitude</th>\n      <th>dropoff_latitude</th>\n      <th>passenger_count</th>\n    </tr>\n  </thead>\n  <tbody>\n    <tr>\n      <th>5686</th>\n      <td>2011-07-30 11:15:00.00000082</td>\n      <td>3.3</td>\n      <td>2011-07-30 11:15:00 UTC</td>\n      <td>-73.947235</td>\n      <td>401.083332</td>\n      <td>-73.951392</td>\n      <td>40.778927</td>\n      <td>1</td>\n    </tr>\n    <tr>\n      <th>174356</th>\n      <td>2011-11-21 21:36:00.00000081</td>\n      <td>9.7</td>\n      <td>2011-11-21 21:36:00 UTC</td>\n      <td>2140.601160</td>\n      <td>1703.092772</td>\n      <td>-1251.195890</td>\n      <td>-1189.615440</td>\n      <td>1</td>\n    </tr>\n    <tr>\n      <th>272439</th>\n      <td>2011-04-23 02:55:00.00000012</td>\n      <td>9.3</td>\n      <td>2011-04-23 02:55:00 UTC</td>\n      <td>-74.002497</td>\n      <td>405.350000</td>\n      <td>-73.978600</td>\n      <td>40.739962</td>\n      <td>1</td>\n    </tr>\n    <tr>\n      <th>464025</th>\n      <td>2012-03-05 20:58:00.0000009</td>\n      <td>6.9</td>\n      <td>2012-03-05 20:58:00 UTC</td>\n      <td>-73.994268</td>\n      <td>404.966667</td>\n      <td>-73.973857</td>\n      <td>40.755457</td>\n      <td>1</td>\n    </tr>\n    <tr>\n      <th>505229</th>\n      <td>2012-03-05 21:08:00.0000006</td>\n      <td>9.3</td>\n      <td>2012-03-05 21:08:00 UTC</td>\n      <td>-73.994268</td>\n      <td>404.966667</td>\n      <td>-73.986387</td>\n      <td>40.776895</td>\n      <td>1</td>\n    </tr>\n    <tr>\n      <th>505583</th>\n      <td>2012-03-16 08:13:00.000000272</td>\n      <td>8.5</td>\n      <td>2012-03-16 08:13:00 UTC</td>\n      <td>-73.994277</td>\n      <td>405.133332</td>\n      <td>-73.956763</td>\n      <td>40.783737</td>\n      <td>1</td>\n    </tr>\n    <tr>\n      <th>688685</th>\n      <td>2012-03-22 21:40:00.000000188</td>\n      <td>17.3</td>\n      <td>2012-03-22 21:40:00 UTC</td>\n      <td>2522.271325</td>\n      <td>2621.628430</td>\n      <td>-1718.117653</td>\n      <td>-2864.471003</td>\n      <td>1</td>\n    </tr>\n    <tr>\n      <th>708059</th>\n      <td>2012-05-24 22:44:00.00000088</td>\n      <td>5.3</td>\n      <td>2012-05-24 22:44:00 UTC</td>\n      <td>-73.989188</td>\n      <td>91.266667</td>\n      <td>-73.982362</td>\n      <td>40.763105</td>\n      <td>1</td>\n    </tr>\n    <tr>\n      <th>970268</th>\n      <td>2012-04-12 07:31:00.00000027</td>\n      <td>5.7</td>\n      <td>2012-04-12 07:31:00 UTC</td>\n      <td>-73.957087</td>\n      <td>424.083332</td>\n      <td>-73.968312</td>\n      <td>40.765117</td>\n      <td>1</td>\n    </tr>\n  </tbody>\n</table>\n</div>"
          },
          "metadata": {}
        }
      ]
    },
    {
      "metadata": {
        "trusted": true,
        "_uuid": "35c7d8d1af0b23c4c956245b8b1777d8392e4ed4"
      },
      "cell_type": "code",
      "source": "train = train.drop(((train[train['pickup_latitude']<-90])|(train[train['pickup_latitude']>90])).index, axis=0)",
      "execution_count": 98,
      "outputs": []
    },
    {
      "metadata": {
        "trusted": true,
        "_uuid": "b940cba635f399f9ee82a56959fb6b32987a0d68"
      },
      "cell_type": "code",
      "source": "train.shape",
      "execution_count": 99,
      "outputs": [
        {
          "output_type": "execute_result",
          "execution_count": 99,
          "data": {
            "text/plain": "(999939, 8)"
          },
          "metadata": {}
        }
      ]
    },
    {
      "metadata": {
        "trusted": true,
        "_uuid": "814904549cf5a7922b7274d3433cb6b7e6fa513b"
      },
      "cell_type": "code",
      "source": "train = train.drop(((train[train['pickup_longitude']<-180])|(train[train['pickup_longitude']>180])).index, axis=0)",
      "execution_count": 100,
      "outputs": []
    },
    {
      "metadata": {
        "trusted": true,
        "_uuid": "25c700a8b201b258c89cf72ce9e486d75d83cd99"
      },
      "cell_type": "code",
      "source": "train.shape",
      "execution_count": 101,
      "outputs": [
        {
          "output_type": "execute_result",
          "execution_count": 101,
          "data": {
            "text/plain": "(999928, 8)"
          },
          "metadata": {}
        }
      ]
    },
    {
      "metadata": {
        "trusted": true,
        "_uuid": "bf07a8be2eb5ba47f9f33feed7b8c157c6a1da60"
      },
      "cell_type": "code",
      "source": "train = train.drop(((train[train['dropoff_latitude']<-90])|(train[train['dropoff_latitude']>90])).index, axis=0)",
      "execution_count": 102,
      "outputs": []
    },
    {
      "metadata": {
        "trusted": true,
        "_uuid": "0e1d8a8a7000aea8cb425857a9665ce35f187092"
      },
      "cell_type": "code",
      "source": "train[train['dropoff_latitude']<-180]|train[train['dropoff_latitude']>180]",
      "execution_count": 103,
      "outputs": [
        {
          "output_type": "execute_result",
          "execution_count": 103,
          "data": {
            "text/plain": "Empty DataFrame\nColumns: [key, fare_amount, pickup_datetime, pickup_longitude, pickup_latitude, dropoff_longitude, dropoff_latitude, passenger_count]\nIndex: []",
            "text/html": "<div>\n<style scoped>\n    .dataframe tbody tr th:only-of-type {\n        vertical-align: middle;\n    }\n\n    .dataframe tbody tr th {\n        vertical-align: top;\n    }\n\n    .dataframe thead th {\n        text-align: right;\n    }\n</style>\n<table border=\"1\" class=\"dataframe\">\n  <thead>\n    <tr style=\"text-align: right;\">\n      <th></th>\n      <th>key</th>\n      <th>fare_amount</th>\n      <th>pickup_datetime</th>\n      <th>pickup_longitude</th>\n      <th>pickup_latitude</th>\n      <th>dropoff_longitude</th>\n      <th>dropoff_latitude</th>\n      <th>passenger_count</th>\n    </tr>\n  </thead>\n  <tbody>\n  </tbody>\n</table>\n</div>"
          },
          "metadata": {}
        }
      ]
    },
    {
      "metadata": {
        "trusted": true,
        "_uuid": "137c42e4567dbea2e4bf5d8bd9753ffbd5a12578"
      },
      "cell_type": "code",
      "source": "train.dtypes",
      "execution_count": 104,
      "outputs": [
        {
          "output_type": "execute_result",
          "execution_count": 104,
          "data": {
            "text/plain": "key                   object\nfare_amount          float64\npickup_datetime       object\npickup_longitude     float64\npickup_latitude      float64\ndropoff_longitude    float64\ndropoff_latitude     float64\npassenger_count        int64\ndtype: object"
          },
          "metadata": {}
        }
      ]
    },
    {
      "metadata": {
        "trusted": true,
        "_uuid": "a4047e200f1c1a2f4e9c7fc2297a1f7f6f8fcfa0"
      },
      "cell_type": "code",
      "source": "train['key'] = pd.to_datetime(train['key'])",
      "execution_count": 105,
      "outputs": []
    },
    {
      "metadata": {
        "trusted": true,
        "_uuid": "77ea4b644f1844a0ffce8368eb1fbe1fb950f33b"
      },
      "cell_type": "code",
      "source": "train['pickup_datetime'] = pd.to_datetime(train['pickup_datetime'])",
      "execution_count": 106,
      "outputs": []
    },
    {
      "metadata": {
        "trusted": true,
        "_uuid": "b491ff88dee4a6b5f3094cfb7afdfb5c1c279c00"
      },
      "cell_type": "code",
      "source": "test['key'] = pd.to_datetime(test['key'])\ntest['pickup_datetime'] = pd.to_datetime(test['pickup_datetime'])",
      "execution_count": 107,
      "outputs": []
    },
    {
      "metadata": {
        "trusted": true,
        "_uuid": "f85c017a82f0816a053f79e24e5d0aaa08cc4d5d"
      },
      "cell_type": "code",
      "source": "train.dtypes",
      "execution_count": 108,
      "outputs": [
        {
          "output_type": "execute_result",
          "execution_count": 108,
          "data": {
            "text/plain": "key                  datetime64[ns]\nfare_amount                 float64\npickup_datetime      datetime64[ns]\npickup_longitude            float64\npickup_latitude             float64\ndropoff_longitude           float64\ndropoff_latitude            float64\npassenger_count               int64\ndtype: object"
          },
          "metadata": {}
        }
      ]
    },
    {
      "metadata": {
        "trusted": true,
        "_uuid": "58cb0d39fdc39e8caed2d42c429886bbbd8ba4b8"
      },
      "cell_type": "code",
      "source": "test.dtypes",
      "execution_count": 109,
      "outputs": [
        {
          "output_type": "execute_result",
          "execution_count": 109,
          "data": {
            "text/plain": "key                  datetime64[ns]\npickup_datetime      datetime64[ns]\npickup_longitude            float64\npickup_latitude             float64\ndropoff_longitude           float64\ndropoff_latitude            float64\npassenger_count               int64\ndtype: object"
          },
          "metadata": {}
        }
      ]
    },
    {
      "metadata": {
        "trusted": true,
        "_uuid": "e32ba9a4e070b12d763867b001ed6fb957e98b4d"
      },
      "cell_type": "code",
      "source": "train.head()",
      "execution_count": 110,
      "outputs": [
        {
          "output_type": "execute_result",
          "execution_count": 110,
          "data": {
            "text/plain": "                            key       ...         passenger_count\n0 2009-06-15 17:26:21.000000100       ...                       1\n1 2010-01-05 16:52:16.000000200       ...                       1\n2 2011-08-18 00:35:00.000000490       ...                       2\n3 2012-04-21 04:30:42.000000100       ...                       1\n4 2010-03-09 07:51:00.000000135       ...                       1\n\n[5 rows x 8 columns]",
            "text/html": "<div>\n<style scoped>\n    .dataframe tbody tr th:only-of-type {\n        vertical-align: middle;\n    }\n\n    .dataframe tbody tr th {\n        vertical-align: top;\n    }\n\n    .dataframe thead th {\n        text-align: right;\n    }\n</style>\n<table border=\"1\" class=\"dataframe\">\n  <thead>\n    <tr style=\"text-align: right;\">\n      <th></th>\n      <th>key</th>\n      <th>fare_amount</th>\n      <th>pickup_datetime</th>\n      <th>pickup_longitude</th>\n      <th>pickup_latitude</th>\n      <th>dropoff_longitude</th>\n      <th>dropoff_latitude</th>\n      <th>passenger_count</th>\n    </tr>\n  </thead>\n  <tbody>\n    <tr>\n      <th>0</th>\n      <td>2009-06-15 17:26:21.000000100</td>\n      <td>4.5</td>\n      <td>2009-06-15 17:26:21</td>\n      <td>-73.844311</td>\n      <td>40.721319</td>\n      <td>-73.841610</td>\n      <td>40.712278</td>\n      <td>1</td>\n    </tr>\n    <tr>\n      <th>1</th>\n      <td>2010-01-05 16:52:16.000000200</td>\n      <td>16.9</td>\n      <td>2010-01-05 16:52:16</td>\n      <td>-74.016048</td>\n      <td>40.711303</td>\n      <td>-73.979268</td>\n      <td>40.782004</td>\n      <td>1</td>\n    </tr>\n    <tr>\n      <th>2</th>\n      <td>2011-08-18 00:35:00.000000490</td>\n      <td>5.7</td>\n      <td>2011-08-18 00:35:00</td>\n      <td>-73.982738</td>\n      <td>40.761270</td>\n      <td>-73.991242</td>\n      <td>40.750562</td>\n      <td>2</td>\n    </tr>\n    <tr>\n      <th>3</th>\n      <td>2012-04-21 04:30:42.000000100</td>\n      <td>7.7</td>\n      <td>2012-04-21 04:30:42</td>\n      <td>-73.987130</td>\n      <td>40.733143</td>\n      <td>-73.991567</td>\n      <td>40.758092</td>\n      <td>1</td>\n    </tr>\n    <tr>\n      <th>4</th>\n      <td>2010-03-09 07:51:00.000000135</td>\n      <td>5.3</td>\n      <td>2010-03-09 07:51:00</td>\n      <td>-73.968095</td>\n      <td>40.768008</td>\n      <td>-73.956655</td>\n      <td>40.783762</td>\n      <td>1</td>\n    </tr>\n  </tbody>\n</table>\n</div>"
          },
          "metadata": {}
        }
      ]
    },
    {
      "metadata": {
        "trusted": true,
        "_uuid": "16f2a2520c6da90b8f5230695c0f9378430e5691"
      },
      "cell_type": "code",
      "source": "def haversine(lat1, long1, lat2, long2):\n    data = [train,test]\n    for i in data:\n        R = 6371\n        phi1 = np.radians(i[lat1])\n        phi2 = np.radians(i[lat2])\n        \n        delta_phi = np.radians(i[lat2] - i[lat1])\n        delta_lambda = np.radians(i[long1] - i[long2])\n        \n        a = np.sin( delta_phi / 2.0 ) ** 2 + np.cos(phi1)* np.cos(phi2) * np.sin(delta_lambda / 2.0) ** 2\n        \n        c = 2 * np.arctan2(np.sqrt(a), np.sqrt(1-a))\n        \n        d = R * c\n        \n        i['H_Distance'] = d\n        \n    return d",
      "execution_count": 111,
      "outputs": []
    },
    {
      "metadata": {
        "trusted": true,
        "_uuid": "a035542022c08b27b8c18ccc2590103aeb5bbc84"
      },
      "cell_type": "code",
      "source": "haversine('pickup_latitude','pickup_longitude', 'dropoff_latitude','dropoff_longitude')",
      "execution_count": 112,
      "outputs": [
        {
          "output_type": "execute_result",
          "execution_count": 112,
          "data": {
            "text/plain": "0        2.323260\n1        2.425353\n2        0.618628\n3        1.961033\n4        5.387301\n5        3.222549\n6        0.929601\n7       21.540102\n8        3.873962\n9        1.099794\n10       2.317685\n11       4.819179\n12       0.722670\n13       1.675503\n14       2.504032\n15       5.115375\n16       0.298838\n17       2.531147\n18       0.780444\n19       0.427282\n20       1.651946\n21       1.969211\n22       1.305441\n23       1.901295\n24       5.779720\n25       1.121687\n26      14.306540\n27       9.427870\n28       1.144529\n29       4.696371\n          ...    \n9884    15.119293\n9885     5.006239\n9886     7.376754\n9887     1.680721\n9888     0.000000\n9889     2.377723\n9890     2.944581\n9891     5.952839\n9892     2.950361\n9893     4.735375\n9894     3.101361\n9895     9.000325\n9896     2.398161\n9897     5.081663\n9898     0.555287\n9899     5.610506\n9900     1.890608\n9901     1.530118\n9902     3.891525\n9903     2.299316\n9904    15.091263\n9905     9.613797\n9906     0.369506\n9907     9.923999\n9908     1.636402\n9909     2.124874\n9910     3.270969\n9911    19.183941\n9912     8.343486\n9913     1.180825\nLength: 9914, dtype: float64"
          },
          "metadata": {}
        }
      ]
    },
    {
      "metadata": {
        "trusted": true,
        "_uuid": "a8610ee472bc12fbb2da598c708769d96e4b7b50"
      },
      "cell_type": "code",
      "source": "train['H_Distance'].head()",
      "execution_count": 113,
      "outputs": [
        {
          "output_type": "execute_result",
          "execution_count": 113,
          "data": {
            "text/plain": "0    1.030764\n1    8.450134\n2    1.389525\n3    2.799270\n4    1.999157\nName: H_Distance, dtype: float64"
          },
          "metadata": {}
        }
      ]
    },
    {
      "metadata": {
        "trusted": true,
        "_uuid": "7073f77bafd4ba2f9537a76c851df3b95b642987"
      },
      "cell_type": "code",
      "source": "test['H_Distance'].head()",
      "execution_count": 114,
      "outputs": [
        {
          "output_type": "execute_result",
          "execution_count": 114,
          "data": {
            "text/plain": "0    2.323260\n1    2.425353\n2    0.618628\n3    1.961033\n4    5.387301\nName: H_Distance, dtype: float64"
          },
          "metadata": {}
        }
      ]
    },
    {
      "metadata": {
        "trusted": true,
        "_uuid": "a7e26ce44ca4423e27e64520a579345c0f49456e"
      },
      "cell_type": "code",
      "source": "data = [train, test]",
      "execution_count": 115,
      "outputs": []
    },
    {
      "metadata": {
        "trusted": true,
        "_uuid": "655236b804f73379b53c9ff6ad4e5ca1402b5ef9"
      },
      "cell_type": "code",
      "source": "for i in data:\n    i['Year'] = i['pickup_datetime'].dt.year\n    i['Month'] = i['pickup_datetime'].dt.month\n    i['Date'] = i['pickup_datetime'].dt.day\n    i['Day_of_week'] = i['pickup_datetime'].dt.dayofweek\n    i['Hour'] = i['pickup_datetime'].dt.hour",
      "execution_count": 116,
      "outputs": []
    },
    {
      "metadata": {
        "trusted": true,
        "_uuid": "15ff23e38b5bf39fc4296beb8850d5dabf6a67f6"
      },
      "cell_type": "code",
      "source": "train.head()",
      "execution_count": 117,
      "outputs": [
        {
          "output_type": "execute_result",
          "execution_count": 117,
          "data": {
            "text/plain": "                            key  fare_amount  ...  Day_of_week  Hour\n0 2009-06-15 17:26:21.000000100          4.5  ...            0    17\n1 2010-01-05 16:52:16.000000200         16.9  ...            1    16\n2 2011-08-18 00:35:00.000000490          5.7  ...            3     0\n3 2012-04-21 04:30:42.000000100          7.7  ...            5     4\n4 2010-03-09 07:51:00.000000135          5.3  ...            1     7\n\n[5 rows x 14 columns]",
            "text/html": "<div>\n<style scoped>\n    .dataframe tbody tr th:only-of-type {\n        vertical-align: middle;\n    }\n\n    .dataframe tbody tr th {\n        vertical-align: top;\n    }\n\n    .dataframe thead th {\n        text-align: right;\n    }\n</style>\n<table border=\"1\" class=\"dataframe\">\n  <thead>\n    <tr style=\"text-align: right;\">\n      <th></th>\n      <th>key</th>\n      <th>fare_amount</th>\n      <th>pickup_datetime</th>\n      <th>pickup_longitude</th>\n      <th>pickup_latitude</th>\n      <th>dropoff_longitude</th>\n      <th>dropoff_latitude</th>\n      <th>passenger_count</th>\n      <th>H_Distance</th>\n      <th>Year</th>\n      <th>Month</th>\n      <th>Date</th>\n      <th>Day_of_week</th>\n      <th>Hour</th>\n    </tr>\n  </thead>\n  <tbody>\n    <tr>\n      <th>0</th>\n      <td>2009-06-15 17:26:21.000000100</td>\n      <td>4.5</td>\n      <td>2009-06-15 17:26:21</td>\n      <td>-73.844311</td>\n      <td>40.721319</td>\n      <td>-73.841610</td>\n      <td>40.712278</td>\n      <td>1</td>\n      <td>1.030764</td>\n      <td>2009</td>\n      <td>6</td>\n      <td>15</td>\n      <td>0</td>\n      <td>17</td>\n    </tr>\n    <tr>\n      <th>1</th>\n      <td>2010-01-05 16:52:16.000000200</td>\n      <td>16.9</td>\n      <td>2010-01-05 16:52:16</td>\n      <td>-74.016048</td>\n      <td>40.711303</td>\n      <td>-73.979268</td>\n      <td>40.782004</td>\n      <td>1</td>\n      <td>8.450134</td>\n      <td>2010</td>\n      <td>1</td>\n      <td>5</td>\n      <td>1</td>\n      <td>16</td>\n    </tr>\n    <tr>\n      <th>2</th>\n      <td>2011-08-18 00:35:00.000000490</td>\n      <td>5.7</td>\n      <td>2011-08-18 00:35:00</td>\n      <td>-73.982738</td>\n      <td>40.761270</td>\n      <td>-73.991242</td>\n      <td>40.750562</td>\n      <td>2</td>\n      <td>1.389525</td>\n      <td>2011</td>\n      <td>8</td>\n      <td>18</td>\n      <td>3</td>\n      <td>0</td>\n    </tr>\n    <tr>\n      <th>3</th>\n      <td>2012-04-21 04:30:42.000000100</td>\n      <td>7.7</td>\n      <td>2012-04-21 04:30:42</td>\n      <td>-73.987130</td>\n      <td>40.733143</td>\n      <td>-73.991567</td>\n      <td>40.758092</td>\n      <td>1</td>\n      <td>2.799270</td>\n      <td>2012</td>\n      <td>4</td>\n      <td>21</td>\n      <td>5</td>\n      <td>4</td>\n    </tr>\n    <tr>\n      <th>4</th>\n      <td>2010-03-09 07:51:00.000000135</td>\n      <td>5.3</td>\n      <td>2010-03-09 07:51:00</td>\n      <td>-73.968095</td>\n      <td>40.768008</td>\n      <td>-73.956655</td>\n      <td>40.783762</td>\n      <td>1</td>\n      <td>1.999157</td>\n      <td>2010</td>\n      <td>3</td>\n      <td>9</td>\n      <td>1</td>\n      <td>7</td>\n    </tr>\n  </tbody>\n</table>\n</div>"
          },
          "metadata": {}
        }
      ]
    },
    {
      "metadata": {
        "trusted": true,
        "_uuid": "9e9fa49bea248e149316b4418bde6e80c26e6458"
      },
      "cell_type": "code",
      "source": "plt.figure(figsize=(15,7))\nplt.hist(train['passenger_count'], bins=15)\nplt.xlabel('No. of Passengers')\nplt.ylabel('Frequency')",
      "execution_count": 118,
      "outputs": [
        {
          "output_type": "execute_result",
          "execution_count": 118,
          "data": {
            "text/plain": "Text(0,0.5,'Frequency')"
          },
          "metadata": {}
        },
        {
          "output_type": "display_data",
          "data": {
            "text/plain": "<Figure size 1080x504 with 1 Axes>",
            "image/png": "[encoded data removed]"
          },
          "metadata": {}
        }
      ]
    },
    {
      "metadata": {
        "trusted": true,
        "_uuid": "b2e1fca6939099b199b7be8b5e00a9bcb5f06051"
      },
      "cell_type": "code",
      "source": "plt.figure( figsize = (16,7))\nplt.scatter(x=train['passenger_count'], y=train['fare_amount'], s = 1.5)\nplt.xlabel('No. of Passengers')\nplt.ylabel('Fare')",
      "execution_count": 119,
      "outputs": [
        {
          "output_type": "execute_result",
          "execution_count": 119,
          "data": {
            "text/plain": "Text(0,0.5,'Fare')"
          },
          "metadata": {}
        },
        {
          "output_type": "display_data",
          "data": {
            "text/plain": "<Figure size 1152x504 with 1 Axes>",
            "image/png": "[encoded data removed]"
          },
          "metadata": {}
        }
      ]
    },
    {
      "metadata": {
        "trusted": true,
        "_uuid": "967b5f149989be5642752a4be657049be02b96de"
      },
      "cell_type": "code",
      "source": "plt.figure(figsize = (15,7))\nplt.hist(train['Hour'],bins = 4)\nplt.xlabel('time')\nplt.ylabel('freq')",
      "execution_count": 120,
      "outputs": [
        {
          "output_type": "execute_result",
          "execution_count": 120,
          "data": {
            "text/plain": "Text(0,0.5,'freq')"
          },
          "metadata": {}
        },
        {
          "output_type": "display_data",
          "data": {
            "text/plain": "<Figure size 1080x504 with 1 Axes>",
            "image/png": "[encoded data removed]"
          },
          "metadata": {}
        }
      ]
    },
    {
      "metadata": {
        "trusted": true,
        "_uuid": "fd6563563e3cf99d413e825c3d63528afaf97d5e"
      },
      "cell_type": "code",
      "source": "plt.figure(figsize = (15,7))\nplt.hist(train['Year'],bins = 4)\nplt.xlabel('time')\nplt.ylabel('freq')",
      "execution_count": 121,
      "outputs": [
        {
          "output_type": "execute_result",
          "execution_count": 121,
          "data": {
            "text/plain": "Text(0,0.5,'freq')"
          },
          "metadata": {}
        },
        {
          "output_type": "display_data",
          "data": {
            "text/plain": "<Figure size 1080x504 with 1 Axes>",
            "image/png": "[encoded data removed]"
          },
          "metadata": {}
        }
      ]
    },
    {
      "metadata": {
        "trusted": true,
        "_uuid": "9d9484566d9d45f3582d86db940baa377ec473cd"
      },
      "cell_type": "code",
      "source": "plt.figure(figsize = (15,7))\nplt.scatter(x=train['Hour'], y=train['fare_amount'], s = 1.5)\nplt.xlabel('time')\nplt.ylabel('freq')",
      "execution_count": 122,
      "outputs": [
        {
          "output_type": "execute_result",
          "execution_count": 122,
          "data": {
            "text/plain": "Text(0,0.5,'freq')"
          },
          "metadata": {}
        },
        {
          "output_type": "display_data",
          "data": {
            "text/plain": "<Figure size 1080x504 with 1 Axes>",
            "image/png": "[encoded data removed]"
          },
          "metadata": {}
        }
      ]
    },
    {
      "metadata": {
        "trusted": true,
        "_uuid": "029e6bb4fac2bcb8dbcf9dafb80702176f290ab8"
      },
      "cell_type": "code",
      "source": "train.sort_values(['H_Distance','fare_amount'], ascending = False)",
      "execution_count": 123,
      "outputs": [
        {
          "output_type": "execute_result",
          "execution_count": 123,
          "data": {
            "text/plain": "                                 key  fare_amount  ...  Day_of_week  Hour\n793922 2012-06-03 11:19:37.000000200        32.10  ...            6    11\n269695 2012-05-24 09:00:00.000000101        17.70  ...            3     9\n646132 2012-02-08 20:24:00.000000173        10.50  ...            2    20\n823943 2010-11-14 21:40:00.000000590         4.90  ...            6    21\n401445 2011-02-26 03:28:03.000000600        14.50  ...            5     3\n207647 2011-04-19 17:56:04.000000300        38.90  ...            1    17\n336392 2011-05-11 20:06:55.000000600        34.50  ...            2    20\n830134 2011-03-01 00:23:54.000000100        45.00  ...            1     0\n527929 2011-03-01 21:31:43.000000300         7.70  ...            1    21\n419362 2011-04-03 13:59:31.000000200         5.70  ...            6    13\n388089 2011-10-18 08:06:00.000000136        13.70  ...            1     8\n818937 2012-11-27 09:53:00.000000176         6.00  ...            1     9\n309126 2015-03-25 12:56:31.000000200       120.75  ...            2    12\n212808 2012-02-04 14:56:00.000000101       135.50  ...            5    14\n394899 2012-10-15 17:43:00.000000161        12.00  ...            0    17\n690854 2012-06-28 21:03:00.000000228        23.30  ...            3    21\n410792 2010-09-25 14:04:00.000000610         2.50  ...            5    14\n787241 2010-02-16 05:57:12.000000100        73.70  ...            1     5\n311581 2012-08-11 10:30:00.000000910        90.00  ...            5    10\n665532 2012-10-25 13:09:13.000000400        72.00  ...            3    13\n199723 2014-05-27 04:57:46.000000100        52.00  ...            1     4\n929717 2012-12-15 01:57:00.000000220        80.25  ...            5     1\n67343  2014-08-14 06:58:00.000000700        10.00  ...            3     6\n429307 2012-05-14 05:31:00.000000100         8.90  ...            0     5\n181226 2012-02-18 18:51:00.000000180         8.90  ...            5    18\n858371 2013-11-03 19:04:00.000000980        75.00  ...            6    19\n422076 2013-07-14 05:34:00.000000450        60.00  ...            6     5\n429525 2014-07-11 00:03:00.000000166         2.50  ...            4     0\n652821 2013-08-10 08:54:00.000000740         2.50  ...            5     8\n797647 2014-05-25 00:49:00.000000770         2.50  ...            6     0\n...                              ...          ...  ...          ...   ...\n978044 2010-01-17 02:11:14.000000400         2.50  ...            6     2\n979569 2012-01-19 08:59:26.000000300         2.50  ...            3     8\n981042 2012-03-23 17:33:26.000000200         2.50  ...            4    17\n981156 2010-07-12 18:32:00.000000217         2.50  ...            0    18\n981211 2009-05-27 21:14:52.000000200         2.50  ...            2    21\n981827 2013-07-11 01:24:12.000000100         2.50  ...            3     1\n982760 2013-08-15 02:36:09.000000200         2.50  ...            3     2\n982839 2012-06-23 09:58:33.000000200         2.50  ...            5     9\n985217 2009-02-22 06:16:56.000000300         2.50  ...            6     6\n986150 2010-06-16 14:16:40.000000500         2.50  ...            2    14\n988184 2013-10-19 20:45:23.000000300         2.50  ...            5    20\n990173 2009-11-01 14:37:13.000000100         2.50  ...            6    14\n991639 2009-10-27 17:59:20.000000100         2.50  ...            1    17\n991940 2009-11-18 23:23:55.000000200         2.50  ...            2    23\n993740 2009-02-05 09:11:50.000000600         2.50  ...            3     9\n994092 2012-02-27 07:36:00.000000150         2.50  ...            0     7\n994174 2015-03-19 21:34:53.000000700         2.50  ...            3    21\n994387 2014-02-04 14:45:01.000000200         2.50  ...            1    14\n994951 2012-09-05 09:52:34.000000600         2.50  ...            2     9\n996620 2012-02-22 14:08:06.000000200         2.50  ...            2    14\n996710 2010-09-27 21:54:00.000000540         2.50  ...            0    21\n996712 2009-06-03 12:28:00.000000480         2.50  ...            2    12\n996752 2010-04-26 08:31:31.000000200         2.50  ...            0     8\n999462 2012-02-09 21:36:00.000000243         2.50  ...            3    21\n925892 2015-01-21 14:12:00.000000400         1.90  ...            2    14\n830616 2015-01-21 06:29:21.000000600         0.01  ...            2     6\n105051 2013-08-21 21:41:00.000000215         0.00  ...            2    21\n331597 2013-08-05 06:45:54.000000500         0.00  ...            0     6\n436658 2015-03-04 22:33:39.000000800         0.00  ...            2    22\n689250 2015-05-27 23:10:03.000000400         0.00  ...            2    23\n\n[999920 rows x 14 columns]",
            "text/html": "<div>\n<style scoped>\n    .dataframe tbody tr th:only-of-type {\n        vertical-align: middle;\n    }\n\n    .dataframe tbody tr th {\n        vertical-align: top;\n    }\n\n    .dataframe thead th {\n        text-align: right;\n    }\n</style>\n<table border=\"1\" class=\"dataframe\">\n  <thead>\n    <tr style=\"text-align: right;\">\n      <th></th>\n      <th>key</th>\n      <th>fare_amount</th>\n      <th>pickup_datetime</th>\n      <th>pickup_longitude</th>\n      <th>pickup_latitude</th>\n      <th>dropoff_longitude</th>\n      <th>dropoff_latitude</th>\n      <th>passenger_count</th>\n      <th>H_Distance</th>\n      <th>Year</th>\n      <th>Month</th>\n      <th>Date</th>\n      <th>Day_of_week</th>\n      <th>Hour</th>\n    </tr>\n  </thead>\n  <tbody>\n    <tr>\n      <th>793922</th>\n      <td>2012-06-03 11:19:37.000000200</td>\n      <td>32.10</td>\n      <td>2012-06-03 11:19:37</td>\n      <td>-73.863359</td>\n      <td>40.769278</td>\n      <td>45.581619</td>\n      <td>-2.013462</td>\n      <td>2</td>\n      <td>12594.704725</td>\n      <td>2012</td>\n      <td>6</td>\n      <td>3</td>\n      <td>6</td>\n      <td>11</td>\n    </tr>\n    <tr>\n      <th>269695</th>\n      <td>2012-05-24 09:00:00.000000101</td>\n      <td>17.70</td>\n      <td>2012-05-24 09:00:00</td>\n      <td>-73.997572</td>\n      <td>40.720945</td>\n      <td>-1329.621332</td>\n      <td>40.773717</td>\n      <td>1</td>\n      <td>10942.515639</td>\n      <td>2012</td>\n      <td>5</td>\n      <td>24</td>\n      <td>3</td>\n      <td>9</td>\n    </tr>\n    <tr>\n      <th>646132</th>\n      <td>2012-02-08 20:24:00.000000173</td>\n      <td>10.50</td>\n      <td>2012-02-08 20:24:00</td>\n      <td>-89.439785</td>\n      <td>1.707957</td>\n      <td>0.000000</td>\n      <td>0.000000</td>\n      <td>1</td>\n      <td>9945.278008</td>\n      <td>2012</td>\n      <td>2</td>\n      <td>8</td>\n      <td>2</td>\n      <td>20</td>\n    </tr>\n    <tr>\n      <th>823943</th>\n      <td>2010-11-14 21:40:00.000000590</td>\n      <td>4.90</td>\n      <td>2010-11-14 21:40:00</td>\n      <td>0.000000</td>\n      <td>0.000000</td>\n      <td>-73.960303</td>\n      <td>81.510177</td>\n      <td>1</td>\n      <td>9747.587427</td>\n      <td>2010</td>\n      <td>11</td>\n      <td>14</td>\n      <td>6</td>\n      <td>21</td>\n    </tr>\n    <tr>\n      <th>401445</th>\n      <td>2011-02-26 03:28:03.000000600</td>\n      <td>14.50</td>\n      <td>2011-02-26 03:28:03</td>\n      <td>0.000000</td>\n      <td>0.000000</td>\n      <td>-75.433371</td>\n      <td>40.752047</td>\n      <td>1</td>\n      <td>8786.235625</td>\n      <td>2011</td>\n      <td>2</td>\n      <td>26</td>\n      <td>5</td>\n      <td>3</td>\n    </tr>\n    <tr>\n      <th>207647</th>\n      <td>2011-04-19 17:56:04.000000300</td>\n      <td>38.90</td>\n      <td>2011-04-19 17:56:04</td>\n      <td>0.000000</td>\n      <td>0.000000</td>\n      <td>-75.423754</td>\n      <td>40.773877</td>\n      <td>1</td>\n      <td>8785.843243</td>\n      <td>2011</td>\n      <td>4</td>\n      <td>19</td>\n      <td>1</td>\n      <td>17</td>\n    </tr>\n    <tr>\n      <th>336392</th>\n      <td>2011-05-11 20:06:55.000000600</td>\n      <td>34.50</td>\n      <td>2011-05-11 20:06:55</td>\n      <td>0.000000</td>\n      <td>0.000000</td>\n      <td>-75.294555</td>\n      <td>40.699667</td>\n      <td>1</td>\n      <td>8773.725816</td>\n      <td>2011</td>\n      <td>5</td>\n      <td>11</td>\n      <td>2</td>\n      <td>20</td>\n    </tr>\n    <tr>\n      <th>830134</th>\n      <td>2011-03-01 00:23:54.000000100</td>\n      <td>45.00</td>\n      <td>2011-03-01 00:23:54</td>\n      <td>0.000000</td>\n      <td>0.000000</td>\n      <td>-74.689831</td>\n      <td>40.190564</td>\n      <td>1</td>\n      <td>8713.610002</td>\n      <td>2011</td>\n      <td>3</td>\n      <td>1</td>\n      <td>1</td>\n      <td>0</td>\n    </tr>\n    <tr>\n      <th>527929</th>\n      <td>2011-03-01 21:31:43.000000300</td>\n      <td>7.70</td>\n      <td>2011-03-01 21:31:43</td>\n      <td>0.000000</td>\n      <td>0.000000</td>\n      <td>-74.689831</td>\n      <td>40.190564</td>\n      <td>1</td>\n      <td>8713.610002</td>\n      <td>2011</td>\n      <td>3</td>\n      <td>1</td>\n      <td>1</td>\n      <td>21</td>\n    </tr>\n    <tr>\n      <th>419362</th>\n      <td>2011-04-03 13:59:31.000000200</td>\n      <td>5.70</td>\n      <td>2011-04-03 13:59:31</td>\n      <td>0.000000</td>\n      <td>0.000000</td>\n      <td>-74.689831</td>\n      <td>40.190564</td>\n      <td>1</td>\n      <td>8713.610002</td>\n      <td>2011</td>\n      <td>4</td>\n      <td>3</td>\n      <td>6</td>\n      <td>13</td>\n    </tr>\n    <tr>\n      <th>388089</th>\n      <td>2011-10-18 08:06:00.000000136</td>\n      <td>13.70</td>\n      <td>2011-10-18 08:06:00</td>\n      <td>-74.592145</td>\n      <td>40.301512</td>\n      <td>0.000000</td>\n      <td>0.000000</td>\n      <td>1</td>\n      <td>8707.602344</td>\n      <td>2011</td>\n      <td>10</td>\n      <td>18</td>\n      <td>1</td>\n      <td>8</td>\n    </tr>\n    <tr>\n      <th>818937</th>\n      <td>2012-11-27 09:53:00.000000176</td>\n      <td>6.00</td>\n      <td>2012-11-27 09:53:00</td>\n      <td>0.000000</td>\n      <td>-0.563333</td>\n      <td>-73.976570</td>\n      <td>40.759885</td>\n      <td>2</td>\n      <td>8707.451704</td>\n      <td>2012</td>\n      <td>11</td>\n      <td>27</td>\n      <td>1</td>\n      <td>9</td>\n    </tr>\n    <tr>\n      <th>309126</th>\n      <td>2015-03-25 12:56:31.000000200</td>\n      <td>120.75</td>\n      <td>2015-03-25 12:56:31</td>\n      <td>-74.402847</td>\n      <td>40.698772</td>\n      <td>0.000000</td>\n      <td>0.000000</td>\n      <td>1</td>\n      <td>8699.681549</td>\n      <td>2015</td>\n      <td>3</td>\n      <td>25</td>\n      <td>2</td>\n      <td>12</td>\n    </tr>\n    <tr>\n      <th>212808</th>\n      <td>2012-02-04 14:56:00.000000101</td>\n      <td>135.50</td>\n      <td>2012-02-04 14:56:00</td>\n      <td>-74.289975</td>\n      <td>40.783655</td>\n      <td>0.000000</td>\n      <td>0.000000</td>\n      <td>1</td>\n      <td>8692.025319</td>\n      <td>2012</td>\n      <td>2</td>\n      <td>4</td>\n      <td>5</td>\n      <td>14</td>\n    </tr>\n    <tr>\n      <th>394899</th>\n      <td>2012-10-15 17:43:00.000000161</td>\n      <td>12.00</td>\n      <td>2012-10-15 17:43:00</td>\n      <td>-74.250000</td>\n      <td>40.762567</td>\n      <td>0.000000</td>\n      <td>0.000000</td>\n      <td>1</td>\n      <td>8688.290444</td>\n      <td>2012</td>\n      <td>10</td>\n      <td>15</td>\n      <td>0</td>\n      <td>17</td>\n    </tr>\n    <tr>\n      <th>690854</th>\n      <td>2012-06-28 21:03:00.000000228</td>\n      <td>23.30</td>\n      <td>2012-06-28 21:03:00</td>\n      <td>-74.266667</td>\n      <td>40.598952</td>\n      <td>0.000000</td>\n      <td>0.000000</td>\n      <td>1</td>\n      <td>8686.385036</td>\n      <td>2012</td>\n      <td>6</td>\n      <td>28</td>\n      <td>3</td>\n      <td>21</td>\n    </tr>\n    <tr>\n      <th>410792</th>\n      <td>2010-09-25 14:04:00.000000610</td>\n      <td>2.50</td>\n      <td>2010-09-25 14:04:00</td>\n      <td>0.000000</td>\n      <td>0.000000</td>\n      <td>-74.226598</td>\n      <td>40.592337</td>\n      <td>1</td>\n      <td>8682.924700</td>\n      <td>2010</td>\n      <td>9</td>\n      <td>25</td>\n      <td>5</td>\n      <td>14</td>\n    </tr>\n    <tr>\n      <th>787241</th>\n      <td>2010-02-16 05:57:12.000000100</td>\n      <td>73.70</td>\n      <td>2010-02-16 05:57:12</td>\n      <td>0.000000</td>\n      <td>0.000000</td>\n      <td>-74.185534</td>\n      <td>40.718215</td>\n      <td>1</td>\n      <td>8682.054716</td>\n      <td>2010</td>\n      <td>2</td>\n      <td>16</td>\n      <td>1</td>\n      <td>5</td>\n    </tr>\n    <tr>\n      <th>311581</th>\n      <td>2012-08-11 10:30:00.000000910</td>\n      <td>90.00</td>\n      <td>2012-08-11 10:30:00</td>\n      <td>-74.185107</td>\n      <td>40.703430</td>\n      <td>0.000000</td>\n      <td>0.000000</td>\n      <td>1</td>\n      <td>8681.720652</td>\n      <td>2012</td>\n      <td>8</td>\n      <td>11</td>\n      <td>5</td>\n      <td>10</td>\n    </tr>\n    <tr>\n      <th>665532</th>\n      <td>2012-10-25 13:09:13.000000400</td>\n      <td>72.00</td>\n      <td>2012-10-25 13:09:13</td>\n      <td>0.000000</td>\n      <td>0.000000</td>\n      <td>-74.178158</td>\n      <td>40.695645</td>\n      <td>1</td>\n      <td>8680.987324</td>\n      <td>2012</td>\n      <td>10</td>\n      <td>25</td>\n      <td>3</td>\n      <td>13</td>\n    </tr>\n    <tr>\n      <th>199723</th>\n      <td>2014-05-27 04:57:46.000000100</td>\n      <td>52.00</td>\n      <td>2014-05-27 04:57:46</td>\n      <td>0.000000</td>\n      <td>0.000000</td>\n      <td>-74.177774</td>\n      <td>40.695594</td>\n      <td>1</td>\n      <td>8680.954459</td>\n      <td>2014</td>\n      <td>5</td>\n      <td>27</td>\n      <td>1</td>\n      <td>4</td>\n    </tr>\n    <tr>\n      <th>929717</th>\n      <td>2012-12-15 01:57:00.000000220</td>\n      <td>80.25</td>\n      <td>2012-12-15 01:57:00</td>\n      <td>-74.054865</td>\n      <td>40.903327</td>\n      <td>0.000000</td>\n      <td>0.000000</td>\n      <td>1</td>\n      <td>8675.005339</td>\n      <td>2012</td>\n      <td>12</td>\n      <td>15</td>\n      <td>5</td>\n      <td>1</td>\n    </tr>\n    <tr>\n      <th>67343</th>\n      <td>2014-08-14 06:58:00.000000700</td>\n      <td>10.00</td>\n      <td>2014-08-14 06:58:00</td>\n      <td>-74.095877</td>\n      <td>40.718052</td>\n      <td>0.000000</td>\n      <td>0.000000</td>\n      <td>2</td>\n      <td>8674.621830</td>\n      <td>2014</td>\n      <td>8</td>\n      <td>14</td>\n      <td>3</td>\n      <td>6</td>\n    </tr>\n    <tr>\n      <th>429307</th>\n      <td>2012-05-14 05:31:00.000000100</td>\n      <td>8.90</td>\n      <td>2012-05-14 05:31:00</td>\n      <td>-74.069388</td>\n      <td>40.724537</td>\n      <td>0.000000</td>\n      <td>0.000000</td>\n      <td>1</td>\n      <td>8672.559059</td>\n      <td>2012</td>\n      <td>5</td>\n      <td>14</td>\n      <td>0</td>\n      <td>5</td>\n    </tr>\n    <tr>\n      <th>181226</th>\n      <td>2012-02-18 18:51:00.000000180</td>\n      <td>8.90</td>\n      <td>2012-02-18 18:51:00</td>\n      <td>-74.061667</td>\n      <td>40.726935</td>\n      <td>0.000000</td>\n      <td>0.000000</td>\n      <td>2</td>\n      <td>8671.968258</td>\n      <td>2012</td>\n      <td>2</td>\n      <td>18</td>\n      <td>5</td>\n      <td>18</td>\n    </tr>\n    <tr>\n      <th>858371</th>\n      <td>2013-11-03 19:04:00.000000980</td>\n      <td>75.00</td>\n      <td>2013-11-03 19:04:00</td>\n      <td>-74.047895</td>\n      <td>40.782082</td>\n      <td>0.000000</td>\n      <td>0.000000</td>\n      <td>2</td>\n      <td>8671.952234</td>\n      <td>2013</td>\n      <td>11</td>\n      <td>3</td>\n      <td>6</td>\n      <td>19</td>\n    </tr>\n    <tr>\n      <th>422076</th>\n      <td>2013-07-14 05:34:00.000000450</td>\n      <td>60.00</td>\n      <td>2013-07-14 05:34:00</td>\n      <td>-74.060910</td>\n      <td>40.709310</td>\n      <td>0.000000</td>\n      <td>0.000000</td>\n      <td>1</td>\n      <td>8671.546602</td>\n      <td>2013</td>\n      <td>7</td>\n      <td>14</td>\n      <td>6</td>\n      <td>5</td>\n    </tr>\n    <tr>\n      <th>429525</th>\n      <td>2014-07-11 00:03:00.000000166</td>\n      <td>2.50</td>\n      <td>2014-07-11 00:03:00</td>\n      <td>-74.046525</td>\n      <td>40.715212</td>\n      <td>0.000000</td>\n      <td>0.000000</td>\n      <td>3</td>\n      <td>8670.474923</td>\n      <td>2014</td>\n      <td>7</td>\n      <td>11</td>\n      <td>4</td>\n      <td>0</td>\n    </tr>\n    <tr>\n      <th>652821</th>\n      <td>2013-08-10 08:54:00.000000740</td>\n      <td>2.50</td>\n      <td>2013-08-10 08:54:00</td>\n      <td>-74.004657</td>\n      <td>40.871452</td>\n      <td>0.000000</td>\n      <td>0.000000</td>\n      <td>4</td>\n      <td>8670.204258</td>\n      <td>2013</td>\n      <td>8</td>\n      <td>10</td>\n      <td>5</td>\n      <td>8</td>\n    </tr>\n    <tr>\n      <th>797647</th>\n      <td>2014-05-25 00:49:00.000000770</td>\n      <td>2.50</td>\n      <td>2014-05-25 00:49:00</td>\n      <td>-74.004622</td>\n      <td>40.871355</td>\n      <td>0.000000</td>\n      <td>0.000000</td>\n      <td>1</td>\n      <td>8670.199377</td>\n      <td>2014</td>\n      <td>5</td>\n      <td>25</td>\n      <td>6</td>\n      <td>0</td>\n    </tr>\n    <tr>\n      <th>...</th>\n      <td>...</td>\n      <td>...</td>\n      <td>...</td>\n      <td>...</td>\n      <td>...</td>\n      <td>...</td>\n      <td>...</td>\n      <td>...</td>\n      <td>...</td>\n      <td>...</td>\n      <td>...</td>\n      <td>...</td>\n      <td>...</td>\n      <td>...</td>\n    </tr>\n    <tr>\n      <th>978044</th>\n      <td>2010-01-17 02:11:14.000000400</td>\n      <td>2.50</td>\n      <td>2010-01-17 02:11:14</td>\n      <td>-73.994759</td>\n      <td>40.770073</td>\n      <td>-73.994759</td>\n      <td>40.770073</td>\n      <td>1</td>\n      <td>0.000000</td>\n      <td>2010</td>\n      <td>1</td>\n      <td>17</td>\n      <td>6</td>\n      <td>2</td>\n    </tr>\n    <tr>\n      <th>979569</th>\n      <td>2012-01-19 08:59:26.000000300</td>\n      <td>2.50</td>\n      <td>2012-01-19 08:59:26</td>\n      <td>-73.902053</td>\n      <td>40.763958</td>\n      <td>-73.902053</td>\n      <td>40.763958</td>\n      <td>1</td>\n      <td>0.000000</td>\n      <td>2012</td>\n      <td>1</td>\n      <td>19</td>\n      <td>3</td>\n      <td>8</td>\n    </tr>\n    <tr>\n      <th>981042</th>\n      <td>2012-03-23 17:33:26.000000200</td>\n      <td>2.50</td>\n      <td>2012-03-23 17:33:26</td>\n      <td>-73.937612</td>\n      <td>40.752194</td>\n      <td>-73.937612</td>\n      <td>40.752194</td>\n      <td>1</td>\n      <td>0.000000</td>\n      <td>2012</td>\n      <td>3</td>\n      <td>23</td>\n      <td>4</td>\n      <td>17</td>\n    </tr>\n    <tr>\n      <th>981156</th>\n      <td>2010-07-12 18:32:00.000000217</td>\n      <td>2.50</td>\n      <td>2010-07-12 18:32:00</td>\n      <td>-73.998707</td>\n      <td>40.740198</td>\n      <td>-73.998707</td>\n      <td>40.740198</td>\n      <td>1</td>\n      <td>0.000000</td>\n      <td>2010</td>\n      <td>7</td>\n      <td>12</td>\n      <td>0</td>\n      <td>18</td>\n    </tr>\n    <tr>\n      <th>981211</th>\n      <td>2009-05-27 21:14:52.000000200</td>\n      <td>2.50</td>\n      <td>2009-05-27 21:14:52</td>\n      <td>0.000000</td>\n      <td>0.000000</td>\n      <td>0.000000</td>\n      <td>0.000000</td>\n      <td>1</td>\n      <td>0.000000</td>\n      <td>2009</td>\n      <td>5</td>\n      <td>27</td>\n      <td>2</td>\n      <td>21</td>\n    </tr>\n    <tr>\n      <th>981827</th>\n      <td>2013-07-11 01:24:12.000000100</td>\n      <td>2.50</td>\n      <td>2013-07-11 01:24:12</td>\n      <td>-73.989207</td>\n      <td>40.718738</td>\n      <td>-73.989207</td>\n      <td>40.718738</td>\n      <td>1</td>\n      <td>0.000000</td>\n      <td>2013</td>\n      <td>7</td>\n      <td>11</td>\n      <td>3</td>\n      <td>1</td>\n    </tr>\n    <tr>\n      <th>982760</th>\n      <td>2013-08-15 02:36:09.000000200</td>\n      <td>2.50</td>\n      <td>2013-08-15 02:36:09</td>\n      <td>0.000000</td>\n      <td>0.000000</td>\n      <td>0.000000</td>\n      <td>0.000000</td>\n      <td>1</td>\n      <td>0.000000</td>\n      <td>2013</td>\n      <td>8</td>\n      <td>15</td>\n      <td>3</td>\n      <td>2</td>\n    </tr>\n    <tr>\n      <th>982839</th>\n      <td>2012-06-23 09:58:33.000000200</td>\n      <td>2.50</td>\n      <td>2012-06-23 09:58:33</td>\n      <td>-73.966374</td>\n      <td>40.800650</td>\n      <td>-73.966374</td>\n      <td>40.800650</td>\n      <td>1</td>\n      <td>0.000000</td>\n      <td>2012</td>\n      <td>6</td>\n      <td>23</td>\n      <td>5</td>\n      <td>9</td>\n    </tr>\n    <tr>\n      <th>985217</th>\n      <td>2009-02-22 06:16:56.000000300</td>\n      <td>2.50</td>\n      <td>2009-02-22 06:16:56</td>\n      <td>-73.992602</td>\n      <td>40.763705</td>\n      <td>-73.992602</td>\n      <td>40.763705</td>\n      <td>1</td>\n      <td>0.000000</td>\n      <td>2009</td>\n      <td>2</td>\n      <td>22</td>\n      <td>6</td>\n      <td>6</td>\n    </tr>\n    <tr>\n      <th>986150</th>\n      <td>2010-06-16 14:16:40.000000500</td>\n      <td>2.50</td>\n      <td>2010-06-16 14:16:40</td>\n      <td>-73.793427</td>\n      <td>40.656724</td>\n      <td>-73.793427</td>\n      <td>40.656724</td>\n      <td>1</td>\n      <td>0.000000</td>\n      <td>2010</td>\n      <td>6</td>\n      <td>16</td>\n      <td>2</td>\n      <td>14</td>\n    </tr>\n    <tr>\n      <th>988184</th>\n      <td>2013-10-19 20:45:23.000000300</td>\n      <td>2.50</td>\n      <td>2013-10-19 20:45:23</td>\n      <td>-73.976207</td>\n      <td>40.741713</td>\n      <td>-73.976207</td>\n      <td>40.741713</td>\n      <td>1</td>\n      <td>0.000000</td>\n      <td>2013</td>\n      <td>10</td>\n      <td>19</td>\n      <td>5</td>\n      <td>20</td>\n    </tr>\n    <tr>\n      <th>990173</th>\n      <td>2009-11-01 14:37:13.000000100</td>\n      <td>2.50</td>\n      <td>2009-11-01 14:37:13</td>\n      <td>-73.996724</td>\n      <td>40.764173</td>\n      <td>-73.996724</td>\n      <td>40.764173</td>\n      <td>1</td>\n      <td>0.000000</td>\n      <td>2009</td>\n      <td>11</td>\n      <td>1</td>\n      <td>6</td>\n      <td>14</td>\n    </tr>\n    <tr>\n      <th>991639</th>\n      <td>2009-10-27 17:59:20.000000100</td>\n      <td>2.50</td>\n      <td>2009-10-27 17:59:20</td>\n      <td>-73.988508</td>\n      <td>40.727381</td>\n      <td>-73.988508</td>\n      <td>40.727381</td>\n      <td>1</td>\n      <td>0.000000</td>\n      <td>2009</td>\n      <td>10</td>\n      <td>27</td>\n      <td>1</td>\n      <td>17</td>\n    </tr>\n    <tr>\n      <th>991940</th>\n      <td>2009-11-18 23:23:55.000000200</td>\n      <td>2.50</td>\n      <td>2009-11-18 23:23:55</td>\n      <td>-73.982666</td>\n      <td>40.756720</td>\n      <td>-73.982666</td>\n      <td>40.756720</td>\n      <td>1</td>\n      <td>0.000000</td>\n      <td>2009</td>\n      <td>11</td>\n      <td>18</td>\n      <td>2</td>\n      <td>23</td>\n    </tr>\n    <tr>\n      <th>993740</th>\n      <td>2009-02-05 09:11:50.000000600</td>\n      <td>2.50</td>\n      <td>2009-02-05 09:11:50</td>\n      <td>-73.996615</td>\n      <td>40.747679</td>\n      <td>-73.996615</td>\n      <td>40.747679</td>\n      <td>1</td>\n      <td>0.000000</td>\n      <td>2009</td>\n      <td>2</td>\n      <td>5</td>\n      <td>3</td>\n      <td>9</td>\n    </tr>\n    <tr>\n      <th>994092</th>\n      <td>2012-02-27 07:36:00.000000150</td>\n      <td>2.50</td>\n      <td>2012-02-27 07:36:00</td>\n      <td>0.000000</td>\n      <td>0.000000</td>\n      <td>0.000000</td>\n      <td>0.000000</td>\n      <td>1</td>\n      <td>0.000000</td>\n      <td>2012</td>\n      <td>2</td>\n      <td>27</td>\n      <td>0</td>\n      <td>7</td>\n    </tr>\n    <tr>\n      <th>994174</th>\n      <td>2015-03-19 21:34:53.000000700</td>\n      <td>2.50</td>\n      <td>2015-03-19 21:34:53</td>\n      <td>0.000000</td>\n      <td>0.000000</td>\n      <td>0.000000</td>\n      <td>0.000000</td>\n      <td>1</td>\n      <td>0.000000</td>\n      <td>2015</td>\n      <td>3</td>\n      <td>19</td>\n      <td>3</td>\n      <td>21</td>\n    </tr>\n    <tr>\n      <th>994387</th>\n      <td>2014-02-04 14:45:01.000000200</td>\n      <td>2.50</td>\n      <td>2014-02-04 14:45:01</td>\n      <td>0.000000</td>\n      <td>0.000000</td>\n      <td>0.000000</td>\n      <td>0.000000</td>\n      <td>1</td>\n      <td>0.000000</td>\n      <td>2014</td>\n      <td>2</td>\n      <td>4</td>\n      <td>1</td>\n      <td>14</td>\n    </tr>\n    <tr>\n      <th>994951</th>\n      <td>2012-09-05 09:52:34.000000600</td>\n      <td>2.50</td>\n      <td>2012-09-05 09:52:34</td>\n      <td>-73.988324</td>\n      <td>40.750035</td>\n      <td>-73.988324</td>\n      <td>40.750035</td>\n      <td>1</td>\n      <td>0.000000</td>\n      <td>2012</td>\n      <td>9</td>\n      <td>5</td>\n      <td>2</td>\n      <td>9</td>\n    </tr>\n    <tr>\n      <th>996620</th>\n      <td>2012-02-22 14:08:06.000000200</td>\n      <td>2.50</td>\n      <td>2012-02-22 14:08:06</td>\n      <td>-73.945397</td>\n      <td>40.774200</td>\n      <td>-73.945397</td>\n      <td>40.774200</td>\n      <td>1</td>\n      <td>0.000000</td>\n      <td>2012</td>\n      <td>2</td>\n      <td>22</td>\n      <td>2</td>\n      <td>14</td>\n    </tr>\n    <tr>\n      <th>996710</th>\n      <td>2010-09-27 21:54:00.000000540</td>\n      <td>2.50</td>\n      <td>2010-09-27 21:54:00</td>\n      <td>-73.983942</td>\n      <td>40.744048</td>\n      <td>-73.983942</td>\n      <td>40.744048</td>\n      <td>1</td>\n      <td>0.000000</td>\n      <td>2010</td>\n      <td>9</td>\n      <td>27</td>\n      <td>0</td>\n      <td>21</td>\n    </tr>\n    <tr>\n      <th>996712</th>\n      <td>2009-06-03 12:28:00.000000480</td>\n      <td>2.50</td>\n      <td>2009-06-03 12:28:00</td>\n      <td>-73.960585</td>\n      <td>40.767772</td>\n      <td>-73.960585</td>\n      <td>40.767772</td>\n      <td>2</td>\n      <td>0.000000</td>\n      <td>2009</td>\n      <td>6</td>\n      <td>3</td>\n      <td>2</td>\n      <td>12</td>\n    </tr>\n    <tr>\n      <th>996752</th>\n      <td>2010-04-26 08:31:31.000000200</td>\n      <td>2.50</td>\n      <td>2010-04-26 08:31:31</td>\n      <td>-73.970879</td>\n      <td>40.764550</td>\n      <td>-73.970879</td>\n      <td>40.764550</td>\n      <td>1</td>\n      <td>0.000000</td>\n      <td>2010</td>\n      <td>4</td>\n      <td>26</td>\n      <td>0</td>\n      <td>8</td>\n    </tr>\n    <tr>\n      <th>999462</th>\n      <td>2012-02-09 21:36:00.000000243</td>\n      <td>2.50</td>\n      <td>2012-02-09 21:36:00</td>\n      <td>0.000000</td>\n      <td>0.000000</td>\n      <td>0.000000</td>\n      <td>0.000000</td>\n      <td>1</td>\n      <td>0.000000</td>\n      <td>2012</td>\n      <td>2</td>\n      <td>9</td>\n      <td>3</td>\n      <td>21</td>\n    </tr>\n    <tr>\n      <th>925892</th>\n      <td>2015-01-21 14:12:00.000000400</td>\n      <td>1.90</td>\n      <td>2015-01-21 14:12:00</td>\n      <td>0.000000</td>\n      <td>0.000000</td>\n      <td>0.000000</td>\n      <td>0.000000</td>\n      <td>1</td>\n      <td>0.000000</td>\n      <td>2015</td>\n      <td>1</td>\n      <td>21</td>\n      <td>2</td>\n      <td>14</td>\n    </tr>\n    <tr>\n      <th>830616</th>\n      <td>2015-01-21 06:29:21.000000600</td>\n      <td>0.01</td>\n      <td>2015-01-21 06:29:21</td>\n      <td>0.000000</td>\n      <td>0.000000</td>\n      <td>0.000000</td>\n      <td>0.000000</td>\n      <td>1</td>\n      <td>0.000000</td>\n      <td>2015</td>\n      <td>1</td>\n      <td>21</td>\n      <td>2</td>\n      <td>6</td>\n    </tr>\n    <tr>\n      <th>105051</th>\n      <td>2013-08-21 21:41:00.000000215</td>\n      <td>0.00</td>\n      <td>2013-08-21 21:41:00</td>\n      <td>0.000000</td>\n      <td>0.000000</td>\n      <td>0.000000</td>\n      <td>0.000000</td>\n      <td>2</td>\n      <td>0.000000</td>\n      <td>2013</td>\n      <td>8</td>\n      <td>21</td>\n      <td>2</td>\n      <td>21</td>\n    </tr>\n    <tr>\n      <th>331597</th>\n      <td>2013-08-05 06:45:54.000000500</td>\n      <td>0.00</td>\n      <td>2013-08-05 06:45:54</td>\n      <td>-73.982354</td>\n      <td>40.679971</td>\n      <td>-73.982354</td>\n      <td>40.679971</td>\n      <td>1</td>\n      <td>0.000000</td>\n      <td>2013</td>\n      <td>8</td>\n      <td>5</td>\n      <td>0</td>\n      <td>6</td>\n    </tr>\n    <tr>\n      <th>436658</th>\n      <td>2015-03-04 22:33:39.000000800</td>\n      <td>0.00</td>\n      <td>2015-03-04 22:33:39</td>\n      <td>-74.043442</td>\n      <td>40.788208</td>\n      <td>-74.043442</td>\n      <td>40.788208</td>\n      <td>1</td>\n      <td>0.000000</td>\n      <td>2015</td>\n      <td>3</td>\n      <td>4</td>\n      <td>2</td>\n      <td>22</td>\n    </tr>\n    <tr>\n      <th>689250</th>\n      <td>2015-05-27 23:10:03.000000400</td>\n      <td>0.00</td>\n      <td>2015-05-27 23:10:03</td>\n      <td>-73.994125</td>\n      <td>40.741131</td>\n      <td>-73.994125</td>\n      <td>40.741131</td>\n      <td>1</td>\n      <td>0.000000</td>\n      <td>2015</td>\n      <td>5</td>\n      <td>27</td>\n      <td>2</td>\n      <td>23</td>\n    </tr>\n  </tbody>\n</table>\n<p>999920 rows × 14 columns</p>\n</div>"
          },
          "metadata": {}
        }
      ]
    },
    {
      "metadata": {
        "trusted": true,
        "_uuid": "98c798439d8adaa0f17edf8e489f9ea0ab40be7f"
      },
      "cell_type": "code",
      "source": "len(train)",
      "execution_count": 124,
      "outputs": [
        {
          "output_type": "execute_result",
          "execution_count": 124,
          "data": {
            "text/plain": "999920"
          },
          "metadata": {}
        }
      ]
    },
    {
      "metadata": {
        "trusted": true,
        "_uuid": "b3e08401c7c2cf03ee72bb66fb340b551ecac49a"
      },
      "cell_type": "code",
      "source": "bins_0 = train.loc[(train['H_Distance'] == 0), ['H_Distance']]\nbins_1 = train.loc[(train['H_Distance'] > 0) & (train['H_Distance'] <= 10),['H_Distance']]\nbins_2 = train.loc[(train['H_Distance'] > 10) & (train['H_Distance'] <= 50),['H_Distance']]\nbins_3 = train.loc[(train['H_Distance'] > 50) & (train['H_Distance'] <= 100),['H_Distance']]\nbins_4 = train.loc[(train['H_Distance'] > 100) & (train['H_Distance'] <= 200),['H_Distance']]\nbins_5 = train.loc[(train['H_Distance'] > 200) & (train['H_Distance'] <= 300),['H_Distance']]\nbins_6 = train.loc[(train['H_Distance'] > 300),['H_Distance']]\nbins_0['bins'] = '0'\nbins_1['bins'] = '0-10'\nbins_2['bins'] = '11-50'\nbins_3['bins'] = '51-100'\nbins_4['bins'] = '100-200'\nbins_5['bins'] = '201-300'\nbins_6['bins'] = '>300'\ndist_bins =pd.concat([bins_0,bins_1,bins_2,bins_3,bins_4,bins_5,bins_6])\n#len(dist_bins)\ndist_bins.columns",
      "execution_count": 125,
      "outputs": [
        {
          "output_type": "execute_result",
          "execution_count": 125,
          "data": {
            "text/plain": "Index(['H_Distance', 'bins'], dtype='object')"
          },
          "metadata": {}
        }
      ]
    },
    {
      "metadata": {
        "trusted": true,
        "_uuid": "a8a150212828ee93ef55a4a0e4dc695d5f6ae8ff"
      },
      "cell_type": "code",
      "source": "Counter(dist_bins['bins'])",
      "execution_count": 126,
      "outputs": [
        {
          "output_type": "execute_result",
          "execution_count": 126,
          "data": {
            "text/plain": "Counter({'0': 28481,\n         '0-10': 920071,\n         '11-50': 49073,\n         '51-100': 147,\n         '100-200': 206,\n         '201-300': 5,\n         '>300': 1937})"
          },
          "metadata": {}
        }
      ]
    },
    {
      "metadata": {
        "trusted": true,
        "_uuid": "baf683de75106b63d94cd7cdfdc5c82b4f650e53"
      },
      "cell_type": "code",
      "source": "train = train.drop(train.loc[((train['pickup_latitude']==0) & (train['pickup_longitude']==0))&((train['dropoff_latitude']!=0) & (train['dropoff_longitude']!=0)) & (train['fare_amount']==0)].index, axis=0)",
      "execution_count": 127,
      "outputs": []
    },
    {
      "metadata": {
        "trusted": true,
        "_uuid": "c59499a60306014271f8c1bca12f6b58ede7ce26"
      },
      "cell_type": "code",
      "source": "train = train.drop(train.loc[((train['pickup_latitude']!=0) & (train['pickup_longitude']!=0))&((train['dropoff_latitude']==0) & (train['dropoff_longitude']==0)) & (train['fare_amount']==0)].index, axis=0)",
      "execution_count": 128,
      "outputs": []
    },
    {
      "metadata": {
        "trusted": true,
        "_uuid": "2c2b44ab44acba28b4c14592827e211a816b2eba"
      },
      "cell_type": "code",
      "source": "high_distance = train.loc[(train['H_Distance']>200)&(train['fare_amount']!=0)]",
      "execution_count": 129,
      "outputs": []
    },
    {
      "metadata": {
        "trusted": true,
        "_uuid": "a1f0ea617edb45e2a515f582b98482a4c4dad264"
      },
      "cell_type": "code",
      "source": "high_distance",
      "execution_count": 130,
      "outputs": [
        {
          "output_type": "execute_result",
          "execution_count": 130,
          "data": {
            "text/plain": "                                 key  fare_amount  ...  Day_of_week  Hour\n472    2009-02-22 22:48:00.000000130         2.50  ...            6    22\n1260   2011-03-10 20:25:00.000000490         5.70  ...            3    20\n2280   2011-08-29 08:24:00.000000107         8.90  ...            0     8\n2397   2012-06-24 17:11:10.000000100        45.00  ...            6    17\n4278   2015-04-07 23:33:02.000000500         7.00  ...            1    23\n4597   2010-03-30 07:12:00.000000158         6.90  ...            1     7\n5864   2012-03-04 01:35:00.000000173         8.50  ...            6     1\n6188   2014-07-28 15:04:00.000000280        15.50  ...            0    15\n6302   2015-02-27 16:18:58.000000400        16.50  ...            4    16\n7014   2011-06-18 04:03:00.000000830         4.50  ...            5     4\n8647   2014-03-27 18:01:00.000000710        21.50  ...            3    18\n9147   2014-07-14 21:37:29.000000200         8.50  ...            0    21\n10215  2011-03-18 09:33:41.000000300        13.30  ...            4     9\n10458  2013-02-23 20:58:00.000000150         2.50  ...            5    20\n10488  2012-03-15 00:30:07.000000100         5.30  ...            3     0\n10672  2015-04-30 15:34:46.000000200        18.00  ...            3    15\n11653  2015-03-04 16:06:28.000000100        16.00  ...            2    16\n12705  2012-10-31 14:37:00.000000460         2.50  ...            2    14\n12983  2013-03-07 21:04:00.000000131        57.33  ...            3    21\n13340  2014-03-31 12:34:47.000000400        18.50  ...            0    12\n14197  2013-04-19 16:49:00.000000540        48.00  ...            4    16\n14308  2011-11-11 12:03:38.000000200         8.10  ...            4    12\n15749  2012-05-12 17:58:00.000000118        10.90  ...            5    17\n15783  2014-09-28 08:18:55.000000400        26.50  ...            6     8\n15919  2011-10-17 08:58:54.000000500        16.50  ...            0     8\n16690  2013-03-16 03:22:56.000000100        12.00  ...            5     3\n17159  2012-05-12 22:32:00.000000122         5.70  ...            5    22\n17825  2012-06-05 09:11:00.000000114        16.50  ...            1     9\n18388  2012-04-11 01:57:21.000000100         4.10  ...            2     1\n18680  2010-01-30 00:05:13.000000100         6.50  ...            5     0\n...                              ...          ...  ...          ...   ...\n985173 2011-09-15 19:08:00.000000130        17.30  ...            3    19\n986321 2015-01-28 14:21:08.000000100        17.00  ...            2    14\n986518 2015-06-28 12:37:12.000000100         5.00  ...            6    12\n987328 2012-02-08 12:20:00.000000152         6.10  ...            2    12\n987841 2015-03-16 23:21:00.000000500         6.00  ...            0    23\n987982 2012-07-11 05:57:00.000000390         9.30  ...            2     5\n988080 2010-05-25 01:12:02.000000100        12.50  ...            1     1\n988344 2012-04-14 16:45:00.000000720        16.50  ...            5    16\n988747 2013-08-12 16:33:28.000000200        34.50  ...            0    16\n989281 2014-09-14 01:53:48.000000100        13.50  ...            6     1\n990937 2012-04-19 01:28:00.000000300        10.50  ...            3     1\n992056 2012-07-21 03:55:00.000000610        55.50  ...            5     3\n992490 2015-05-08 06:38:27.000000600        52.00  ...            4     6\n992730 2012-04-26 18:50:00.000000108         8.90  ...            3    18\n992846 2012-07-10 09:20:00.000000131         8.90  ...            1     9\n993372 2014-03-26 08:08:00.000000105         9.50  ...            2     8\n993672 2014-04-22 12:47:34.000000300         5.50  ...            1    12\n994162 2014-03-29 14:49:00.000000146        11.00  ...            5    14\n994316 2011-01-10 11:58:00.000000156         6.50  ...            0    11\n994608 2014-07-08 23:07:00.000000219        31.33  ...            1    23\n994663 2014-08-19 05:55:09.000000100         9.00  ...            1     5\n994980 2009-08-19 17:43:00.000000800        12.90  ...            2    17\n995910 2014-08-02 01:23:49.000000300        15.50  ...            5     1\n996613 2014-01-15 10:32:49.000000900         2.50  ...            2    10\n997107 2012-07-27 08:53:00.000000226         6.10  ...            4     8\n997656 2012-01-21 01:43:00.000000134        26.50  ...            5     1\n997786 2012-02-27 21:12:17.000000300        13.70  ...            0    21\n998269 2012-10-19 16:56:00.000000300        32.30  ...            4    16\n998717 2014-07-24 21:48:00.000000155         6.50  ...            3    21\n999338 2014-10-20 16:56:24.000000200         4.00  ...            0    16\n\n[1938 rows x 14 columns]",
            "text/html": "<div>\n<style scoped>\n    .dataframe tbody tr th:only-of-type {\n        vertical-align: middle;\n    }\n\n    .dataframe tbody tr th {\n        vertical-align: top;\n    }\n\n    .dataframe thead th {\n        text-align: right;\n    }\n</style>\n<table border=\"1\" class=\"dataframe\">\n  <thead>\n    <tr style=\"text-align: right;\">\n      <th></th>\n      <th>key</th>\n      <th>fare_amount</th>\n      <th>pickup_datetime</th>\n      <th>pickup_longitude</th>\n      <th>pickup_latitude</th>\n      <th>dropoff_longitude</th>\n      <th>dropoff_latitude</th>\n      <th>passenger_count</th>\n      <th>H_Distance</th>\n      <th>Year</th>\n      <th>Month</th>\n      <th>Date</th>\n      <th>Day_of_week</th>\n      <th>Hour</th>\n    </tr>\n  </thead>\n  <tbody>\n    <tr>\n      <th>472</th>\n      <td>2009-02-22 22:48:00.000000130</td>\n      <td>2.50</td>\n      <td>2009-02-22 22:48:00</td>\n      <td>0.000000</td>\n      <td>0.000000</td>\n      <td>-74.005433</td>\n      <td>40.726685</td>\n      <td>2</td>\n      <td>8667.304968</td>\n      <td>2009</td>\n      <td>2</td>\n      <td>22</td>\n      <td>6</td>\n      <td>22</td>\n    </tr>\n    <tr>\n      <th>1260</th>\n      <td>2011-03-10 20:25:00.000000490</td>\n      <td>5.70</td>\n      <td>2011-03-10 20:25:00</td>\n      <td>-73.973907</td>\n      <td>40.754743</td>\n      <td>0.000000</td>\n      <td>0.000000</td>\n      <td>2</td>\n      <td>8665.268588</td>\n      <td>2011</td>\n      <td>3</td>\n      <td>10</td>\n      <td>3</td>\n      <td>20</td>\n    </tr>\n    <tr>\n      <th>2280</th>\n      <td>2011-08-29 08:24:00.000000107</td>\n      <td>8.90</td>\n      <td>2011-08-29 08:24:00</td>\n      <td>-73.936667</td>\n      <td>40.757815</td>\n      <td>0.000000</td>\n      <td>40.757815</td>\n      <td>1</td>\n      <td>6026.494216</td>\n      <td>2011</td>\n      <td>8</td>\n      <td>29</td>\n      <td>0</td>\n      <td>8</td>\n    </tr>\n    <tr>\n      <th>2397</th>\n      <td>2012-06-24 17:11:10.000000100</td>\n      <td>45.00</td>\n      <td>2012-06-24 17:11:10</td>\n      <td>0.000000</td>\n      <td>0.000000</td>\n      <td>-74.010230</td>\n      <td>40.714553</td>\n      <td>2</td>\n      <td>8667.454421</td>\n      <td>2012</td>\n      <td>6</td>\n      <td>24</td>\n      <td>6</td>\n      <td>17</td>\n    </tr>\n    <tr>\n      <th>4278</th>\n      <td>2015-04-07 23:33:02.000000500</td>\n      <td>7.00</td>\n      <td>2015-04-07 23:33:02</td>\n      <td>-73.972702</td>\n      <td>40.757423</td>\n      <td>0.000000</td>\n      <td>0.000000</td>\n      <td>1</td>\n      <td>8665.223767</td>\n      <td>2015</td>\n      <td>4</td>\n      <td>7</td>\n      <td>1</td>\n      <td>23</td>\n    </tr>\n    <tr>\n      <th>4597</th>\n      <td>2010-03-30 07:12:00.000000158</td>\n      <td>6.90</td>\n      <td>2010-03-30 07:12:00</td>\n      <td>0.000000</td>\n      <td>0.000000</td>\n      <td>-73.989693</td>\n      <td>40.754280</td>\n      <td>1</td>\n      <td>8666.566030</td>\n      <td>2010</td>\n      <td>3</td>\n      <td>30</td>\n      <td>1</td>\n      <td>7</td>\n    </tr>\n    <tr>\n      <th>5864</th>\n      <td>2012-03-04 01:35:00.000000173</td>\n      <td>8.50</td>\n      <td>2012-03-04 01:35:00</td>\n      <td>-73.995030</td>\n      <td>40.744945</td>\n      <td>-7.986640</td>\n      <td>40.729937</td>\n      <td>1</td>\n      <td>5420.988959</td>\n      <td>2012</td>\n      <td>3</td>\n      <td>4</td>\n      <td>6</td>\n      <td>1</td>\n    </tr>\n    <tr>\n      <th>6188</th>\n      <td>2014-07-28 15:04:00.000000280</td>\n      <td>15.50</td>\n      <td>2014-07-28 15:04:00</td>\n      <td>0.000000</td>\n      <td>0.000000</td>\n      <td>-73.952980</td>\n      <td>40.786670</td>\n      <td>5</td>\n      <td>8664.191488</td>\n      <td>2014</td>\n      <td>7</td>\n      <td>28</td>\n      <td>0</td>\n      <td>15</td>\n    </tr>\n    <tr>\n      <th>6302</th>\n      <td>2015-02-27 16:18:58.000000400</td>\n      <td>16.50</td>\n      <td>2015-02-27 16:18:58</td>\n      <td>0.000000</td>\n      <td>0.000000</td>\n      <td>-73.936600</td>\n      <td>40.796543</td>\n      <td>1</td>\n      <td>8663.039123</td>\n      <td>2015</td>\n      <td>2</td>\n      <td>27</td>\n      <td>4</td>\n      <td>16</td>\n    </tr>\n    <tr>\n      <th>7014</th>\n      <td>2011-06-18 04:03:00.000000830</td>\n      <td>4.50</td>\n      <td>2011-06-18 04:03:00</td>\n      <td>-73.988980</td>\n      <td>40.721697</td>\n      <td>-74.001073</td>\n      <td>0.728087</td>\n      <td>3</td>\n      <td>4447.086698</td>\n      <td>2011</td>\n      <td>6</td>\n      <td>18</td>\n      <td>5</td>\n      <td>4</td>\n    </tr>\n    <tr>\n      <th>8647</th>\n      <td>2014-03-27 18:01:00.000000710</td>\n      <td>21.50</td>\n      <td>2014-03-27 18:01:00</td>\n      <td>-74.001808</td>\n      <td>40.750782</td>\n      <td>0.000000</td>\n      <td>0.000000</td>\n      <td>1</td>\n      <td>8667.497512</td>\n      <td>2014</td>\n      <td>3</td>\n      <td>27</td>\n      <td>3</td>\n      <td>18</td>\n    </tr>\n    <tr>\n      <th>9147</th>\n      <td>2014-07-14 21:37:29.000000200</td>\n      <td>8.50</td>\n      <td>2014-07-14 21:37:29</td>\n      <td>0.000000</td>\n      <td>0.000000</td>\n      <td>-74.002037</td>\n      <td>40.752035</td>\n      <td>1</td>\n      <td>8667.542104</td>\n      <td>2014</td>\n      <td>7</td>\n      <td>14</td>\n      <td>0</td>\n      <td>21</td>\n    </tr>\n    <tr>\n      <th>10215</th>\n      <td>2011-03-18 09:33:41.000000300</td>\n      <td>13.30</td>\n      <td>2011-03-18 09:33:41</td>\n      <td>0.000000</td>\n      <td>0.000000</td>\n      <td>-73.990138</td>\n      <td>40.753392</td>\n      <td>1</td>\n      <td>8666.584706</td>\n      <td>2011</td>\n      <td>3</td>\n      <td>18</td>\n      <td>4</td>\n      <td>9</td>\n    </tr>\n    <tr>\n      <th>10458</th>\n      <td>2013-02-23 20:58:00.000000150</td>\n      <td>2.50</td>\n      <td>2013-02-23 20:58:00</td>\n      <td>-73.979678</td>\n      <td>40.765962</td>\n      <td>0.000000</td>\n      <td>0.000000</td>\n      <td>1</td>\n      <td>8665.976222</td>\n      <td>2013</td>\n      <td>2</td>\n      <td>23</td>\n      <td>5</td>\n      <td>20</td>\n    </tr>\n    <tr>\n      <th>10488</th>\n      <td>2012-03-15 00:30:07.000000100</td>\n      <td>5.30</td>\n      <td>2012-03-15 00:30:07</td>\n      <td>-73.978103</td>\n      <td>40.751798</td>\n      <td>0.000000</td>\n      <td>0.000000</td>\n      <td>1</td>\n      <td>8665.555634</td>\n      <td>2012</td>\n      <td>3</td>\n      <td>15</td>\n      <td>3</td>\n      <td>0</td>\n    </tr>\n    <tr>\n      <th>10672</th>\n      <td>2015-04-30 15:34:46.000000200</td>\n      <td>18.00</td>\n      <td>2015-04-30 15:34:46</td>\n      <td>-73.979355</td>\n      <td>40.753902</td>\n      <td>0.000000</td>\n      <td>0.000000</td>\n      <td>1</td>\n      <td>8665.702390</td>\n      <td>2015</td>\n      <td>4</td>\n      <td>30</td>\n      <td>3</td>\n      <td>15</td>\n    </tr>\n    <tr>\n      <th>11653</th>\n      <td>2015-03-04 16:06:28.000000100</td>\n      <td>16.00</td>\n      <td>2015-03-04 16:06:28</td>\n      <td>0.000000</td>\n      <td>0.000000</td>\n      <td>-73.985329</td>\n      <td>40.778534</td>\n      <td>1</td>\n      <td>8666.701504</td>\n      <td>2015</td>\n      <td>3</td>\n      <td>4</td>\n      <td>2</td>\n      <td>16</td>\n    </tr>\n    <tr>\n      <th>12705</th>\n      <td>2012-10-31 14:37:00.000000460</td>\n      <td>2.50</td>\n      <td>2012-10-31 14:37:00</td>\n      <td>-73.929230</td>\n      <td>40.744627</td>\n      <td>0.000000</td>\n      <td>0.000000</td>\n      <td>5</td>\n      <td>8661.362152</td>\n      <td>2012</td>\n      <td>10</td>\n      <td>31</td>\n      <td>2</td>\n      <td>14</td>\n    </tr>\n    <tr>\n      <th>12983</th>\n      <td>2013-03-07 21:04:00.000000131</td>\n      <td>57.33</td>\n      <td>2013-03-07 21:04:00</td>\n      <td>-73.958870</td>\n      <td>40.760012</td>\n      <td>0.000000</td>\n      <td>0.000000</td>\n      <td>1</td>\n      <td>8664.131808</td>\n      <td>2013</td>\n      <td>3</td>\n      <td>7</td>\n      <td>3</td>\n      <td>21</td>\n    </tr>\n    <tr>\n      <th>13340</th>\n      <td>2014-03-31 12:34:47.000000400</td>\n      <td>18.50</td>\n      <td>2014-03-31 12:34:47</td>\n      <td>0.000000</td>\n      <td>0.000000</td>\n      <td>-73.997643</td>\n      <td>40.724432</td>\n      <td>1</td>\n      <td>8666.613646</td>\n      <td>2014</td>\n      <td>3</td>\n      <td>31</td>\n      <td>0</td>\n      <td>12</td>\n    </tr>\n    <tr>\n      <th>14197</th>\n      <td>2013-04-19 16:49:00.000000540</td>\n      <td>48.00</td>\n      <td>2013-04-19 16:49:00</td>\n      <td>-73.870945</td>\n      <td>40.773700</td>\n      <td>0.000000</td>\n      <td>0.000000</td>\n      <td>1</td>\n      <td>8657.136619</td>\n      <td>2013</td>\n      <td>4</td>\n      <td>19</td>\n      <td>4</td>\n      <td>16</td>\n    </tr>\n    <tr>\n      <th>14308</th>\n      <td>2011-11-11 12:03:38.000000200</td>\n      <td>8.10</td>\n      <td>2011-11-11 12:03:38</td>\n      <td>0.000000</td>\n      <td>0.000000</td>\n      <td>-73.990000</td>\n      <td>40.755400</td>\n      <td>0</td>\n      <td>8666.614377</td>\n      <td>2011</td>\n      <td>11</td>\n      <td>11</td>\n      <td>4</td>\n      <td>12</td>\n    </tr>\n    <tr>\n      <th>15749</th>\n      <td>2012-05-12 17:58:00.000000118</td>\n      <td>10.90</td>\n      <td>2012-05-12 17:58:00</td>\n      <td>-73.967183</td>\n      <td>40.772403</td>\n      <td>0.000000</td>\n      <td>40.740677</td>\n      <td>1</td>\n      <td>6028.926779</td>\n      <td>2012</td>\n      <td>5</td>\n      <td>12</td>\n      <td>5</td>\n      <td>17</td>\n    </tr>\n    <tr>\n      <th>15783</th>\n      <td>2014-09-28 08:18:55.000000400</td>\n      <td>26.50</td>\n      <td>2014-09-28 08:18:55</td>\n      <td>0.000000</td>\n      <td>0.000000</td>\n      <td>-73.867056</td>\n      <td>40.768823</td>\n      <td>1</td>\n      <td>8656.714168</td>\n      <td>2014</td>\n      <td>9</td>\n      <td>28</td>\n      <td>6</td>\n      <td>8</td>\n    </tr>\n    <tr>\n      <th>15919</th>\n      <td>2011-10-17 08:58:54.000000500</td>\n      <td>16.50</td>\n      <td>2011-10-17 08:58:54</td>\n      <td>0.000000</td>\n      <td>0.000000</td>\n      <td>-73.999700</td>\n      <td>40.734500</td>\n      <td>0</td>\n      <td>8666.989922</td>\n      <td>2011</td>\n      <td>10</td>\n      <td>17</td>\n      <td>0</td>\n      <td>8</td>\n    </tr>\n    <tr>\n      <th>16690</th>\n      <td>2013-03-16 03:22:56.000000100</td>\n      <td>12.00</td>\n      <td>2013-03-16 03:22:56</td>\n      <td>0.000000</td>\n      <td>0.000000</td>\n      <td>-73.997673</td>\n      <td>40.746340</td>\n      <td>1</td>\n      <td>8667.064257</td>\n      <td>2013</td>\n      <td>3</td>\n      <td>16</td>\n      <td>5</td>\n      <td>3</td>\n    </tr>\n    <tr>\n      <th>17159</th>\n      <td>2012-05-12 22:32:00.000000122</td>\n      <td>5.70</td>\n      <td>2012-05-12 22:32:00</td>\n      <td>0.000000</td>\n      <td>0.000000</td>\n      <td>-73.984282</td>\n      <td>40.733148</td>\n      <td>1</td>\n      <td>8665.685354</td>\n      <td>2012</td>\n      <td>5</td>\n      <td>12</td>\n      <td>5</td>\n      <td>22</td>\n    </tr>\n    <tr>\n      <th>17825</th>\n      <td>2012-06-05 09:11:00.000000114</td>\n      <td>16.50</td>\n      <td>2012-06-05 09:11:00</td>\n      <td>0.000000</td>\n      <td>40.744977</td>\n      <td>-73.988625</td>\n      <td>40.737310</td>\n      <td>1</td>\n      <td>6032.057759</td>\n      <td>2012</td>\n      <td>6</td>\n      <td>5</td>\n      <td>1</td>\n      <td>9</td>\n    </tr>\n    <tr>\n      <th>18388</th>\n      <td>2012-04-11 01:57:21.000000100</td>\n      <td>4.10</td>\n      <td>2012-04-11 01:57:21</td>\n      <td>-73.997738</td>\n      <td>40.714043</td>\n      <td>0.000000</td>\n      <td>0.000000</td>\n      <td>1</td>\n      <td>8666.409077</td>\n      <td>2012</td>\n      <td>4</td>\n      <td>11</td>\n      <td>2</td>\n      <td>1</td>\n    </tr>\n    <tr>\n      <th>18680</th>\n      <td>2010-01-30 00:05:13.000000100</td>\n      <td>6.50</td>\n      <td>2010-01-30 00:05:13</td>\n      <td>-73.994439</td>\n      <td>40.750632</td>\n      <td>-84.654241</td>\n      <td>-2.269701</td>\n      <td>1</td>\n      <td>4904.407796</td>\n      <td>2010</td>\n      <td>1</td>\n      <td>30</td>\n      <td>5</td>\n      <td>0</td>\n    </tr>\n    <tr>\n      <th>...</th>\n      <td>...</td>\n      <td>...</td>\n      <td>...</td>\n      <td>...</td>\n      <td>...</td>\n      <td>...</td>\n      <td>...</td>\n      <td>...</td>\n      <td>...</td>\n      <td>...</td>\n      <td>...</td>\n      <td>...</td>\n      <td>...</td>\n      <td>...</td>\n    </tr>\n    <tr>\n      <th>985173</th>\n      <td>2011-09-15 19:08:00.000000130</td>\n      <td>17.30</td>\n      <td>2011-09-15 19:08:00</td>\n      <td>0.000000</td>\n      <td>40.725167</td>\n      <td>-73.993850</td>\n      <td>40.766935</td>\n      <td>1</td>\n      <td>6031.972449</td>\n      <td>2011</td>\n      <td>9</td>\n      <td>15</td>\n      <td>3</td>\n      <td>19</td>\n    </tr>\n    <tr>\n      <th>986321</th>\n      <td>2015-01-28 14:21:08.000000100</td>\n      <td>17.00</td>\n      <td>2015-01-28 14:21:08</td>\n      <td>0.000000</td>\n      <td>0.000000</td>\n      <td>-73.963486</td>\n      <td>40.773655</td>\n      <td>1</td>\n      <td>8664.793738</td>\n      <td>2015</td>\n      <td>1</td>\n      <td>28</td>\n      <td>2</td>\n      <td>14</td>\n    </tr>\n    <tr>\n      <th>986518</th>\n      <td>2015-06-28 12:37:12.000000100</td>\n      <td>5.00</td>\n      <td>2015-06-28 12:37:12</td>\n      <td>-73.978470</td>\n      <td>40.785969</td>\n      <td>0.000000</td>\n      <td>0.000000</td>\n      <td>1</td>\n      <td>8666.286279</td>\n      <td>2015</td>\n      <td>6</td>\n      <td>28</td>\n      <td>6</td>\n      <td>12</td>\n    </tr>\n    <tr>\n      <th>987328</th>\n      <td>2012-02-08 12:20:00.000000152</td>\n      <td>6.10</td>\n      <td>2012-02-08 12:20:00</td>\n      <td>-73.993438</td>\n      <td>40.742250</td>\n      <td>0.000000</td>\n      <td>40.740402</td>\n      <td>1</td>\n      <td>6032.403684</td>\n      <td>2012</td>\n      <td>2</td>\n      <td>8</td>\n      <td>2</td>\n      <td>12</td>\n    </tr>\n    <tr>\n      <th>987841</th>\n      <td>2015-03-16 23:21:00.000000500</td>\n      <td>6.00</td>\n      <td>2015-03-16 23:21:00</td>\n      <td>-73.987251</td>\n      <td>40.750492</td>\n      <td>0.000000</td>\n      <td>0.000000</td>\n      <td>2</td>\n      <td>8666.286318</td>\n      <td>2015</td>\n      <td>3</td>\n      <td>16</td>\n      <td>0</td>\n      <td>23</td>\n    </tr>\n    <tr>\n      <th>987982</th>\n      <td>2012-07-11 05:57:00.000000390</td>\n      <td>9.30</td>\n      <td>2012-07-11 05:57:00</td>\n      <td>-73.992030</td>\n      <td>40.721825</td>\n      <td>-0.950000</td>\n      <td>40.714140</td>\n      <td>1</td>\n      <td>5962.613734</td>\n      <td>2012</td>\n      <td>7</td>\n      <td>11</td>\n      <td>2</td>\n      <td>5</td>\n    </tr>\n    <tr>\n      <th>988080</th>\n      <td>2010-05-25 01:12:02.000000100</td>\n      <td>12.50</td>\n      <td>2010-05-25 01:12:02</td>\n      <td>0.000000</td>\n      <td>0.000000</td>\n      <td>-73.916848</td>\n      <td>40.747673</td>\n      <td>1</td>\n      <td>8660.399659</td>\n      <td>2010</td>\n      <td>5</td>\n      <td>25</td>\n      <td>1</td>\n      <td>1</td>\n    </tr>\n    <tr>\n      <th>988344</th>\n      <td>2012-04-14 16:45:00.000000720</td>\n      <td>16.50</td>\n      <td>2012-04-14 16:45:00</td>\n      <td>0.000000</td>\n      <td>40.723167</td>\n      <td>-73.974387</td>\n      <td>40.756960</td>\n      <td>1</td>\n      <td>6031.088070</td>\n      <td>2012</td>\n      <td>4</td>\n      <td>14</td>\n      <td>5</td>\n      <td>16</td>\n    </tr>\n    <tr>\n      <th>988747</th>\n      <td>2013-08-12 16:33:28.000000200</td>\n      <td>34.50</td>\n      <td>2013-08-12 16:33:28</td>\n      <td>0.000000</td>\n      <td>0.000000</td>\n      <td>-73.873182</td>\n      <td>40.774372</td>\n      <td>1</td>\n      <td>8657.335584</td>\n      <td>2013</td>\n      <td>8</td>\n      <td>12</td>\n      <td>0</td>\n      <td>16</td>\n    </tr>\n    <tr>\n      <th>989281</th>\n      <td>2014-09-14 01:53:48.000000100</td>\n      <td>13.50</td>\n      <td>2014-09-14 01:53:48</td>\n      <td>0.000000</td>\n      <td>0.000000</td>\n      <td>-73.991887</td>\n      <td>40.764428</td>\n      <td>1</td>\n      <td>8666.955426</td>\n      <td>2014</td>\n      <td>9</td>\n      <td>14</td>\n      <td>6</td>\n      <td>1</td>\n    </tr>\n    <tr>\n      <th>990937</th>\n      <td>2012-04-19 01:28:00.000000300</td>\n      <td>10.50</td>\n      <td>2012-04-19 01:28:00</td>\n      <td>-0.150000</td>\n      <td>40.726905</td>\n      <td>-73.986220</td>\n      <td>40.763217</td>\n      <td>1</td>\n      <td>6020.149686</td>\n      <td>2012</td>\n      <td>4</td>\n      <td>19</td>\n      <td>3</td>\n      <td>1</td>\n    </tr>\n    <tr>\n      <th>992056</th>\n      <td>2012-07-21 03:55:00.000000610</td>\n      <td>55.50</td>\n      <td>2012-07-21 03:55:00</td>\n      <td>-74.024557</td>\n      <td>40.749610</td>\n      <td>0.000000</td>\n      <td>0.000000</td>\n      <td>2</td>\n      <td>8669.357209</td>\n      <td>2012</td>\n      <td>7</td>\n      <td>21</td>\n      <td>5</td>\n      <td>3</td>\n    </tr>\n    <tr>\n      <th>992490</th>\n      <td>2015-05-08 06:38:27.000000600</td>\n      <td>52.00</td>\n      <td>2015-05-08 06:38:27</td>\n      <td>0.000000</td>\n      <td>0.000000</td>\n      <td>-73.788872</td>\n      <td>40.641655</td>\n      <td>1</td>\n      <td>8647.610745</td>\n      <td>2015</td>\n      <td>5</td>\n      <td>8</td>\n      <td>4</td>\n      <td>6</td>\n    </tr>\n    <tr>\n      <th>992730</th>\n      <td>2012-04-26 18:50:00.000000108</td>\n      <td>8.90</td>\n      <td>2012-04-26 18:50:00</td>\n      <td>-73.971152</td>\n      <td>40.751247</td>\n      <td>-8.433332</td>\n      <td>40.730220</td>\n      <td>5</td>\n      <td>5384.177377</td>\n      <td>2012</td>\n      <td>4</td>\n      <td>26</td>\n      <td>3</td>\n      <td>18</td>\n    </tr>\n    <tr>\n      <th>992846</th>\n      <td>2012-07-10 09:20:00.000000131</td>\n      <td>8.90</td>\n      <td>2012-07-10 09:20:00</td>\n      <td>-73.936667</td>\n      <td>40.759777</td>\n      <td>0.000000</td>\n      <td>0.000000</td>\n      <td>1</td>\n      <td>8662.289089</td>\n      <td>2012</td>\n      <td>7</td>\n      <td>10</td>\n      <td>1</td>\n      <td>9</td>\n    </tr>\n    <tr>\n      <th>993372</th>\n      <td>2014-03-26 08:08:00.000000105</td>\n      <td>9.50</td>\n      <td>2014-03-26 08:08:00</td>\n      <td>-73.952053</td>\n      <td>40.777452</td>\n      <td>0.000000</td>\n      <td>0.000000</td>\n      <td>1</td>\n      <td>8663.925512</td>\n      <td>2014</td>\n      <td>3</td>\n      <td>26</td>\n      <td>2</td>\n      <td>8</td>\n    </tr>\n    <tr>\n      <th>993672</th>\n      <td>2014-04-22 12:47:34.000000300</td>\n      <td>5.50</td>\n      <td>2014-04-22 12:47:34</td>\n      <td>-73.992053</td>\n      <td>40.666927</td>\n      <td>0.000000</td>\n      <td>0.000000</td>\n      <td>1</td>\n      <td>8664.974851</td>\n      <td>2014</td>\n      <td>4</td>\n      <td>22</td>\n      <td>1</td>\n      <td>12</td>\n    </tr>\n    <tr>\n      <th>994162</th>\n      <td>2014-03-29 14:49:00.000000146</td>\n      <td>11.00</td>\n      <td>2014-03-29 14:49:00</td>\n      <td>-73.968420</td>\n      <td>40.750912</td>\n      <td>0.000000</td>\n      <td>0.000000</td>\n      <td>1</td>\n      <td>8664.735795</td>\n      <td>2014</td>\n      <td>3</td>\n      <td>29</td>\n      <td>5</td>\n      <td>14</td>\n    </tr>\n    <tr>\n      <th>994316</th>\n      <td>2011-01-10 11:58:00.000000156</td>\n      <td>6.50</td>\n      <td>2011-01-10 11:58:00</td>\n      <td>-1.311260</td>\n      <td>40.778972</td>\n      <td>-73.983687</td>\n      <td>40.761640</td>\n      <td>1</td>\n      <td>5929.511897</td>\n      <td>2011</td>\n      <td>1</td>\n      <td>10</td>\n      <td>0</td>\n      <td>11</td>\n    </tr>\n    <tr>\n      <th>994608</th>\n      <td>2014-07-08 23:07:00.000000219</td>\n      <td>31.33</td>\n      <td>2014-07-08 23:07:00</td>\n      <td>-73.914885</td>\n      <td>40.707472</td>\n      <td>0.000000</td>\n      <td>0.000000</td>\n      <td>6</td>\n      <td>8659.410634</td>\n      <td>2014</td>\n      <td>7</td>\n      <td>8</td>\n      <td>1</td>\n      <td>23</td>\n    </tr>\n    <tr>\n      <th>994663</th>\n      <td>2014-08-19 05:55:09.000000100</td>\n      <td>9.00</td>\n      <td>2014-08-19 05:55:09</td>\n      <td>0.000000</td>\n      <td>0.000000</td>\n      <td>-73.974026</td>\n      <td>40.758743</td>\n      <td>1</td>\n      <td>8665.360417</td>\n      <td>2014</td>\n      <td>8</td>\n      <td>19</td>\n      <td>1</td>\n      <td>5</td>\n    </tr>\n    <tr>\n      <th>994980</th>\n      <td>2009-08-19 17:43:00.000000800</td>\n      <td>12.90</td>\n      <td>2009-08-19 17:43:00</td>\n      <td>0.000000</td>\n      <td>0.000000</td>\n      <td>-73.930278</td>\n      <td>40.746810</td>\n      <td>1</td>\n      <td>8661.493773</td>\n      <td>2009</td>\n      <td>8</td>\n      <td>19</td>\n      <td>2</td>\n      <td>17</td>\n    </tr>\n    <tr>\n      <th>995910</th>\n      <td>2014-08-02 01:23:49.000000300</td>\n      <td>15.50</td>\n      <td>2014-08-02 01:23:49</td>\n      <td>0.000000</td>\n      <td>0.000000</td>\n      <td>-73.946667</td>\n      <td>40.826452</td>\n      <td>1</td>\n      <td>8664.486651</td>\n      <td>2014</td>\n      <td>8</td>\n      <td>2</td>\n      <td>5</td>\n      <td>1</td>\n    </tr>\n    <tr>\n      <th>996613</th>\n      <td>2014-01-15 10:32:49.000000900</td>\n      <td>2.50</td>\n      <td>2014-01-15 10:32:49</td>\n      <td>0.000000</td>\n      <td>0.000000</td>\n      <td>-73.965077</td>\n      <td>40.771527</td>\n      <td>1</td>\n      <td>8664.881787</td>\n      <td>2014</td>\n      <td>1</td>\n      <td>15</td>\n      <td>2</td>\n      <td>10</td>\n    </tr>\n    <tr>\n      <th>997107</th>\n      <td>2012-07-27 08:53:00.000000226</td>\n      <td>6.10</td>\n      <td>2012-07-27 08:53:00</td>\n      <td>0.000000</td>\n      <td>40.767853</td>\n      <td>-73.953517</td>\n      <td>40.767152</td>\n      <td>4</td>\n      <td>6026.817465</td>\n      <td>2012</td>\n      <td>7</td>\n      <td>27</td>\n      <td>4</td>\n      <td>8</td>\n    </tr>\n    <tr>\n      <th>997656</th>\n      <td>2012-01-21 01:43:00.000000134</td>\n      <td>26.50</td>\n      <td>2012-01-21 01:43:00</td>\n      <td>0.000000</td>\n      <td>0.000000</td>\n      <td>-73.954157</td>\n      <td>40.741552</td>\n      <td>1</td>\n      <td>8663.362917</td>\n      <td>2012</td>\n      <td>1</td>\n      <td>21</td>\n      <td>5</td>\n      <td>1</td>\n    </tr>\n    <tr>\n      <th>997786</th>\n      <td>2012-02-27 21:12:17.000000300</td>\n      <td>13.70</td>\n      <td>2012-02-27 21:12:17</td>\n      <td>-73.991041</td>\n      <td>40.733201</td>\n      <td>0.000000</td>\n      <td>0.000000</td>\n      <td>1</td>\n      <td>8666.246213</td>\n      <td>2012</td>\n      <td>2</td>\n      <td>27</td>\n      <td>0</td>\n      <td>21</td>\n    </tr>\n    <tr>\n      <th>998269</th>\n      <td>2012-10-19 16:56:00.000000300</td>\n      <td>32.30</td>\n      <td>2012-10-19 16:56:00</td>\n      <td>0.000000</td>\n      <td>40.750597</td>\n      <td>-73.863035</td>\n      <td>40.767178</td>\n      <td>1</td>\n      <td>6020.822520</td>\n      <td>2012</td>\n      <td>10</td>\n      <td>19</td>\n      <td>4</td>\n      <td>16</td>\n    </tr>\n    <tr>\n      <th>998717</th>\n      <td>2014-07-24 21:48:00.000000155</td>\n      <td>6.50</td>\n      <td>2014-07-24 21:48:00</td>\n      <td>0.000000</td>\n      <td>0.000000</td>\n      <td>-73.991420</td>\n      <td>40.750400</td>\n      <td>1</td>\n      <td>8666.629589</td>\n      <td>2014</td>\n      <td>7</td>\n      <td>24</td>\n      <td>3</td>\n      <td>21</td>\n    </tr>\n    <tr>\n      <th>999338</th>\n      <td>2014-10-20 16:56:24.000000200</td>\n      <td>4.00</td>\n      <td>2014-10-20 16:56:24</td>\n      <td>0.000000</td>\n      <td>0.000000</td>\n      <td>-73.992518</td>\n      <td>40.741942</td>\n      <td>1</td>\n      <td>8666.547400</td>\n      <td>2014</td>\n      <td>10</td>\n      <td>20</td>\n      <td>0</td>\n      <td>16</td>\n    </tr>\n  </tbody>\n</table>\n<p>1938 rows × 14 columns</p>\n</div>"
          },
          "metadata": {}
        }
      ]
    },
    {
      "metadata": {
        "trusted": true,
        "_uuid": "a1e3fcf98bbcdfb368b4b752098768612fb44cd2"
      },
      "cell_type": "code",
      "source": "high_distance['H_Distance'] = high_distance.apply(\n    lambda row: (row['fare_amount'] - 2.50)/1.56,\n    axis=1\n)",
      "execution_count": 131,
      "outputs": [
        {
          "output_type": "stream",
          "text": "/opt/conda/lib/python3.6/site-packages/ipykernel_launcher.py:3: SettingWithCopyWarning: \nA value is trying to be set on a copy of a slice from a DataFrame.\nTry using .loc[row_indexer,col_indexer] = value instead\n\nSee the caveats in the documentation: http://pandas.pydata.org/pandas-docs/stable/indexing.html#indexing-view-versus-copy\n  This is separate from the ipykernel package so we can avoid doing imports until\n",
          "name": "stderr"
        }
      ]
    },
    {
      "metadata": {
        "trusted": true,
        "_uuid": "3eb12419ca7c6f49dae86cc16812d806959a720a"
      },
      "cell_type": "code",
      "source": "train.update(high_distance)",
      "execution_count": 132,
      "outputs": []
    },
    {
      "metadata": {
        "trusted": true,
        "_uuid": "53ad07fb29b5bcc96ca883d2c3189c5d7f8d8c3c"
      },
      "cell_type": "code",
      "source": "rush_hour = train.loc[(((train['Hour']>=6)&(train['Hour']<=20)) & ((train['Day_of_week']>=1) & (train['Day_of_week']<=5)) & (train['H_Distance']==0) & (train['fare_amount'] < 2.5))]\nrush_hour",
      "execution_count": 133,
      "outputs": [
        {
          "output_type": "execute_result",
          "execution_count": 133,
          "data": {
            "text/plain": "                                 key  fare_amount  ...  Day_of_week  Hour\n830616 2015-01-21 06:29:21.000000600         0.01  ...          2.0   6.0\n925892 2015-01-21 14:12:00.000000400         1.90  ...          2.0  14.0\n\n[2 rows x 14 columns]",
            "text/html": "<div>\n<style scoped>\n    .dataframe tbody tr th:only-of-type {\n        vertical-align: middle;\n    }\n\n    .dataframe tbody tr th {\n        vertical-align: top;\n    }\n\n    .dataframe thead th {\n        text-align: right;\n    }\n</style>\n<table border=\"1\" class=\"dataframe\">\n  <thead>\n    <tr style=\"text-align: right;\">\n      <th></th>\n      <th>key</th>\n      <th>fare_amount</th>\n      <th>pickup_datetime</th>\n      <th>pickup_longitude</th>\n      <th>pickup_latitude</th>\n      <th>dropoff_longitude</th>\n      <th>dropoff_latitude</th>\n      <th>passenger_count</th>\n      <th>H_Distance</th>\n      <th>Year</th>\n      <th>Month</th>\n      <th>Date</th>\n      <th>Day_of_week</th>\n      <th>Hour</th>\n    </tr>\n  </thead>\n  <tbody>\n    <tr>\n      <th>830616</th>\n      <td>2015-01-21 06:29:21.000000600</td>\n      <td>0.01</td>\n      <td>2015-01-21 06:29:21</td>\n      <td>0.0</td>\n      <td>0.0</td>\n      <td>0.0</td>\n      <td>0.0</td>\n      <td>1.0</td>\n      <td>0.0</td>\n      <td>2015.0</td>\n      <td>1.0</td>\n      <td>21.0</td>\n      <td>2.0</td>\n      <td>6.0</td>\n    </tr>\n    <tr>\n      <th>925892</th>\n      <td>2015-01-21 14:12:00.000000400</td>\n      <td>1.90</td>\n      <td>2015-01-21 14:12:00</td>\n      <td>0.0</td>\n      <td>0.0</td>\n      <td>0.0</td>\n      <td>0.0</td>\n      <td>1.0</td>\n      <td>0.0</td>\n      <td>2015.0</td>\n      <td>1.0</td>\n      <td>21.0</td>\n      <td>2.0</td>\n      <td>14.0</td>\n    </tr>\n  </tbody>\n</table>\n</div>"
          },
          "metadata": {}
        }
      ]
    },
    {
      "metadata": {
        "trusted": true,
        "_uuid": "f9ef52be4da95dbbef3a5d3b01145814751dc044"
      },
      "cell_type": "code",
      "source": "train.drop(rush_hour.index, axis = 0)",
      "execution_count": 134,
      "outputs": [
        {
          "output_type": "execute_result",
          "execution_count": 134,
          "data": {
            "text/plain": "                                 key  fare_amount  ...  Day_of_week  Hour\n0      2009-06-15 17:26:21.000000100         4.50  ...          0.0  17.0\n1      2010-01-05 16:52:16.000000200        16.90  ...          1.0  16.0\n2      2011-08-18 00:35:00.000000490         5.70  ...          3.0   0.0\n3      2012-04-21 04:30:42.000000100         7.70  ...          5.0   4.0\n4      2010-03-09 07:51:00.000000135         5.30  ...          1.0   7.0\n5      2011-01-06 09:50:45.000000200        12.10  ...          3.0   9.0\n6      2012-11-20 20:35:00.000000100         7.50  ...          1.0  20.0\n7      2012-01-04 17:22:00.000000810        16.50  ...          2.0  17.0\n8      2012-12-03 13:10:00.000000125         9.00  ...          0.0  13.0\n9      2009-09-02 01:11:00.000000830         8.90  ...          2.0   1.0\n10     2012-04-08 07:30:50.000000200         5.30  ...          6.0   7.0\n11     2012-12-24 11:24:00.000000980         5.50  ...          0.0  11.0\n12     2009-11-06 01:04:03.000000200         4.10  ...          4.0   1.0\n13     2013-07-02 19:54:00.000000232         7.00  ...          1.0  19.0\n14     2011-04-05 17:11:05.000000100         7.70  ...          1.0  17.0\n15     2013-11-23 12:57:00.000000190         5.00  ...          5.0  12.0\n16     2014-02-19 07:22:00.000000740        12.50  ...          2.0   7.0\n17     2009-07-22 16:08:00.000000163         5.30  ...          2.0  16.0\n18     2010-07-07 14:52:00.000000440         5.30  ...          2.0  14.0\n19     2014-12-06 20:36:22.000000800         4.00  ...          5.0  20.0\n20     2010-09-07 13:18:00.000000175        10.50  ...          1.0  13.0\n21     2013-02-12 12:15:46.000000200        11.50  ...          1.0  12.0\n22     2009-08-06 18:17:23.000000100         4.50  ...          3.0  18.0\n23     2010-12-06 12:29:00.000000199         4.90  ...          0.0  12.0\n24     2009-12-10 15:37:00.000000200         6.10  ...          3.0  15.0\n25     2011-06-21 16:15:00.000000730         7.30  ...          1.0  16.0\n26     2011-02-07 20:01:00.000000114         6.50  ...          0.0  20.0\n27     2011-06-28 19:47:00.000000168         4.50  ...          1.0  19.0\n28     2012-05-04 06:11:20.000000200         9.30  ...          4.0   6.0\n29     2013-08-11 00:52:00.000000260         4.50  ...          6.0   0.0\n...                              ...          ...  ...          ...   ...\n999970 2013-10-25 23:36:36.000000500         8.50  ...          4.0  23.0\n999971 2009-06-15 09:42:00.000000149        29.30  ...          0.0   9.0\n999972 2009-08-10 17:47:43.000000500        10.10  ...          0.0  17.0\n999973 2011-05-07 12:53:00.000000740        11.30  ...          5.0  12.0\n999974 2013-10-16 07:54:00.000000161        21.50  ...          2.0   7.0\n999975 2014-08-24 09:12:23.000000200        31.83  ...          6.0   9.0\n999976 2011-01-06 14:50:45.000000300        12.50  ...          3.0  14.0\n999977 2011-02-10 12:08:13.000000100        13.30  ...          3.0  12.0\n999978 2012-02-22 00:47:14.000000100         6.50  ...          2.0   0.0\n999979 2013-05-06 15:56:00.000000128        14.00  ...          0.0  15.0\n999980 2014-04-07 07:00:13.000000100        18.50  ...          0.0   7.0\n999981 2015-05-08 12:14:23.000000400        18.50  ...          4.0  12.0\n999982 2011-11-10 06:02:00.000000180         4.50  ...          3.0   6.0\n999983 2014-08-29 07:18:09.000000300         4.50  ...          4.0   7.0\n999984 2014-11-02 14:09:53.000000100        44.33  ...          6.0  14.0\n999985 2014-12-18 20:13:00.000000125         8.50  ...          3.0  20.0\n999986 2015-06-02 09:21:33.000000100         7.00  ...          1.0   9.0\n999987 2010-01-26 15:03:00.000000800         4.10  ...          1.0  15.0\n999988 2011-05-14 07:21:00.000000140        25.30  ...          5.0   7.0\n999989 2012-11-11 10:36:00.000000160         5.00  ...          6.0  10.0\n999990 2009-09-22 16:43:00.000000520         6.10  ...          1.0  16.0\n999991 2010-04-20 08:17:51.000000400         8.90  ...          1.0   8.0\n999992 2011-01-21 10:57:27.000000100         5.70  ...          4.0  10.0\n999993 2012-12-14 11:08:00.000000132        15.00  ...          4.0  11.0\n999994 2014-06-29 22:57:55.000000100        20.00  ...          6.0  22.0\n999995 2014-09-13 21:44:38.000000100         7.00  ...          5.0  21.0\n999996 2010-09-20 14:50:37.000000200         7.30  ...          0.0  14.0\n999997 2013-04-26 14:03:00.000000118        10.50  ...          4.0  14.0\n999998 2011-07-08 00:29:00.000000990         6.90  ...          4.0   0.0\n999999 2009-12-31 14:30:00.000000210         4.10  ...          3.0  14.0\n\n[999914 rows x 14 columns]",
            "text/html": "<div>\n<style scoped>\n    .dataframe tbody tr th:only-of-type {\n        vertical-align: middle;\n    }\n\n    .dataframe tbody tr th {\n        vertical-align: top;\n    }\n\n    .dataframe thead th {\n        text-align: right;\n    }\n</style>\n<table border=\"1\" class=\"dataframe\">\n  <thead>\n    <tr style=\"text-align: right;\">\n      <th></th>\n      <th>key</th>\n      <th>fare_amount</th>\n      <th>pickup_datetime</th>\n      <th>pickup_longitude</th>\n      <th>pickup_latitude</th>\n      <th>dropoff_longitude</th>\n      <th>dropoff_latitude</th>\n      <th>passenger_count</th>\n      <th>H_Distance</th>\n      <th>Year</th>\n      <th>Month</th>\n      <th>Date</th>\n      <th>Day_of_week</th>\n      <th>Hour</th>\n    </tr>\n  </thead>\n  <tbody>\n    <tr>\n      <th>0</th>\n      <td>2009-06-15 17:26:21.000000100</td>\n      <td>4.50</td>\n      <td>2009-06-15 17:26:21</td>\n      <td>-73.844311</td>\n      <td>40.721319</td>\n      <td>-73.841610</td>\n      <td>40.712278</td>\n      <td>1.0</td>\n      <td>1.030764</td>\n      <td>2009.0</td>\n      <td>6.0</td>\n      <td>15.0</td>\n      <td>0.0</td>\n      <td>17.0</td>\n    </tr>\n    <tr>\n      <th>1</th>\n      <td>2010-01-05 16:52:16.000000200</td>\n      <td>16.90</td>\n      <td>2010-01-05 16:52:16</td>\n      <td>-74.016048</td>\n      <td>40.711303</td>\n      <td>-73.979268</td>\n      <td>40.782004</td>\n      <td>1.0</td>\n      <td>8.450134</td>\n      <td>2010.0</td>\n      <td>1.0</td>\n      <td>5.0</td>\n      <td>1.0</td>\n      <td>16.0</td>\n    </tr>\n    <tr>\n      <th>2</th>\n      <td>2011-08-18 00:35:00.000000490</td>\n      <td>5.70</td>\n      <td>2011-08-18 00:35:00</td>\n      <td>-73.982738</td>\n      <td>40.761270</td>\n      <td>-73.991242</td>\n      <td>40.750562</td>\n      <td>2.0</td>\n      <td>1.389525</td>\n      <td>2011.0</td>\n      <td>8.0</td>\n      <td>18.0</td>\n      <td>3.0</td>\n      <td>0.0</td>\n    </tr>\n    <tr>\n      <th>3</th>\n      <td>2012-04-21 04:30:42.000000100</td>\n      <td>7.70</td>\n      <td>2012-04-21 04:30:42</td>\n      <td>-73.987130</td>\n      <td>40.733143</td>\n      <td>-73.991567</td>\n      <td>40.758092</td>\n      <td>1.0</td>\n      <td>2.799270</td>\n      <td>2012.0</td>\n      <td>4.0</td>\n      <td>21.0</td>\n      <td>5.0</td>\n      <td>4.0</td>\n    </tr>\n    <tr>\n      <th>4</th>\n      <td>2010-03-09 07:51:00.000000135</td>\n      <td>5.30</td>\n      <td>2010-03-09 07:51:00</td>\n      <td>-73.968095</td>\n      <td>40.768008</td>\n      <td>-73.956655</td>\n      <td>40.783762</td>\n      <td>1.0</td>\n      <td>1.999157</td>\n      <td>2010.0</td>\n      <td>3.0</td>\n      <td>9.0</td>\n      <td>1.0</td>\n      <td>7.0</td>\n    </tr>\n    <tr>\n      <th>5</th>\n      <td>2011-01-06 09:50:45.000000200</td>\n      <td>12.10</td>\n      <td>2011-01-06 09:50:45</td>\n      <td>-74.000964</td>\n      <td>40.731630</td>\n      <td>-73.972892</td>\n      <td>40.758233</td>\n      <td>1.0</td>\n      <td>3.787239</td>\n      <td>2011.0</td>\n      <td>1.0</td>\n      <td>6.0</td>\n      <td>3.0</td>\n      <td>9.0</td>\n    </tr>\n    <tr>\n      <th>6</th>\n      <td>2012-11-20 20:35:00.000000100</td>\n      <td>7.50</td>\n      <td>2012-11-20 20:35:00</td>\n      <td>-73.980002</td>\n      <td>40.751662</td>\n      <td>-73.973802</td>\n      <td>40.764842</td>\n      <td>1.0</td>\n      <td>1.555807</td>\n      <td>2012.0</td>\n      <td>11.0</td>\n      <td>20.0</td>\n      <td>1.0</td>\n      <td>20.0</td>\n    </tr>\n    <tr>\n      <th>7</th>\n      <td>2012-01-04 17:22:00.000000810</td>\n      <td>16.50</td>\n      <td>2012-01-04 17:22:00</td>\n      <td>-73.951300</td>\n      <td>40.774138</td>\n      <td>-73.990095</td>\n      <td>40.751048</td>\n      <td>1.0</td>\n      <td>4.155444</td>\n      <td>2012.0</td>\n      <td>1.0</td>\n      <td>4.0</td>\n      <td>2.0</td>\n      <td>17.0</td>\n    </tr>\n    <tr>\n      <th>8</th>\n      <td>2012-12-03 13:10:00.000000125</td>\n      <td>9.00</td>\n      <td>2012-12-03 13:10:00</td>\n      <td>-74.006462</td>\n      <td>40.726713</td>\n      <td>-73.993078</td>\n      <td>40.731628</td>\n      <td>1.0</td>\n      <td>1.253232</td>\n      <td>2012.0</td>\n      <td>12.0</td>\n      <td>3.0</td>\n      <td>0.0</td>\n      <td>13.0</td>\n    </tr>\n    <tr>\n      <th>9</th>\n      <td>2009-09-02 01:11:00.000000830</td>\n      <td>8.90</td>\n      <td>2009-09-02 01:11:00</td>\n      <td>-73.980658</td>\n      <td>40.733873</td>\n      <td>-73.991540</td>\n      <td>40.758138</td>\n      <td>2.0</td>\n      <td>2.849627</td>\n      <td>2009.0</td>\n      <td>9.0</td>\n      <td>2.0</td>\n      <td>2.0</td>\n      <td>1.0</td>\n    </tr>\n    <tr>\n      <th>10</th>\n      <td>2012-04-08 07:30:50.000000200</td>\n      <td>5.30</td>\n      <td>2012-04-08 07:30:50</td>\n      <td>-73.996335</td>\n      <td>40.737142</td>\n      <td>-73.980721</td>\n      <td>40.733559</td>\n      <td>1.0</td>\n      <td>1.374577</td>\n      <td>2012.0</td>\n      <td>4.0</td>\n      <td>8.0</td>\n      <td>6.0</td>\n      <td>7.0</td>\n    </tr>\n    <tr>\n      <th>11</th>\n      <td>2012-12-24 11:24:00.000000980</td>\n      <td>5.50</td>\n      <td>2012-12-24 11:24:00</td>\n      <td>0.000000</td>\n      <td>0.000000</td>\n      <td>0.000000</td>\n      <td>0.000000</td>\n      <td>3.0</td>\n      <td>0.000000</td>\n      <td>2012.0</td>\n      <td>12.0</td>\n      <td>24.0</td>\n      <td>0.0</td>\n      <td>11.0</td>\n    </tr>\n    <tr>\n      <th>12</th>\n      <td>2009-11-06 01:04:03.000000200</td>\n      <td>4.10</td>\n      <td>2009-11-06 01:04:03</td>\n      <td>-73.991601</td>\n      <td>40.744712</td>\n      <td>-73.983081</td>\n      <td>40.744682</td>\n      <td>2.0</td>\n      <td>0.717767</td>\n      <td>2009.0</td>\n      <td>11.0</td>\n      <td>6.0</td>\n      <td>4.0</td>\n      <td>1.0</td>\n    </tr>\n    <tr>\n      <th>13</th>\n      <td>2013-07-02 19:54:00.000000232</td>\n      <td>7.00</td>\n      <td>2013-07-02 19:54:00</td>\n      <td>-74.005360</td>\n      <td>40.728867</td>\n      <td>-74.008913</td>\n      <td>40.710907</td>\n      <td>1.0</td>\n      <td>2.019384</td>\n      <td>2013.0</td>\n      <td>7.0</td>\n      <td>2.0</td>\n      <td>1.0</td>\n      <td>19.0</td>\n    </tr>\n    <tr>\n      <th>14</th>\n      <td>2011-04-05 17:11:05.000000100</td>\n      <td>7.70</td>\n      <td>2011-04-05 17:11:05</td>\n      <td>-74.001821</td>\n      <td>40.737547</td>\n      <td>-73.998060</td>\n      <td>40.722788</td>\n      <td>2.0</td>\n      <td>1.671445</td>\n      <td>2011.0</td>\n      <td>4.0</td>\n      <td>5.0</td>\n      <td>1.0</td>\n      <td>17.0</td>\n    </tr>\n    <tr>\n      <th>15</th>\n      <td>2013-11-23 12:57:00.000000190</td>\n      <td>5.00</td>\n      <td>2013-11-23 12:57:00</td>\n      <td>0.000000</td>\n      <td>0.000000</td>\n      <td>0.000000</td>\n      <td>0.000000</td>\n      <td>1.0</td>\n      <td>0.000000</td>\n      <td>2013.0</td>\n      <td>11.0</td>\n      <td>23.0</td>\n      <td>5.0</td>\n      <td>12.0</td>\n    </tr>\n    <tr>\n      <th>16</th>\n      <td>2014-02-19 07:22:00.000000740</td>\n      <td>12.50</td>\n      <td>2014-02-19 07:22:00</td>\n      <td>-73.986430</td>\n      <td>40.760465</td>\n      <td>-73.988990</td>\n      <td>40.737075</td>\n      <td>1.0</td>\n      <td>2.609774</td>\n      <td>2014.0</td>\n      <td>2.0</td>\n      <td>19.0</td>\n      <td>2.0</td>\n      <td>7.0</td>\n    </tr>\n    <tr>\n      <th>17</th>\n      <td>2009-07-22 16:08:00.000000163</td>\n      <td>5.30</td>\n      <td>2009-07-22 16:08:00</td>\n      <td>-73.981060</td>\n      <td>40.737690</td>\n      <td>-73.994177</td>\n      <td>40.728412</td>\n      <td>1.0</td>\n      <td>1.511904</td>\n      <td>2009.0</td>\n      <td>7.0</td>\n      <td>22.0</td>\n      <td>2.0</td>\n      <td>16.0</td>\n    </tr>\n    <tr>\n      <th>18</th>\n      <td>2010-07-07 14:52:00.000000440</td>\n      <td>5.30</td>\n      <td>2010-07-07 14:52:00</td>\n      <td>-73.969505</td>\n      <td>40.784843</td>\n      <td>-73.958732</td>\n      <td>40.783357</td>\n      <td>1.0</td>\n      <td>0.921952</td>\n      <td>2010.0</td>\n      <td>7.0</td>\n      <td>7.0</td>\n      <td>2.0</td>\n      <td>14.0</td>\n    </tr>\n    <tr>\n      <th>19</th>\n      <td>2014-12-06 20:36:22.000000800</td>\n      <td>4.00</td>\n      <td>2014-12-06 20:36:22</td>\n      <td>-73.979815</td>\n      <td>40.751902</td>\n      <td>-73.979446</td>\n      <td>40.755481</td>\n      <td>1.0</td>\n      <td>0.399179</td>\n      <td>2014.0</td>\n      <td>12.0</td>\n      <td>6.0</td>\n      <td>5.0</td>\n      <td>20.0</td>\n    </tr>\n    <tr>\n      <th>20</th>\n      <td>2010-09-07 13:18:00.000000175</td>\n      <td>10.50</td>\n      <td>2010-09-07 13:18:00</td>\n      <td>-73.985382</td>\n      <td>40.747858</td>\n      <td>-73.978377</td>\n      <td>40.762070</td>\n      <td>1.0</td>\n      <td>1.686861</td>\n      <td>2010.0</td>\n      <td>9.0</td>\n      <td>7.0</td>\n      <td>1.0</td>\n      <td>13.0</td>\n    </tr>\n    <tr>\n      <th>21</th>\n      <td>2013-02-12 12:15:46.000000200</td>\n      <td>11.50</td>\n      <td>2013-02-12 12:15:46</td>\n      <td>-73.957954</td>\n      <td>40.779252</td>\n      <td>-73.961250</td>\n      <td>40.758787</td>\n      <td>1.0</td>\n      <td>2.292470</td>\n      <td>2013.0</td>\n      <td>2.0</td>\n      <td>12.0</td>\n      <td>1.0</td>\n      <td>12.0</td>\n    </tr>\n    <tr>\n      <th>22</th>\n      <td>2009-08-06 18:17:23.000000100</td>\n      <td>4.50</td>\n      <td>2009-08-06 18:17:23</td>\n      <td>-73.991707</td>\n      <td>40.770505</td>\n      <td>-73.985459</td>\n      <td>40.763671</td>\n      <td>1.0</td>\n      <td>0.924296</td>\n      <td>2009.0</td>\n      <td>8.0</td>\n      <td>6.0</td>\n      <td>3.0</td>\n      <td>18.0</td>\n    </tr>\n    <tr>\n      <th>23</th>\n      <td>2010-12-06 12:29:00.000000199</td>\n      <td>4.90</td>\n      <td>2010-12-06 12:29:00</td>\n      <td>-74.000632</td>\n      <td>40.747473</td>\n      <td>-73.986672</td>\n      <td>40.740577</td>\n      <td>1.0</td>\n      <td>1.403958</td>\n      <td>2010.0</td>\n      <td>12.0</td>\n      <td>6.0</td>\n      <td>0.0</td>\n      <td>12.0</td>\n    </tr>\n    <tr>\n      <th>24</th>\n      <td>2009-12-10 15:37:00.000000200</td>\n      <td>6.10</td>\n      <td>2009-12-10 15:37:00</td>\n      <td>-73.969622</td>\n      <td>40.756973</td>\n      <td>-73.981152</td>\n      <td>40.759712</td>\n      <td>1.0</td>\n      <td>1.017773</td>\n      <td>2009.0</td>\n      <td>12.0</td>\n      <td>10.0</td>\n      <td>3.0</td>\n      <td>15.0</td>\n    </tr>\n    <tr>\n      <th>25</th>\n      <td>2011-06-21 16:15:00.000000730</td>\n      <td>7.30</td>\n      <td>2011-06-21 16:15:00</td>\n      <td>-73.991875</td>\n      <td>40.754437</td>\n      <td>-73.977230</td>\n      <td>40.774323</td>\n      <td>3.0</td>\n      <td>2.531947</td>\n      <td>2011.0</td>\n      <td>6.0</td>\n      <td>21.0</td>\n      <td>1.0</td>\n      <td>16.0</td>\n    </tr>\n    <tr>\n      <th>26</th>\n      <td>2011-02-07 20:01:00.000000114</td>\n      <td>6.50</td>\n      <td>2011-02-07 20:01:00</td>\n      <td>0.000000</td>\n      <td>0.000000</td>\n      <td>0.000000</td>\n      <td>0.000000</td>\n      <td>1.0</td>\n      <td>0.000000</td>\n      <td>2011.0</td>\n      <td>2.0</td>\n      <td>7.0</td>\n      <td>0.0</td>\n      <td>20.0</td>\n    </tr>\n    <tr>\n      <th>27</th>\n      <td>2011-06-28 19:47:00.000000168</td>\n      <td>4.50</td>\n      <td>2011-06-28 19:47:00</td>\n      <td>-73.988893</td>\n      <td>40.760160</td>\n      <td>-73.986445</td>\n      <td>40.757857</td>\n      <td>3.0</td>\n      <td>0.328771</td>\n      <td>2011.0</td>\n      <td>6.0</td>\n      <td>28.0</td>\n      <td>1.0</td>\n      <td>19.0</td>\n    </tr>\n    <tr>\n      <th>28</th>\n      <td>2012-05-04 06:11:20.000000200</td>\n      <td>9.30</td>\n      <td>2012-05-04 06:11:20</td>\n      <td>-73.989258</td>\n      <td>40.690835</td>\n      <td>-74.004133</td>\n      <td>40.725690</td>\n      <td>1.0</td>\n      <td>4.073463</td>\n      <td>2012.0</td>\n      <td>5.0</td>\n      <td>4.0</td>\n      <td>4.0</td>\n      <td>6.0</td>\n    </tr>\n    <tr>\n      <th>29</th>\n      <td>2013-08-11 00:52:00.000000260</td>\n      <td>4.50</td>\n      <td>2013-08-11 00:52:00</td>\n      <td>-73.981020</td>\n      <td>40.737760</td>\n      <td>-73.980668</td>\n      <td>40.730497</td>\n      <td>2.0</td>\n      <td>0.808153</td>\n      <td>2013.0</td>\n      <td>8.0</td>\n      <td>11.0</td>\n      <td>6.0</td>\n      <td>0.0</td>\n    </tr>\n    <tr>\n      <th>...</th>\n      <td>...</td>\n      <td>...</td>\n      <td>...</td>\n      <td>...</td>\n      <td>...</td>\n      <td>...</td>\n      <td>...</td>\n      <td>...</td>\n      <td>...</td>\n      <td>...</td>\n      <td>...</td>\n      <td>...</td>\n      <td>...</td>\n      <td>...</td>\n    </tr>\n    <tr>\n      <th>999970</th>\n      <td>2013-10-25 23:36:36.000000500</td>\n      <td>8.50</td>\n      <td>2013-10-25 23:36:36</td>\n      <td>-73.967576</td>\n      <td>40.760106</td>\n      <td>-73.988016</td>\n      <td>40.764855</td>\n      <td>1.0</td>\n      <td>1.800660</td>\n      <td>2013.0</td>\n      <td>10.0</td>\n      <td>25.0</td>\n      <td>4.0</td>\n      <td>23.0</td>\n    </tr>\n    <tr>\n      <th>999971</th>\n      <td>2009-06-15 09:42:00.000000149</td>\n      <td>29.30</td>\n      <td>2009-06-15 09:42:00</td>\n      <td>-73.776735</td>\n      <td>40.645323</td>\n      <td>-73.970758</td>\n      <td>40.682848</td>\n      <td>5.0</td>\n      <td>16.888650</td>\n      <td>2009.0</td>\n      <td>6.0</td>\n      <td>15.0</td>\n      <td>0.0</td>\n      <td>9.0</td>\n    </tr>\n    <tr>\n      <th>999972</th>\n      <td>2009-08-10 17:47:43.000000500</td>\n      <td>10.10</td>\n      <td>2009-08-10 17:47:43</td>\n      <td>-73.983638</td>\n      <td>40.746203</td>\n      <td>-73.987377</td>\n      <td>40.749008</td>\n      <td>2.0</td>\n      <td>0.443274</td>\n      <td>2009.0</td>\n      <td>8.0</td>\n      <td>10.0</td>\n      <td>0.0</td>\n      <td>17.0</td>\n    </tr>\n    <tr>\n      <th>999973</th>\n      <td>2011-05-07 12:53:00.000000740</td>\n      <td>11.30</td>\n      <td>2011-05-07 12:53:00</td>\n      <td>-73.952537</td>\n      <td>40.808417</td>\n      <td>-73.953065</td>\n      <td>40.803848</td>\n      <td>5.0</td>\n      <td>0.509990</td>\n      <td>2011.0</td>\n      <td>5.0</td>\n      <td>7.0</td>\n      <td>5.0</td>\n      <td>12.0</td>\n    </tr>\n    <tr>\n      <th>999974</th>\n      <td>2013-10-16 07:54:00.000000161</td>\n      <td>21.50</td>\n      <td>2013-10-16 07:54:00</td>\n      <td>-73.991245</td>\n      <td>40.765387</td>\n      <td>-74.004995</td>\n      <td>40.705362</td>\n      <td>2.0</td>\n      <td>6.774274</td>\n      <td>2013.0</td>\n      <td>10.0</td>\n      <td>16.0</td>\n      <td>2.0</td>\n      <td>7.0</td>\n    </tr>\n    <tr>\n      <th>999975</th>\n      <td>2014-08-24 09:12:23.000000200</td>\n      <td>31.83</td>\n      <td>2014-08-24 09:12:23</td>\n      <td>-73.873020</td>\n      <td>40.774041</td>\n      <td>-73.982572</td>\n      <td>40.759972</td>\n      <td>2.0</td>\n      <td>9.357706</td>\n      <td>2014.0</td>\n      <td>8.0</td>\n      <td>24.0</td>\n      <td>6.0</td>\n      <td>9.0</td>\n    </tr>\n    <tr>\n      <th>999976</th>\n      <td>2011-01-06 14:50:45.000000300</td>\n      <td>12.50</td>\n      <td>2011-01-06 14:50:45</td>\n      <td>-73.981381</td>\n      <td>40.778593</td>\n      <td>-74.004399</td>\n      <td>40.746174</td>\n      <td>1.0</td>\n      <td>4.093045</td>\n      <td>2011.0</td>\n      <td>1.0</td>\n      <td>6.0</td>\n      <td>3.0</td>\n      <td>14.0</td>\n    </tr>\n    <tr>\n      <th>999977</th>\n      <td>2011-02-10 12:08:13.000000100</td>\n      <td>13.30</td>\n      <td>2011-02-10 12:08:13</td>\n      <td>-74.015867</td>\n      <td>40.715233</td>\n      <td>-73.989395</td>\n      <td>40.758612</td>\n      <td>0.0</td>\n      <td>5.314221</td>\n      <td>2011.0</td>\n      <td>2.0</td>\n      <td>10.0</td>\n      <td>3.0</td>\n      <td>12.0</td>\n    </tr>\n    <tr>\n      <th>999978</th>\n      <td>2012-02-22 00:47:14.000000100</td>\n      <td>6.50</td>\n      <td>2012-02-22 00:47:14</td>\n      <td>-73.984087</td>\n      <td>40.746916</td>\n      <td>-73.983599</td>\n      <td>40.730348</td>\n      <td>1.0</td>\n      <td>1.842736</td>\n      <td>2012.0</td>\n      <td>2.0</td>\n      <td>22.0</td>\n      <td>2.0</td>\n      <td>0.0</td>\n    </tr>\n    <tr>\n      <th>999979</th>\n      <td>2013-05-06 15:56:00.000000128</td>\n      <td>14.00</td>\n      <td>2013-05-06 15:56:00</td>\n      <td>-74.002227</td>\n      <td>40.724750</td>\n      <td>-73.979082</td>\n      <td>40.752920</td>\n      <td>1.0</td>\n      <td>3.689741</td>\n      <td>2013.0</td>\n      <td>5.0</td>\n      <td>6.0</td>\n      <td>0.0</td>\n      <td>15.0</td>\n    </tr>\n    <tr>\n      <th>999980</th>\n      <td>2014-04-07 07:00:13.000000100</td>\n      <td>18.50</td>\n      <td>2014-04-07 07:00:13</td>\n      <td>-74.010280</td>\n      <td>40.703269</td>\n      <td>-73.983382</td>\n      <td>40.668774</td>\n      <td>1.0</td>\n      <td>4.456025</td>\n      <td>2014.0</td>\n      <td>4.0</td>\n      <td>7.0</td>\n      <td>0.0</td>\n      <td>7.0</td>\n    </tr>\n    <tr>\n      <th>999981</th>\n      <td>2015-05-08 12:14:23.000000400</td>\n      <td>18.50</td>\n      <td>2015-05-08 12:14:23</td>\n      <td>-73.956215</td>\n      <td>40.778343</td>\n      <td>-73.978371</td>\n      <td>40.750416</td>\n      <td>1.0</td>\n      <td>3.622864</td>\n      <td>2015.0</td>\n      <td>5.0</td>\n      <td>8.0</td>\n      <td>4.0</td>\n      <td>12.0</td>\n    </tr>\n    <tr>\n      <th>999982</th>\n      <td>2011-11-10 06:02:00.000000180</td>\n      <td>4.50</td>\n      <td>2011-11-10 06:02:00</td>\n      <td>-73.985948</td>\n      <td>40.768127</td>\n      <td>-73.974000</td>\n      <td>40.762892</td>\n      <td>1.0</td>\n      <td>1.162477</td>\n      <td>2011.0</td>\n      <td>11.0</td>\n      <td>10.0</td>\n      <td>3.0</td>\n      <td>6.0</td>\n    </tr>\n    <tr>\n      <th>999983</th>\n      <td>2014-08-29 07:18:09.000000300</td>\n      <td>4.50</td>\n      <td>2014-08-29 07:18:09</td>\n      <td>-73.991835</td>\n      <td>40.750038</td>\n      <td>-73.984214</td>\n      <td>40.754428</td>\n      <td>1.0</td>\n      <td>0.806466</td>\n      <td>2014.0</td>\n      <td>8.0</td>\n      <td>29.0</td>\n      <td>4.0</td>\n      <td>7.0</td>\n    </tr>\n    <tr>\n      <th>999984</th>\n      <td>2014-11-02 14:09:53.000000100</td>\n      <td>44.33</td>\n      <td>2014-11-02 14:09:53</td>\n      <td>-73.872276</td>\n      <td>40.774264</td>\n      <td>-73.969262</td>\n      <td>40.756591</td>\n      <td>2.0</td>\n      <td>8.401025</td>\n      <td>2014.0</td>\n      <td>11.0</td>\n      <td>2.0</td>\n      <td>6.0</td>\n      <td>14.0</td>\n    </tr>\n    <tr>\n      <th>999985</th>\n      <td>2014-12-18 20:13:00.000000125</td>\n      <td>8.50</td>\n      <td>2014-12-18 20:13:00</td>\n      <td>-74.003187</td>\n      <td>40.749022</td>\n      <td>-73.987785</td>\n      <td>40.745847</td>\n      <td>1.0</td>\n      <td>1.344648</td>\n      <td>2014.0</td>\n      <td>12.0</td>\n      <td>18.0</td>\n      <td>3.0</td>\n      <td>20.0</td>\n    </tr>\n    <tr>\n      <th>999986</th>\n      <td>2015-06-02 09:21:33.000000100</td>\n      <td>7.00</td>\n      <td>2015-06-02 09:21:33</td>\n      <td>-73.975723</td>\n      <td>40.758533</td>\n      <td>-73.981537</td>\n      <td>40.752602</td>\n      <td>1.0</td>\n      <td>0.821492</td>\n      <td>2015.0</td>\n      <td>6.0</td>\n      <td>2.0</td>\n      <td>1.0</td>\n      <td>9.0</td>\n    </tr>\n    <tr>\n      <th>999987</th>\n      <td>2010-01-26 15:03:00.000000800</td>\n      <td>4.10</td>\n      <td>2010-01-26 15:03:00</td>\n      <td>-73.982407</td>\n      <td>40.765418</td>\n      <td>-73.981803</td>\n      <td>40.763305</td>\n      <td>1.0</td>\n      <td>0.240398</td>\n      <td>2010.0</td>\n      <td>1.0</td>\n      <td>26.0</td>\n      <td>1.0</td>\n      <td>15.0</td>\n    </tr>\n    <tr>\n      <th>999988</th>\n      <td>2011-05-14 07:21:00.000000140</td>\n      <td>25.30</td>\n      <td>2011-05-14 07:21:00</td>\n      <td>-73.937393</td>\n      <td>40.757975</td>\n      <td>-73.937393</td>\n      <td>40.757975</td>\n      <td>5.0</td>\n      <td>0.000000</td>\n      <td>2011.0</td>\n      <td>5.0</td>\n      <td>14.0</td>\n      <td>5.0</td>\n      <td>7.0</td>\n    </tr>\n    <tr>\n      <th>999989</th>\n      <td>2012-11-11 10:36:00.000000160</td>\n      <td>5.00</td>\n      <td>2012-11-11 10:36:00</td>\n      <td>-73.982482</td>\n      <td>40.747582</td>\n      <td>-73.986402</td>\n      <td>40.738122</td>\n      <td>5.0</td>\n      <td>1.102526</td>\n      <td>2012.0</td>\n      <td>11.0</td>\n      <td>11.0</td>\n      <td>6.0</td>\n      <td>10.0</td>\n    </tr>\n    <tr>\n      <th>999990</th>\n      <td>2009-09-22 16:43:00.000000520</td>\n      <td>6.10</td>\n      <td>2009-09-22 16:43:00</td>\n      <td>-73.963472</td>\n      <td>40.774893</td>\n      <td>-73.980038</td>\n      <td>40.777478</td>\n      <td>1.0</td>\n      <td>1.424234</td>\n      <td>2009.0</td>\n      <td>9.0</td>\n      <td>22.0</td>\n      <td>1.0</td>\n      <td>16.0</td>\n    </tr>\n    <tr>\n      <th>999991</th>\n      <td>2010-04-20 08:17:51.000000400</td>\n      <td>8.90</td>\n      <td>2010-04-20 08:17:51</td>\n      <td>-73.973683</td>\n      <td>40.792300</td>\n      <td>-73.979603</td>\n      <td>40.765361</td>\n      <td>1.0</td>\n      <td>3.036671</td>\n      <td>2010.0</td>\n      <td>4.0</td>\n      <td>20.0</td>\n      <td>1.0</td>\n      <td>8.0</td>\n    </tr>\n    <tr>\n      <th>999992</th>\n      <td>2011-01-21 10:57:27.000000100</td>\n      <td>5.70</td>\n      <td>2011-01-21 10:57:27</td>\n      <td>-73.976733</td>\n      <td>40.790480</td>\n      <td>-73.988215</td>\n      <td>40.779298</td>\n      <td>1.0</td>\n      <td>1.574966</td>\n      <td>2011.0</td>\n      <td>1.0</td>\n      <td>21.0</td>\n      <td>4.0</td>\n      <td>10.0</td>\n    </tr>\n    <tr>\n      <th>999993</th>\n      <td>2012-12-14 11:08:00.000000132</td>\n      <td>15.00</td>\n      <td>2012-12-14 11:08:00</td>\n      <td>-73.975895</td>\n      <td>40.728558</td>\n      <td>-74.002202</td>\n      <td>40.755675</td>\n      <td>2.0</td>\n      <td>3.742170</td>\n      <td>2012.0</td>\n      <td>12.0</td>\n      <td>14.0</td>\n      <td>4.0</td>\n      <td>11.0</td>\n    </tr>\n    <tr>\n      <th>999994</th>\n      <td>2014-06-29 22:57:55.000000100</td>\n      <td>20.00</td>\n      <td>2014-06-29 22:57:55</td>\n      <td>-73.872919</td>\n      <td>40.774106</td>\n      <td>-73.796524</td>\n      <td>40.775041</td>\n      <td>2.0</td>\n      <td>6.433776</td>\n      <td>2014.0</td>\n      <td>6.0</td>\n      <td>29.0</td>\n      <td>6.0</td>\n      <td>22.0</td>\n    </tr>\n    <tr>\n      <th>999995</th>\n      <td>2014-09-13 21:44:38.000000100</td>\n      <td>7.00</td>\n      <td>2014-09-13 21:44:38</td>\n      <td>-73.976676</td>\n      <td>40.785630</td>\n      <td>-73.959196</td>\n      <td>40.775114</td>\n      <td>1.0</td>\n      <td>1.879763</td>\n      <td>2014.0</td>\n      <td>9.0</td>\n      <td>13.0</td>\n      <td>5.0</td>\n      <td>21.0</td>\n    </tr>\n    <tr>\n      <th>999996</th>\n      <td>2010-09-20 14:50:37.000000200</td>\n      <td>7.30</td>\n      <td>2010-09-20 14:50:37</td>\n      <td>-73.992103</td>\n      <td>40.671385</td>\n      <td>-73.992103</td>\n      <td>40.671385</td>\n      <td>2.0</td>\n      <td>0.000000</td>\n      <td>2010.0</td>\n      <td>9.0</td>\n      <td>20.0</td>\n      <td>0.0</td>\n      <td>14.0</td>\n    </tr>\n    <tr>\n      <th>999997</th>\n      <td>2013-04-26 14:03:00.000000118</td>\n      <td>10.50</td>\n      <td>2013-04-26 14:03:00</td>\n      <td>-73.978423</td>\n      <td>40.751135</td>\n      <td>-73.993397</td>\n      <td>40.762197</td>\n      <td>5.0</td>\n      <td>1.761741</td>\n      <td>2013.0</td>\n      <td>4.0</td>\n      <td>26.0</td>\n      <td>4.0</td>\n      <td>14.0</td>\n    </tr>\n    <tr>\n      <th>999998</th>\n      <td>2011-07-08 00:29:00.000000990</td>\n      <td>6.90</td>\n      <td>2011-07-08 00:29:00</td>\n      <td>-73.980317</td>\n      <td>40.759482</td>\n      <td>-73.976832</td>\n      <td>40.743122</td>\n      <td>1.0</td>\n      <td>1.842683</td>\n      <td>2011.0</td>\n      <td>7.0</td>\n      <td>8.0</td>\n      <td>4.0</td>\n      <td>0.0</td>\n    </tr>\n    <tr>\n      <th>999999</th>\n      <td>2009-12-31 14:30:00.000000210</td>\n      <td>4.10</td>\n      <td>2009-12-31 14:30:00</td>\n      <td>-74.006635</td>\n      <td>40.741598</td>\n      <td>-73.999450</td>\n      <td>40.745702</td>\n      <td>1.0</td>\n      <td>0.758051</td>\n      <td>2009.0</td>\n      <td>12.0</td>\n      <td>31.0</td>\n      <td>3.0</td>\n      <td>14.0</td>\n    </tr>\n  </tbody>\n</table>\n<p>999914 rows × 14 columns</p>\n</div>"
          },
          "metadata": {}
        }
      ]
    },
    {
      "metadata": {
        "trusted": true,
        "_uuid": "7a6ce049295fad1ddf0c20b07f144e824cb61a17"
      },
      "cell_type": "code",
      "source": "scenario_3 = train.loc[(train['H_Distance']!=0) & (train['fare_amount']==0)]",
      "execution_count": 135,
      "outputs": []
    },
    {
      "metadata": {
        "trusted": true,
        "_uuid": "2ac76b26bb3cd46745b7a25fabc5b826d17a1b49"
      },
      "cell_type": "code",
      "source": "scenario_3.sort_values('H_Distance', ascending=False)",
      "execution_count": 136,
      "outputs": [
        {
          "output_type": "execute_result",
          "execution_count": 136,
          "data": {
            "text/plain": "                                 key  fare_amount  ...  Day_of_week  Hour\n788466 2010-02-26 22:10:53.000000200          0.0  ...          4.0  22.0\n762802 2015-02-04 23:47:28.000000600          0.0  ...          2.0  23.0\n561786 2013-08-26 00:22:00.000000580          0.0  ...          0.0   0.0\n10002  2010-02-15 14:26:01.000000300          0.0  ...          0.0  14.0\n431819 2015-01-13 00:48:21.000000100          0.0  ...          1.0   0.0\n895361 2010-02-08 23:39:17.000000200          0.0  ...          0.0  23.0\n386734 2015-05-08 07:02:38.000000100          0.0  ...          4.0   7.0\n520715 2015-03-28 18:14:09.000000110          0.0  ...          5.0  18.0\n760662 2015-05-24 03:16:52.000000200          0.0  ...          6.0   3.0\n47302  2010-03-18 19:13:39.000000200          0.0  ...          3.0  19.0\n175352 2014-06-29 16:04:29.000000200          0.0  ...          6.0  16.0\n211455 2015-04-15 14:02:39.000000300          0.0  ...          2.0  14.0\n957590 2010-02-01 08:04:01.000000500          0.0  ...          0.0   8.0\n266485 2010-02-20 09:51:27.000000400          0.0  ...          5.0   9.0\n27891  2015-05-15 21:40:28.000000100          0.0  ...          4.0  21.0\n681342 2013-08-13 09:07:00.000000149          0.0  ...          1.0   9.0\n938020 2015-04-28 22:02:23.000000140          0.0  ...          1.0  22.0\n489767 2015-02-14 21:06:53.000000700          0.0  ...          5.0  21.0\n211499 2010-03-08 18:22:00.000000760          0.0  ...          0.0  18.0\n670254 2015-02-22 19:26:37.000000500          0.0  ...          6.0  19.0\n495273 2015-05-26 12:28:03.000000300          0.0  ...          1.0  12.0\n\n[21 rows x 14 columns]",
            "text/html": "<div>\n<style scoped>\n    .dataframe tbody tr th:only-of-type {\n        vertical-align: middle;\n    }\n\n    .dataframe tbody tr th {\n        vertical-align: top;\n    }\n\n    .dataframe thead th {\n        text-align: right;\n    }\n</style>\n<table border=\"1\" class=\"dataframe\">\n  <thead>\n    <tr style=\"text-align: right;\">\n      <th></th>\n      <th>key</th>\n      <th>fare_amount</th>\n      <th>pickup_datetime</th>\n      <th>pickup_longitude</th>\n      <th>pickup_latitude</th>\n      <th>dropoff_longitude</th>\n      <th>dropoff_latitude</th>\n      <th>passenger_count</th>\n      <th>H_Distance</th>\n      <th>Year</th>\n      <th>Month</th>\n      <th>Date</th>\n      <th>Day_of_week</th>\n      <th>Hour</th>\n    </tr>\n  </thead>\n  <tbody>\n    <tr>\n      <th>788466</th>\n      <td>2010-02-26 22:10:53.000000200</td>\n      <td>0.0</td>\n      <td>2010-02-26 22:10:53</td>\n      <td>-73.812794</td>\n      <td>40.695922</td>\n      <td>-73.993577</td>\n      <td>40.749743</td>\n      <td>1.0</td>\n      <td>16.368200</td>\n      <td>2010.0</td>\n      <td>2.0</td>\n      <td>26.0</td>\n      <td>4.0</td>\n      <td>22.0</td>\n    </tr>\n    <tr>\n      <th>762802</th>\n      <td>2015-02-04 23:47:28.000000600</td>\n      <td>0.0</td>\n      <td>2015-02-04 23:47:28</td>\n      <td>-73.864532</td>\n      <td>40.770012</td>\n      <td>-74.030937</td>\n      <td>40.727139</td>\n      <td>1.0</td>\n      <td>14.806275</td>\n      <td>2015.0</td>\n      <td>2.0</td>\n      <td>4.0</td>\n      <td>2.0</td>\n      <td>23.0</td>\n    </tr>\n    <tr>\n      <th>561786</th>\n      <td>2013-08-26 00:22:00.000000580</td>\n      <td>0.0</td>\n      <td>2013-08-26 00:22:00</td>\n      <td>-73.988468</td>\n      <td>40.722775</td>\n      <td>-73.923687</td>\n      <td>40.807775</td>\n      <td>1.0</td>\n      <td>10.913162</td>\n      <td>2013.0</td>\n      <td>8.0</td>\n      <td>26.0</td>\n      <td>0.0</td>\n      <td>0.0</td>\n    </tr>\n    <tr>\n      <th>10002</th>\n      <td>2010-02-15 14:26:01.000000300</td>\n      <td>0.0</td>\n      <td>2010-02-15 14:26:01</td>\n      <td>-73.987115</td>\n      <td>40.738808</td>\n      <td>-74.005911</td>\n      <td>40.713960</td>\n      <td>1.0</td>\n      <td>3.184763</td>\n      <td>2010.0</td>\n      <td>2.0</td>\n      <td>15.0</td>\n      <td>0.0</td>\n      <td>14.0</td>\n    </tr>\n    <tr>\n      <th>431819</th>\n      <td>2015-01-13 00:48:21.000000100</td>\n      <td>0.0</td>\n      <td>2015-01-13 00:48:21</td>\n      <td>-73.998383</td>\n      <td>40.759418</td>\n      <td>-74.031189</td>\n      <td>40.748924</td>\n      <td>1.0</td>\n      <td>2.999630</td>\n      <td>2015.0</td>\n      <td>1.0</td>\n      <td>13.0</td>\n      <td>1.0</td>\n      <td>0.0</td>\n    </tr>\n    <tr>\n      <th>895361</th>\n      <td>2010-02-08 23:39:17.000000200</td>\n      <td>0.0</td>\n      <td>2010-02-08 23:39:17</td>\n      <td>-73.880422</td>\n      <td>40.741431</td>\n      <td>-73.873903</td>\n      <td>40.742301</td>\n      <td>1.0</td>\n      <td>0.557666</td>\n      <td>2010.0</td>\n      <td>2.0</td>\n      <td>8.0</td>\n      <td>0.0</td>\n      <td>23.0</td>\n    </tr>\n    <tr>\n      <th>386734</th>\n      <td>2015-05-08 07:02:38.000000100</td>\n      <td>0.0</td>\n      <td>2015-05-08 07:02:38</td>\n      <td>-73.999496</td>\n      <td>40.748787</td>\n      <td>-74.002556</td>\n      <td>40.744659</td>\n      <td>1.0</td>\n      <td>0.526370</td>\n      <td>2015.0</td>\n      <td>5.0</td>\n      <td>8.0</td>\n      <td>4.0</td>\n      <td>7.0</td>\n    </tr>\n    <tr>\n      <th>520715</th>\n      <td>2015-03-28 18:14:09.000000110</td>\n      <td>0.0</td>\n      <td>2015-03-28 18:14:09</td>\n      <td>-73.987694</td>\n      <td>40.764881</td>\n      <td>-73.990150</td>\n      <td>40.761581</td>\n      <td>4.0</td>\n      <td>0.421227</td>\n      <td>2015.0</td>\n      <td>3.0</td>\n      <td>28.0</td>\n      <td>5.0</td>\n      <td>18.0</td>\n    </tr>\n    <tr>\n      <th>760662</th>\n      <td>2015-05-24 03:16:52.000000200</td>\n      <td>0.0</td>\n      <td>2015-05-24 03:16:52</td>\n      <td>-74.001633</td>\n      <td>40.730762</td>\n      <td>-73.999748</td>\n      <td>40.733494</td>\n      <td>1.0</td>\n      <td>0.342713</td>\n      <td>2015.0</td>\n      <td>5.0</td>\n      <td>24.0</td>\n      <td>6.0</td>\n      <td>3.0</td>\n    </tr>\n    <tr>\n      <th>47302</th>\n      <td>2010-03-18 19:13:39.000000200</td>\n      <td>0.0</td>\n      <td>2010-03-18 19:13:39</td>\n      <td>-73.942346</td>\n      <td>40.806269</td>\n      <td>-73.942463</td>\n      <td>40.806129</td>\n      <td>1.0</td>\n      <td>0.018420</td>\n      <td>2010.0</td>\n      <td>3.0</td>\n      <td>18.0</td>\n      <td>3.0</td>\n      <td>19.0</td>\n    </tr>\n    <tr>\n      <th>175352</th>\n      <td>2014-06-29 16:04:29.000000200</td>\n      <td>0.0</td>\n      <td>2014-06-29 16:04:29</td>\n      <td>-73.484480</td>\n      <td>40.813401</td>\n      <td>-73.484442</td>\n      <td>40.813323</td>\n      <td>2.0</td>\n      <td>0.009244</td>\n      <td>2014.0</td>\n      <td>6.0</td>\n      <td>29.0</td>\n      <td>6.0</td>\n      <td>16.0</td>\n    </tr>\n    <tr>\n      <th>211455</th>\n      <td>2015-04-15 14:02:39.000000300</td>\n      <td>0.0</td>\n      <td>2015-04-15 14:02:39</td>\n      <td>-73.937378</td>\n      <td>40.758450</td>\n      <td>-73.937447</td>\n      <td>40.758450</td>\n      <td>1.0</td>\n      <td>0.005783</td>\n      <td>2015.0</td>\n      <td>4.0</td>\n      <td>15.0</td>\n      <td>2.0</td>\n      <td>14.0</td>\n    </tr>\n    <tr>\n      <th>957590</th>\n      <td>2010-02-01 08:04:01.000000500</td>\n      <td>0.0</td>\n      <td>2010-02-01 08:04:01</td>\n      <td>-73.776286</td>\n      <td>40.645382</td>\n      <td>-73.776277</td>\n      <td>40.645351</td>\n      <td>1.0</td>\n      <td>0.003530</td>\n      <td>2010.0</td>\n      <td>2.0</td>\n      <td>1.0</td>\n      <td>0.0</td>\n      <td>8.0</td>\n    </tr>\n    <tr>\n      <th>266485</th>\n      <td>2010-02-20 09:51:27.000000400</td>\n      <td>0.0</td>\n      <td>2010-02-20 09:51:27</td>\n      <td>-73.877376</td>\n      <td>40.772415</td>\n      <td>-73.877403</td>\n      <td>40.772391</td>\n      <td>1.0</td>\n      <td>0.003506</td>\n      <td>2010.0</td>\n      <td>2.0</td>\n      <td>20.0</td>\n      <td>5.0</td>\n      <td>9.0</td>\n    </tr>\n    <tr>\n      <th>27891</th>\n      <td>2015-05-15 21:40:28.000000100</td>\n      <td>0.0</td>\n      <td>2015-05-15 21:40:28</td>\n      <td>-74.077927</td>\n      <td>40.805714</td>\n      <td>-74.077919</td>\n      <td>40.805721</td>\n      <td>1.0</td>\n      <td>0.001064</td>\n      <td>2015.0</td>\n      <td>5.0</td>\n      <td>15.0</td>\n      <td>4.0</td>\n      <td>21.0</td>\n    </tr>\n    <tr>\n      <th>681342</th>\n      <td>2013-08-13 09:07:00.000000149</td>\n      <td>0.0</td>\n      <td>2013-08-13 09:07:00</td>\n      <td>-73.902000</td>\n      <td>40.764082</td>\n      <td>-73.902012</td>\n      <td>40.764082</td>\n      <td>1.0</td>\n      <td>0.001011</td>\n      <td>2013.0</td>\n      <td>8.0</td>\n      <td>13.0</td>\n      <td>1.0</td>\n      <td>9.0</td>\n    </tr>\n    <tr>\n      <th>938020</th>\n      <td>2015-04-28 22:02:23.000000140</td>\n      <td>0.0</td>\n      <td>2015-04-28 22:02:23</td>\n      <td>-73.852692</td>\n      <td>40.718555</td>\n      <td>-73.852699</td>\n      <td>40.718559</td>\n      <td>1.0</td>\n      <td>0.000770</td>\n      <td>2015.0</td>\n      <td>4.0</td>\n      <td>28.0</td>\n      <td>1.0</td>\n      <td>22.0</td>\n    </tr>\n    <tr>\n      <th>489767</th>\n      <td>2015-02-14 21:06:53.000000700</td>\n      <td>0.0</td>\n      <td>2015-02-14 21:06:53</td>\n      <td>-73.949951</td>\n      <td>40.776215</td>\n      <td>-73.949959</td>\n      <td>40.776218</td>\n      <td>2.0</td>\n      <td>0.000770</td>\n      <td>2015.0</td>\n      <td>2.0</td>\n      <td>14.0</td>\n      <td>5.0</td>\n      <td>21.0</td>\n    </tr>\n    <tr>\n      <th>211499</th>\n      <td>2010-03-08 18:22:00.000000760</td>\n      <td>0.0</td>\n      <td>2010-03-08 18:22:00</td>\n      <td>-73.937353</td>\n      <td>40.758227</td>\n      <td>-73.937358</td>\n      <td>40.758230</td>\n      <td>1.0</td>\n      <td>0.000537</td>\n      <td>2010.0</td>\n      <td>3.0</td>\n      <td>8.0</td>\n      <td>0.0</td>\n      <td>18.0</td>\n    </tr>\n    <tr>\n      <th>670254</th>\n      <td>2015-02-22 19:26:37.000000500</td>\n      <td>0.0</td>\n      <td>2015-02-22 19:26:37</td>\n      <td>-73.994370</td>\n      <td>40.750725</td>\n      <td>-73.994370</td>\n      <td>40.750721</td>\n      <td>1.0</td>\n      <td>0.000424</td>\n      <td>2015.0</td>\n      <td>2.0</td>\n      <td>22.0</td>\n      <td>6.0</td>\n      <td>19.0</td>\n    </tr>\n    <tr>\n      <th>495273</th>\n      <td>2015-05-26 12:28:03.000000300</td>\n      <td>0.0</td>\n      <td>2015-05-26 12:28:03</td>\n      <td>-73.986473</td>\n      <td>40.721909</td>\n      <td>-73.986473</td>\n      <td>40.721905</td>\n      <td>1.0</td>\n      <td>0.000424</td>\n      <td>2015.0</td>\n      <td>5.0</td>\n      <td>26.0</td>\n      <td>1.0</td>\n      <td>12.0</td>\n    </tr>\n  </tbody>\n</table>\n</div>"
          },
          "metadata": {}
        }
      ]
    },
    {
      "metadata": {
        "trusted": true,
        "_uuid": "5f8dc527f881ec4e49aa0e64efc2bd97e78ce3fa"
      },
      "cell_type": "code",
      "source": "scenario_3['fare_amount'] = scenario_3.apply(\n    lambda row: ((row['H_Distance'] * 1.56) + 2.50), axis=1\n)",
      "execution_count": 137,
      "outputs": [
        {
          "output_type": "stream",
          "text": "/opt/conda/lib/python3.6/site-packages/ipykernel_launcher.py:2: SettingWithCopyWarning: \nA value is trying to be set on a copy of a slice from a DataFrame.\nTry using .loc[row_indexer,col_indexer] = value instead\n\nSee the caveats in the documentation: http://pandas.pydata.org/pandas-docs/stable/indexing.html#indexing-view-versus-copy\n  \n",
          "name": "stderr"
        }
      ]
    },
    {
      "metadata": {
        "trusted": true,
        "_uuid": "30d0234bb3f78667bca707e6c196f5546528e06e"
      },
      "cell_type": "code",
      "source": "train.update(scenario_3)",
      "execution_count": 138,
      "outputs": []
    },
    {
      "metadata": {
        "trusted": true,
        "_uuid": "52648d02988881d0544cbea1d9f1a8cb3600af08"
      },
      "cell_type": "code",
      "source": "scenario_4 = train.loc[(train['H_Distance']==0) & (train['fare_amount']!=0)]",
      "execution_count": 139,
      "outputs": []
    },
    {
      "metadata": {
        "trusted": true,
        "_uuid": "1794ccbd56dcb479ecea87bff84c260d4be1ed78"
      },
      "cell_type": "code",
      "source": "scenario_4_sub = scenario_4.loc[(scenario_4['fare_amount']>3.0)&(scenario_4['H_Distance']==0)]",
      "execution_count": 140,
      "outputs": []
    },
    {
      "metadata": {
        "trusted": true,
        "_uuid": "36756bc0939790cec1dd73c44e68d864b5a65ae8"
      },
      "cell_type": "code",
      "source": "scenario_4_sub['H_Distance'] = scenario_4_sub.apply(\nlambda row: ((row['fare_amount']-2.50)/1.56), axis=1\n)",
      "execution_count": 141,
      "outputs": [
        {
          "output_type": "stream",
          "text": "/opt/conda/lib/python3.6/site-packages/ipykernel_launcher.py:2: SettingWithCopyWarning: \nA value is trying to be set on a copy of a slice from a DataFrame.\nTry using .loc[row_indexer,col_indexer] = value instead\n\nSee the caveats in the documentation: http://pandas.pydata.org/pandas-docs/stable/indexing.html#indexing-view-versus-copy\n  \n",
          "name": "stderr"
        }
      ]
    },
    {
      "metadata": {
        "trusted": true,
        "_uuid": "07a50c5eb95991a2995e340255d1a7d6f0a22a0e"
      },
      "cell_type": "code",
      "source": "train.update(scenario_4_sub)",
      "execution_count": 142,
      "outputs": []
    },
    {
      "metadata": {
        "trusted": true,
        "_uuid": "bd4a7103e79757624ffb6ea050717e7bdd917149"
      },
      "cell_type": "code",
      "source": "train.columns",
      "execution_count": 143,
      "outputs": [
        {
          "output_type": "execute_result",
          "execution_count": 143,
          "data": {
            "text/plain": "Index(['key', 'fare_amount', 'pickup_datetime', 'pickup_longitude',\n       'pickup_latitude', 'dropoff_longitude', 'dropoff_latitude',\n       'passenger_count', 'H_Distance', 'Year', 'Month', 'Date', 'Day_of_week',\n       'Hour'],\n      dtype='object')"
          },
          "metadata": {}
        }
      ]
    },
    {
      "metadata": {
        "trusted": true,
        "_uuid": "1cafc15f83cb201ba62273b13b4760e113b6b328"
      },
      "cell_type": "code",
      "source": "test.columns",
      "execution_count": 144,
      "outputs": [
        {
          "output_type": "execute_result",
          "execution_count": 144,
          "data": {
            "text/plain": "Index(['key', 'pickup_datetime', 'pickup_longitude', 'pickup_latitude',\n       'dropoff_longitude', 'dropoff_latitude', 'passenger_count',\n       'H_Distance', 'Year', 'Month', 'Date', 'Day_of_week', 'Hour'],\n      dtype='object')"
          },
          "metadata": {}
        }
      ]
    },
    {
      "metadata": {
        "trusted": true,
        "_uuid": "6231af31327921a0ec8e81884d9d72c507e9b390"
      },
      "cell_type": "code",
      "source": "train = train.drop(['key','pickup_datetime'], axis = 1)\ntest = test.drop(['key','pickup_datetime'], axis = 1)",
      "execution_count": 145,
      "outputs": []
    },
    {
      "metadata": {
        "trusted": true,
        "_uuid": "4fc138ce3faf497d3a293c64fbb0bfc5e59e4f90"
      },
      "cell_type": "code",
      "source": "x_train = train.iloc[:,train.columns!='fare_amount']\ny_train = train['fare_amount'].values\nx_test = test",
      "execution_count": 146,
      "outputs": []
    },
    {
      "metadata": {
        "trusted": true,
        "_uuid": "8fba02c1b944309ef073212bd4c5ee84218e9fd6"
      },
      "cell_type": "code",
      "source": "from sklearn.ensemble import RandomForestRegressor\nrf = RandomForestRegressor()\nrf.fit(x_train, y_train)\nrf_predict = rf.predict(x_test)",
      "execution_count": 147,
      "outputs": [
        {
          "output_type": "stream",
          "text": "/opt/conda/lib/python3.6/site-packages/sklearn/ensemble/forest.py:246: FutureWarning: The default value of n_estimators will change from 10 in version 0.20 to 100 in 0.22.\n  \"10 in version 0.20 to 100 in 0.22.\", FutureWarning)\n",
          "name": "stderr"
        }
      ]
    },
    {
      "metadata": {
        "trusted": true,
        "_uuid": "c5e571e7c9dd3b2e9a068c5e1a0be5c5b7455a24"
      },
      "cell_type": "code",
      "source": "submission = pd.read_csv('../input/sample_submission.csv')\nsubmission['fare_amount'] = rf_predict\nsubmission.to_csv('submission_1.csv', index=False)\nsubmission.head(20)",
      "execution_count": 148,
      "outputs": [
        {
          "output_type": "execute_result",
          "execution_count": 148,
          "data": {
            "text/plain": "                            key  fare_amount\n0   2015-01-27 13:08:24.0000002        9.700\n1   2015-01-27 13:08:24.0000003       11.200\n2   2011-10-08 11:53:44.0000002        4.100\n3   2012-12-01 21:12:12.0000002        9.550\n4   2012-12-01 21:12:12.0000003       16.150\n5   2012-12-01 21:12:12.0000005       13.610\n6   2011-10-06 12:10:20.0000001        5.140\n7   2011-10-06 12:10:20.0000003       49.800\n8   2011-10-06 12:10:20.0000002       16.254\n9   2014-02-18 15:22:20.0000002        6.450\n10  2014-02-18 15:22:20.0000003        9.300\n11  2014-02-18 15:22:20.0000001       17.400\n12  2010-03-29 20:20:32.0000002        4.350\n13  2010-03-29 20:20:32.0000001        7.920\n14  2011-10-06 03:59:12.0000002        6.700\n15  2011-10-06 03:59:12.0000001       10.100\n16  2012-07-15 16:45:04.0000006       10.630\n17  2012-07-15 16:45:04.0000002        8.260\n18  2012-07-15 16:45:04.0000003        5.020\n19  2012-07-15 16:45:04.0000004        3.980",
            "text/html": "<div>\n<style scoped>\n    .dataframe tbody tr th:only-of-type {\n        vertical-align: middle;\n    }\n\n    .dataframe tbody tr th {\n        vertical-align: top;\n    }\n\n    .dataframe thead th {\n        text-align: right;\n    }\n</style>\n<table border=\"1\" class=\"dataframe\">\n  <thead>\n    <tr style=\"text-align: right;\">\n      <th></th>\n      <th>key</th>\n      <th>fare_amount</th>\n    </tr>\n  </thead>\n  <tbody>\n    <tr>\n      <th>0</th>\n      <td>2015-01-27 13:08:24.0000002</td>\n      <td>9.700</td>\n    </tr>\n    <tr>\n      <th>1</th>\n      <td>2015-01-27 13:08:24.0000003</td>\n      <td>11.200</td>\n    </tr>\n    <tr>\n      <th>2</th>\n      <td>2011-10-08 11:53:44.0000002</td>\n      <td>4.100</td>\n    </tr>\n    <tr>\n      <th>3</th>\n      <td>2012-12-01 21:12:12.0000002</td>\n      <td>9.550</td>\n    </tr>\n    <tr>\n      <th>4</th>\n      <td>2012-12-01 21:12:12.0000003</td>\n      <td>16.150</td>\n    </tr>\n    <tr>\n      <th>5</th>\n      <td>2012-12-01 21:12:12.0000005</td>\n      <td>13.610</td>\n    </tr>\n    <tr>\n      <th>6</th>\n      <td>2011-10-06 12:10:20.0000001</td>\n      <td>5.140</td>\n    </tr>\n    <tr>\n      <th>7</th>\n      <td>2011-10-06 12:10:20.0000003</td>\n      <td>49.800</td>\n    </tr>\n    <tr>\n      <th>8</th>\n      <td>2011-10-06 12:10:20.0000002</td>\n      <td>16.254</td>\n    </tr>\n    <tr>\n      <th>9</th>\n      <td>2014-02-18 15:22:20.0000002</td>\n      <td>6.450</td>\n    </tr>\n    <tr>\n      <th>10</th>\n      <td>2014-02-18 15:22:20.0000003</td>\n      <td>9.300</td>\n    </tr>\n    <tr>\n      <th>11</th>\n      <td>2014-02-18 15:22:20.0000001</td>\n      <td>17.400</td>\n    </tr>\n    <tr>\n      <th>12</th>\n      <td>2010-03-29 20:20:32.0000002</td>\n      <td>4.350</td>\n    </tr>\n    <tr>\n      <th>13</th>\n      <td>2010-03-29 20:20:32.0000001</td>\n      <td>7.920</td>\n    </tr>\n    <tr>\n      <th>14</th>\n      <td>2011-10-06 03:59:12.0000002</td>\n      <td>6.700</td>\n    </tr>\n    <tr>\n      <th>15</th>\n      <td>2011-10-06 03:59:12.0000001</td>\n      <td>10.100</td>\n    </tr>\n    <tr>\n      <th>16</th>\n      <td>2012-07-15 16:45:04.0000006</td>\n      <td>10.630</td>\n    </tr>\n    <tr>\n      <th>17</th>\n      <td>2012-07-15 16:45:04.0000002</td>\n      <td>8.260</td>\n    </tr>\n    <tr>\n      <th>18</th>\n      <td>2012-07-15 16:45:04.0000003</td>\n      <td>5.020</td>\n    </tr>\n    <tr>\n      <th>19</th>\n      <td>2012-07-15 16:45:04.0000004</td>\n      <td>3.980</td>\n    </tr>\n  </tbody>\n</table>\n</div>"
          },
          "metadata": {}
        }
      ]
    },
    {
      "metadata": {
        "trusted": true,
        "_uuid": "20d61930aed295f990c539aecd101bb0126762a4"
      },
      "cell_type": "code",
      "source": "",
      "execution_count": null,
      "outputs": []
    }
  ],
  "metadata": {
    "kernelspec": {
      "display_name": "Python 3",
      "language": "python",
      "name": "python3"
    },
    "language_info": {
      "name": "python",
      "version": "3.6.6",
      "mimetype": "text/x-python",
      "codemirror_mode": {
        "name": "ipython",
        "version": 3
      },
      "pygments_lexer": "ipython3",
      "nbconvert_exporter": "python",
      "file_extension": ".py"
    }
  },
  "nbformat": 4,
  "nbformat_minor": 1
}